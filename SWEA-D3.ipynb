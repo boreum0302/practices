{
 "cells": [
  {
   "cell_type": "markdown",
   "metadata": {},
   "source": [
    "# [1206](https://swexpertacademy.com/main/code/problem/problemDetail.do?problemLevel=3&contestProbId=AV134DPqAA8CFAYh&categoryId=AV134DPqAA8CFAYh&categoryType=CODE&problemTitle=&orderBy=INQUERY_COUNT&selectCodeLang=PYTHON&select-1=3&pageSize=10&pageIndex=1)"
   ]
  },
  {
   "cell_type": "code",
   "execution_count": 1,
   "metadata": {},
   "outputs": [
    {
     "data": {
      "text/plain": [
       "\"for t in range(10):\\n    N = int(input())\\n    case = list(map(int, input().split()))\\n    print('#%d' % (t + 1), solution(N, case))\""
      ]
     },
     "execution_count": 1,
     "metadata": {},
     "output_type": "execute_result"
    }
   ],
   "source": [
    "def solution(N, case):\n",
    "    \n",
    "    result = 0\n",
    "    \n",
    "    for idx in range(2, N - 2):\n",
    "        \n",
    "        result += max(case[idx] - max(case[idx - 2], case[idx - 1], case[idx + 1], case[idx + 2]), 0)\n",
    "    \n",
    "    return result\n",
    "\n",
    "'''for t in range(10):\n",
    "    N = int(input())\n",
    "    case = list(map(int, input().split()))\n",
    "    print('#%d' % (t + 1), solution(N, case))'''"
   ]
  },
  {
   "cell_type": "markdown",
   "metadata": {},
   "source": [
    "# [1244](https://swexpertacademy.com/main/code/problem/problemDetail.do?problemLevel=3&contestProbId=AV15Khn6AN0CFAYD&categoryId=AV15Khn6AN0CFAYD&categoryType=CODE&problemTitle=&orderBy=INQUERY_COUNT&selectCodeLang=PYTHON&select-1=3&pageSize=10&pageIndex=1)"
   ]
  },
  {
   "cell_type": "code",
   "execution_count": 2,
   "metadata": {},
   "outputs": [
    {
     "data": {
      "text/plain": [
       "\"T = int(input())\\nfor t in range(T):\\n    case, exchange = input().split()\\n    print('#%d' % (t + 1), solution(case, int(exchange)))\""
      ]
     },
     "execution_count": 2,
     "metadata": {},
     "output_type": "execute_result"
    }
   ],
   "source": [
    "def solution(case, exchange):\n",
    "    \n",
    "    N = len(case)\n",
    "    visited = set()\n",
    "    bfs_list = list()\n",
    "    queue = [[case, 0]]\n",
    "    \n",
    "    while len(queue) > 0:\n",
    "        \n",
    "        node, level = queue.pop(0)\n",
    "        \n",
    "        if node not in visited:\n",
    "            \n",
    "            visited.add(node)\n",
    "            bfs_list.append([int(node), level])\n",
    "            \n",
    "            for i in range(N - 1):\n",
    "                \n",
    "                for j in range(i + 1, N):\n",
    "                    \n",
    "                    tmp = list(node)\n",
    "                    tmp[i], tmp[j] = tmp[j], tmp[i]\n",
    "                    queue.append([''.join(tmp), level + 1])\n",
    "        \n",
    "    result = -1\n",
    "    \n",
    "    if len(set(list(case))) < len(case):\n",
    "        \n",
    "        for node, level in bfs_list:\n",
    "            \n",
    "            if level <= exchange and node > result:\n",
    "                \n",
    "                result = node\n",
    "    else:\n",
    "        \n",
    "        for node, level in bfs_list:\n",
    "            \n",
    "            if level <= exchange and level%2 == exchange%2 and node > result:\n",
    "                \n",
    "                result = node\n",
    "                \n",
    "    return result\n",
    "\n",
    "'''T = int(input())\n",
    "for t in range(T):\n",
    "    case, exchange = input().split()\n",
    "    print('#%d' % (t + 1), solution(case, int(exchange)))'''"
   ]
  },
  {
   "cell_type": "markdown",
   "metadata": {},
   "source": [
    "# [1208](https://swexpertacademy.com/main/code/problem/problemDetail.do?problemLevel=3&contestProbId=AV139KOaABgCFAYh&categoryId=AV139KOaABgCFAYh&categoryType=CODE&problemTitle=&orderBy=INQUERY_COUNT&selectCodeLang=PYTHON&select-1=3&pageSize=10&pageIndex=1)"
   ]
  },
  {
   "cell_type": "code",
   "execution_count": 3,
   "metadata": {},
   "outputs": [
    {
     "data": {
      "text/plain": [
       "\"for t in range(10):\\n    dump = int(input())\\n    height_list = list(map(int, input().split()))\\n    print('#%d' %(t + 1), solution(dump, height_list))\""
      ]
     },
     "execution_count": 3,
     "metadata": {},
     "output_type": "execute_result"
    }
   ],
   "source": [
    "import heapq\n",
    "\n",
    "def solution(dump, height_list):\n",
    "    \n",
    "    max_heap = [(-height, height) for height in height_list]\n",
    "    heapq.heapify(max_heap)\n",
    "    \n",
    "    min_heap = [height for height in height_list]\n",
    "    heapq.heapify(min_heap)\n",
    "    \n",
    "    for idx in range(dump):\n",
    "        \n",
    "        _, max_height = heapq.heappop(max_heap)\n",
    "        max_height -= 1\n",
    "        heapq.heappush(max_heap, (-max_height, max_height))\n",
    "        \n",
    "        min_height = heapq.heappop(min_heap)\n",
    "        min_height += 1\n",
    "        heapq.heappush(min_heap, min_height)\n",
    "        \n",
    "        result = max_heap[0][1] - min_heap[0]\n",
    "        \n",
    "        if result <= 1:\n",
    "            return result\n",
    "        \n",
    "    return result\n",
    "\n",
    "'''for t in range(10):\n",
    "    dump = int(input())\n",
    "    height_list = list(map(int, input().split()))\n",
    "    print('#%d' %(t + 1), solution(dump, height_list))'''"
   ]
  }
 ],
 "metadata": {
  "kernelspec": {
   "display_name": "Python 3",
   "language": "python",
   "name": "python3"
  },
  "language_info": {
   "codemirror_mode": {
    "name": "ipython",
    "version": 3
   },
   "file_extension": ".py",
   "mimetype": "text/x-python",
   "name": "python",
   "nbconvert_exporter": "python",
   "pygments_lexer": "ipython3",
   "version": "3.7.9"
  }
 },
 "nbformat": 4,
 "nbformat_minor": 4
}
