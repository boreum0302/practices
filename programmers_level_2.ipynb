{
 "cells": [
  {
   "cell_type": "markdown",
   "metadata": {},
   "source": [
    "#### https://programmers.co.kr/learn/courses/30/lessons/60057"
   ]
  },
  {
   "cell_type": "code",
   "execution_count": null,
   "metadata": {},
   "outputs": [],
   "source": [
    "def solution(s):\n",
    "    minimum = len(s)\n",
    "    for cut in range(1, len(s)//2 + 1):\n",
    "        counter = [[s[:cut], 1]]\n",
    "        for i in range(1, len(s)//cut):\n",
    "            if s[cut * i:cut * (i + 1)] == counter[-1][0]:\n",
    "                counter[-1][1] += 1\n",
    "            else:\n",
    "                counter.append([s[cut * i:cut * (i + 1)], 1])\n",
    "        length = cut * len(counter) + len(''.join(list(map(lambda x: str(x[1]) if x[1] > 1 else '', counter)))) + len(s)%cut\n",
    "        print(counter, length)\n",
    "        if length < minimum:\n",
    "            minimum = length\n",
    "    return minimum"
   ]
  },
  {
   "cell_type": "markdown",
   "metadata": {},
   "source": [
    "#### https://programmers.co.kr/learn/courses/30/lessons/60058"
   ]
  },
  {
   "cell_type": "code",
   "execution_count": null,
   "metadata": {},
   "outputs": [],
   "source": [
    "def solution(p):\n",
    "    \n",
    "    def is_correct(p):\n",
    "        stack = []\n",
    "        for i in range(len(p)):\n",
    "            if p[i] == '(':\n",
    "                stack.append(p[i])\n",
    "            if p[i] == ')': \n",
    "                if stack == []:\n",
    "                    return False\n",
    "                stack.pop()\n",
    "        return stack == []\n",
    "    \n",
    "    if is_correct(p):\n",
    "        return p\n",
    "    \n",
    "    def transform(w):\n",
    "        \n",
    "        if w == '':\n",
    "            return ''       \n",
    "        \n",
    "        stack = 0\n",
    "        for i in range(len(w)):\n",
    "            if w[i] == '(':\n",
    "                stack += 1\n",
    "            if w[i] == ')':\n",
    "                stack -= 1\n",
    "            if stack == 0:\n",
    "                break\n",
    "        u, v = w[:i + 1], w[i + 1:]\n",
    "        \n",
    "        if is_correct(u):\n",
    "            return u + transform(v)\n",
    "        \n",
    "        return '(' + transform(v) + ')' + ''.join(['(' if u[i] == ')' else ')' for i in range(1, len(u) - 1)])\n",
    "    \n",
    "    return transform(p)"
   ]
  },
  {
   "cell_type": "markdown",
   "metadata": {},
   "source": [
    "#### https://programmers.co.kr/learn/courses/30/lessons/12924"
   ]
  },
  {
   "cell_type": "code",
   "execution_count": null,
   "metadata": {},
   "outputs": [],
   "source": [
    "def solution(n):\n",
    "    answer = 0\n",
    "    for i in range(1, n + 1):\n",
    "        if (2 * n)%i == 0:\n",
    "            if (2 * n)//i - i + 1 > 0 and ((2 * n)//i - i + 1)%2 == 0:\n",
    "                answer += 1\n",
    "    return answer"
   ]
  },
  {
   "cell_type": "markdown",
   "metadata": {},
   "source": [
    "#### https://programmers.co.kr/learn/courses/30/lessons/12939"
   ]
  },
  {
   "cell_type": "code",
   "execution_count": null,
   "metadata": {},
   "outputs": [],
   "source": [
    "def solution(s):\n",
    "    s = list(map(int, s.split(' ')))\n",
    "    return str(min(s)) + ' ' + str(max(s))"
   ]
  },
  {
   "cell_type": "markdown",
   "metadata": {},
   "source": [
    "#### https://programmers.co.kr/learn/courses/30/lessons/12941"
   ]
  },
  {
   "cell_type": "code",
   "execution_count": 9,
   "metadata": {},
   "outputs": [],
   "source": [
    "def solution(A,B):\n",
    "    return sum([a * b for (a, b) in zip(sorted(A), sorted(B, reverse = True))])"
   ]
  },
  {
   "cell_type": "markdown",
   "metadata": {},
   "source": [
    "#### https://programmers.co.kr/learn/courses/30/lessons/12945"
   ]
  },
  {
   "cell_type": "code",
   "execution_count": 15,
   "metadata": {},
   "outputs": [],
   "source": [
    "def solution(n):\n",
    "    f0, f1 = 0, 1\n",
    "    for i in range(n - 1):\n",
    "        f0, f1 = f1%1234567, (f0 + f1)%1234567\n",
    "    return f1"
   ]
  },
  {
   "cell_type": "markdown",
   "metadata": {},
   "source": [
    "#### https://programmers.co.kr/learn/courses/30/lessons/12949"
   ]
  },
  {
   "cell_type": "code",
   "execution_count": 64,
   "metadata": {},
   "outputs": [],
   "source": [
    "def solution(arr1, arr2):\n",
    "    answer = []\n",
    "    for row in range(len(arr1)):\n",
    "        answer.append([])\n",
    "        for col in range(len(arr2[0])):\n",
    "            product = 0\n",
    "            for i in range(len(arr1[0])):\n",
    "                product += arr1[row][i]*arr2[i][col]\n",
    "            answer[row].append(product)\n",
    "    return answer"
   ]
  },
  {
   "cell_type": "markdown",
   "metadata": {},
   "source": [
    "#### https://programmers.co.kr/learn/courses/30/lessons/12951"
   ]
  },
  {
   "cell_type": "code",
   "execution_count": 81,
   "metadata": {},
   "outputs": [],
   "source": [
    "def solution(s):\n",
    "    s = list(s.lower())\n",
    "    s[0] = s[0].upper()\n",
    "    for i in range(1, len(s)):\n",
    "        if s[i - 1] == ' ':\n",
    "            s[i] = s[i].upper()\n",
    "    return ''.join(s)"
   ]
  }
 ],
 "metadata": {
  "kernelspec": {
   "display_name": "Python 3",
   "language": "python",
   "name": "python3"
  },
  "language_info": {
   "codemirror_mode": {
    "name": "ipython",
    "version": 3
   },
   "file_extension": ".py",
   "mimetype": "text/x-python",
   "name": "python",
   "nbconvert_exporter": "python",
   "pygments_lexer": "ipython3",
   "version": "3.7.6"
  }
 },
 "nbformat": 4,
 "nbformat_minor": 4
}
