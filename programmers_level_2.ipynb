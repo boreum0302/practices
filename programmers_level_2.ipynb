{
 "cells": [
  {
   "cell_type": "markdown",
   "metadata": {},
   "source": [
    "#### https://programmers.co.kr/learn/courses/30/lessons/60057"
   ]
  },
  {
   "cell_type": "code",
   "execution_count": null,
   "metadata": {},
   "outputs": [],
   "source": [
    "def solution(s):\n",
    "    minimum = len(s)\n",
    "    for cut in range(1, len(s)//2 + 1):\n",
    "        counter = [[s[:cut], 1]]\n",
    "        for i in range(1, len(s)//cut):\n",
    "            if s[cut * i:cut * (i + 1)] == counter[-1][0]:\n",
    "                counter[-1][1] += 1\n",
    "            else:\n",
    "                counter.append([s[cut * i:cut * (i + 1)], 1])\n",
    "        length = cut * len(counter) + len(''.join(list(map(lambda x: str(x[1]) if x[1] > 1 else '', counter)))) + len(s)%cut\n",
    "        print(counter, length)\n",
    "        if length < minimum:\n",
    "            minimum = length\n",
    "    return minimum"
   ]
  },
  {
   "cell_type": "markdown",
   "metadata": {},
   "source": [
    "#### https://programmers.co.kr/learn/courses/30/lessons/60058"
   ]
  },
  {
   "cell_type": "code",
   "execution_count": null,
   "metadata": {},
   "outputs": [],
   "source": [
    "def solution(p):\n",
    "    \n",
    "    def is_correct(p):\n",
    "        stack = []\n",
    "        for i in range(len(p)):\n",
    "            if p[i] == '(':\n",
    "                stack.append(p[i])\n",
    "            if p[i] == ')': \n",
    "                if stack == []:\n",
    "                    return False\n",
    "                stack.pop()\n",
    "        return stack == []\n",
    "    \n",
    "    if is_correct(p):\n",
    "        return p\n",
    "    \n",
    "    def transform(w):\n",
    "        \n",
    "        if w == '':\n",
    "            return ''       \n",
    "        \n",
    "        stack = 0\n",
    "        for i in range(len(w)):\n",
    "            if w[i] == '(':\n",
    "                stack += 1\n",
    "            if w[i] == ')':\n",
    "                stack -= 1\n",
    "            if stack == 0:\n",
    "                break\n",
    "        u, v = w[:i + 1], w[i + 1:]\n",
    "        \n",
    "        if is_correct(u):\n",
    "            return u + transform(v)\n",
    "        \n",
    "        return '(' + transform(v) + ')' + ''.join(['(' if u[i] == ')' else ')' for i in range(1, len(u) - 1)])\n",
    "    \n",
    "    return transform(p)"
   ]
  }
 ],
 "metadata": {
  "kernelspec": {
   "display_name": "Python 3",
   "language": "python",
   "name": "python3"
  },
  "language_info": {
   "codemirror_mode": {
    "name": "ipython",
    "version": 3
   },
   "file_extension": ".py",
   "mimetype": "text/x-python",
   "name": "python",
   "nbconvert_exporter": "python",
   "pygments_lexer": "ipython3",
   "version": "3.7.6"
  }
 },
 "nbformat": 4,
 "nbformat_minor": 4
}
