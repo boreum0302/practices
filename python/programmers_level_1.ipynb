{
 "cells": [
  {
   "cell_type": "markdown",
   "metadata": {},
   "source": [
    "#### https://programmers.co.kr/learn/courses/30/lessons/72410"
   ]
  },
  {
   "cell_type": "code",
   "execution_count": null,
   "metadata": {},
   "outputs": [],
   "source": [
    "def solution(new_id):\n",
    "    \n",
    "    import re\n",
    "    \n",
    "    p = '[a-z0-9-_\\.]'\n",
    "    answer = re.sub('\\.+', '.', ''.join(re.findall(p, new_id.lower()))).strip('.')\n",
    "    if answer == '': answer = 'a';\n",
    "    if len(answer) > 15: answer = answer[:15].strip('.')\n",
    "    if len(answer) <= 2: answer += answer[-1]*(3 - len(answer))\n",
    "    \n",
    "    return answer"
   ]
  },
  {
   "cell_type": "markdown",
   "metadata": {},
   "source": [
    "#### https://programmers.co.kr/learn/courses/30/lessons/67256"
   ]
  },
  {
   "cell_type": "code",
   "execution_count": null,
   "metadata": {},
   "outputs": [],
   "source": [
    "def distance(a, b):\n",
    "    return abs(a[0] - b[0]) + abs(a[1] - b[1])\n",
    "\n",
    "def solution(numbers, hand):\n",
    "    \n",
    "    keypad = {0:(1, 3)}\n",
    "    for n in range(9):\n",
    "        keypad[n + 1] = (n%3, n//3)\n",
    "        \n",
    "    thumb = {'left':(0, 3), 'right':(2, 3)}\n",
    "    \n",
    "    answer = ''\n",
    "\n",
    "    for num in numbers:\n",
    "        \n",
    "        if num in [1, 4, 7]:\n",
    "            answer += 'L'\n",
    "            thumb['left'] = keypad[num]\n",
    "            \n",
    "        if num in [3, 6, 9]:\n",
    "            answer += 'R'\n",
    "            thumb['right'] = keypad[num]\n",
    "            \n",
    "        if num in [2, 5, 8, 0]:\n",
    "            pos = keypad[num]\n",
    "            l_dist = distance(thumb['left'], pos)\n",
    "            r_dist = distance(thumb['right'], pos)\n",
    "            if l_dist < r_dist:\n",
    "                answer += 'L'\n",
    "                thumb['left'] = pos\n",
    "            if l_dist > r_dist:\n",
    "                answer += 'R'\n",
    "                thumb['right'] = pos\n",
    "            if l_dist == r_dist:\n",
    "                answer += 'L' if hand == 'left' else 'R'\n",
    "    return answer"
   ]
  },
  {
   "cell_type": "markdown",
   "metadata": {},
   "source": [
    "#### https://programmers.co.kr/learn/courses/30/lessons/76501"
   ]
  },
  {
   "cell_type": "code",
   "execution_count": null,
   "metadata": {},
   "outputs": [],
   "source": [
    "def solution(absolutes, signs):\n",
    "    return sum([a if s else (-1)*a for (a, s) in zip(absolutes, signs)])"
   ]
  }
 ],
 "metadata": {
  "kernelspec": {
   "display_name": "Python 3",
   "language": "python",
   "name": "python3"
  },
  "language_info": {
   "codemirror_mode": {
    "name": "ipython",
    "version": 3
   },
   "file_extension": ".py",
   "mimetype": "text/x-python",
   "name": "python",
   "nbconvert_exporter": "python",
   "pygments_lexer": "ipython3",
   "version": "3.7.9"
  }
 },
 "nbformat": 4,
 "nbformat_minor": 4
}
