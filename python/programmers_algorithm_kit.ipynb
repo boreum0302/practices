{
 "cells": [
  {
   "cell_type": "markdown",
   "metadata": {},
   "source": [
    "# Stack/Queue"
   ]
  },
  {
   "cell_type": "markdown",
   "metadata": {},
   "source": [
    "#### https://programmers.co.kr/learn/courses/30/lessons/42586"
   ]
  },
  {
   "cell_type": "code",
   "execution_count": 1,
   "metadata": {},
   "outputs": [],
   "source": [
    "class Queue():\n",
    "    \n",
    "    class EmptyError(Exception):\n",
    "        pass\n",
    "    \n",
    "    class Node:\n",
    "        def __init__(self, item, link):\n",
    "            self.item = item\n",
    "            self.next = link\n",
    "    \n",
    "    def __init__(self):\n",
    "        self.head = None\n",
    "        self.tail = None\n",
    "        self.size = 0\n",
    "\n",
    "    def size(self): return self.size\n",
    "    def is_empty(self): return self.size == 0        \n",
    "        \n",
    "    def add(self, item):\n",
    "        new_node = self.Node(item, None)\n",
    "        if self.is_empty():\n",
    "            self.head = new_node\n",
    "            self.tail = new_node\n",
    "        else:\n",
    "            self.tail.next = new_node\n",
    "            self.tail = new_node\n",
    "        self.size += 1\n",
    "    \n",
    "    def remove(self):\n",
    "        if self.is_empty():\n",
    "            raise EmptyError('Underflow')\n",
    "        else:\n",
    "            temp = self.head.item\n",
    "            self.head = self.head.next\n",
    "            self.size -= 1\n",
    "            if self.size == 0:\n",
    "                tail = None\n",
    "            return temp\n",
    "\n",
    "def solution(progresses, speeds):\n",
    "\n",
    "    answer = []\n",
    "    \n",
    "    def integer_quotient(A, B):\n",
    "        if A%B == 0: return A//B\n",
    "        else: return A//B + 1\n",
    "    \n",
    "    Q = Queue()\n",
    "    for i in range(len(progresses)):\n",
    "        Q.add([progresses[i], speeds[i]])\n",
    "        \n",
    "    while not Q.is_empty():\n",
    "        \n",
    "        p = Q.head\n",
    "        times = integer_quotient((100 - p.item[0]), p.item[1])\n",
    "        \n",
    "        while p != None:\n",
    "            p.item[0] += p.item[1] * times\n",
    "            p = p.next\n",
    "            \n",
    "        count = 0\n",
    "        while Q.head.item[0] >= 100:\n",
    "            Q.remove()\n",
    "            count += 1\n",
    "            if Q.is_empty():\n",
    "                break\n",
    "        \n",
    "        answer.append(count)\n",
    "    \n",
    "    return answer"
   ]
  },
  {
   "cell_type": "markdown",
   "metadata": {},
   "source": [
    "#### https://programmers.co.kr/learn/courses/30/lessons/42584"
   ]
  },
  {
   "cell_type": "code",
   "execution_count": 2,
   "metadata": {},
   "outputs": [],
   "source": [
    "def solution(prices):\n",
    "    answer = []\n",
    "    for i in range(len(prices) - 1):\n",
    "        count = 0\n",
    "        for j in range(i + 1, len(prices)):\n",
    "            if prices[i] > prices[j]:\n",
    "                count += 1\n",
    "                break\n",
    "            else:\n",
    "                count += 1\n",
    "        answer.append(count)\n",
    "    answer.append(0)\n",
    "    return answer"
   ]
  },
  {
   "cell_type": "markdown",
   "metadata": {},
   "source": [
    "#### https://programmers.co.kr/learn/courses/30/lessons/42585"
   ]
  },
  {
   "cell_type": "code",
   "execution_count": 3,
   "metadata": {},
   "outputs": [],
   "source": [
    "def solution(arrangement):\n",
    "    \n",
    "    Q = Queue()\n",
    "    for i in range(len(arrangement)):\n",
    "        Q.add(arrangement[i])\n",
    "    \n",
    "    bar, cnt, tmp = 0, 0, 0\n",
    "    while not Q.is_empty():\n",
    "        p = Q.head\n",
    "        if p.item == '(':\n",
    "            if p.next.item == '(': bar += 1; tmp += 1; Q.remove()\n",
    "            else: cnt += tmp; Q.remove(); Q.remove()\n",
    "        else: tmp -= 1; Q.remove()\n",
    "    \n",
    "    return bar + cnt"
   ]
  },
  {
   "cell_type": "markdown",
   "metadata": {},
   "source": [
    "#### https://programmers.co.kr/learn/courses/30/lessons/42588"
   ]
  },
  {
   "cell_type": "code",
   "execution_count": 4,
   "metadata": {},
   "outputs": [],
   "source": [
    "def solution(heights):\n",
    "    answer = [0] * len(heights)\n",
    "    for i in range(1, len(heights)):\n",
    "        for j in range(i - 1, -1, -1):\n",
    "            if heights[j] > heights[i]:\n",
    "                answer[i] = j + 1\n",
    "                break\n",
    "    return answer"
   ]
  },
  {
   "cell_type": "markdown",
   "metadata": {},
   "source": [
    "#### https://programmers.co.kr/learn/courses/30/lessons/42587"
   ]
  },
  {
   "cell_type": "code",
   "execution_count": 5,
   "metadata": {},
   "outputs": [],
   "source": [
    "def solution(priorities, location):\n",
    "\n",
    "    N = len(priorities)\n",
    "\n",
    "    for i in range(N): priorities[i] = [priorities[i], i]\n",
    "\n",
    "    while True:\n",
    "        tmp = priorities.pop(0)\n",
    "        if len(priorities) == 0: break\n",
    "        elif tmp[0] < max([x[0] for x in priorities]): priorities.append(tmp)\n",
    "        elif tmp[1] == location: break\n",
    "        else: continue\n",
    "\n",
    "    return N - len(priorities)"
   ]
  },
  {
   "cell_type": "markdown",
   "metadata": {},
   "source": [
    "#### https://programmers.co.kr/learn/courses/30/lessons/42583"
   ]
  },
  {
   "cell_type": "code",
   "execution_count": 6,
   "metadata": {},
   "outputs": [],
   "source": [
    "def solution(bridge_length, weight, truck_weights):\n",
    "\n",
    "    time, cnt, N, bridge, bridge_weight = 0, 0, len(truck_weights), [0] * bridge_length, 0\n",
    "\n",
    "    while cnt < N:\n",
    "\n",
    "        head = bridge.pop(0);\n",
    "        if head > 0:\n",
    "            bridge_weight -= head\n",
    "            cnt += 1\n",
    "\n",
    "        if len(truck_weights) == 0:\n",
    "            bridge.append(0)        \n",
    "        elif bridge_weight + truck_weights[0] <= weight:\n",
    "            bridge_weight += truck_weights[0]\n",
    "            bridge.append(truck_weights.pop(0))\n",
    "        else:\n",
    "            bridge.append(0)\n",
    "\n",
    "        time = time + 1\n",
    "\n",
    "    return time"
   ]
  },
  {
   "cell_type": "markdown",
   "metadata": {},
   "source": [
    "# Heap"
   ]
  },
  {
   "cell_type": "markdown",
   "metadata": {},
   "source": [
    "#### https://programmers.co.kr/learn/courses/30/lessons/42626"
   ]
  },
  {
   "cell_type": "code",
   "execution_count": 7,
   "metadata": {},
   "outputs": [],
   "source": [
    "def solution(scoville, K):\n",
    "    \n",
    "    import heapq\n",
    "    \n",
    "    N = len(scoville)\n",
    "    heapq.heapify(scoville)\n",
    "    while len(scoville) > 1:\n",
    "        first = heapq.heappop(scoville)\n",
    "        second = heapq.heappop(scoville)\n",
    "        heapq.heappush(scoville, first + second * 2)\n",
    "        if scoville[0] >= K:\n",
    "            break\n",
    "    if len(scoville) == 1 and scoville[0] < K:\n",
    "        return -1\n",
    "    return N - len(scoville)"
   ]
  },
  {
   "cell_type": "markdown",
   "metadata": {},
   "source": [
    "#### https://programmers.co.kr/learn/courses/30/lessons/42627"
   ]
  },
  {
   "cell_type": "code",
   "execution_count": 8,
   "metadata": {},
   "outputs": [],
   "source": [
    "def solution(jobs):\n",
    "    \n",
    "    import heapq\n",
    "    heapq.heapify(jobs)\n",
    "    n, x = len(jobs), heapq.heappop(jobs)\n",
    "    head, tail, time, Q = x[0], x[0] + x[1], x[1], []\n",
    "    \n",
    "    while len(jobs) > 0:\n",
    "        if tail <= jobs[0][0]:\n",
    "            x = heapq.heappop(jobs)\n",
    "            head = x[0]; tail = x[0] + x[1]; time += x[1]\n",
    "        else:\n",
    "            while len(jobs) > 0 and tail > jobs[0][0]:\n",
    "                q = heapq.heappop(jobs)\n",
    "                heapq.heappush(Q, [q[1], q[0]])\n",
    "            x = heapq.heappop(Q)\n",
    "            head = tail; tail = tail + x[0]; time += x[0] + head - x[1]\n",
    "            while len(Q) > 0:\n",
    "                q = heapq.heappop(Q)\n",
    "                heapq.heappush(jobs, [q[1], q[0]])                \n",
    "            \n",
    "    return time//n"
   ]
  },
  {
   "cell_type": "markdown",
   "metadata": {},
   "source": [
    "#### https://programmers.co.kr/learn/courses/30/lessons/42628"
   ]
  },
  {
   "cell_type": "code",
   "execution_count": 9,
   "metadata": {},
   "outputs": [],
   "source": [
    "def solution(operations):\n",
    "\n",
    "    import heapq as hq\n",
    "    min_q, max_q, size = [], [], 0\n",
    "\n",
    "    for i in range(len(operations)):\n",
    "        operator, num = operations[i][0], int(operations[i][2:])\n",
    "        if operator == \"I\":\n",
    "            size += 1\n",
    "            hq.heappush(min_q, num)\n",
    "            hq.heappush(max_q, -num)\n",
    "        else:\n",
    "            if size <= 1: min_q, max_q, size = [], [], 0\n",
    "            else:\n",
    "                if num == 1: hq.heappop(max_q)\n",
    "                else: hq.heappop(min_q)\n",
    "                size -= 1\n",
    "\n",
    "    if size == 0:\n",
    "        return [0, 0]\n",
    "    else:\n",
    "        return [-max_q[0], min_q[0]]"
   ]
  },
  {
   "cell_type": "markdown",
   "metadata": {},
   "source": [
    "# Binary Search"
   ]
  },
  {
   "cell_type": "markdown",
   "metadata": {},
   "source": [
    "#### https://programmers.co.kr/learn/courses/30/lessons/43237"
   ]
  },
  {
   "cell_type": "code",
   "execution_count": 10,
   "metadata": {},
   "outputs": [],
   "source": [
    "def solution(budgets, M):\n",
    "    \n",
    "    budgets = sorted(budgets)\n",
    "    lower, upper, N = M//len(budgets), budgets[-1], len(budgets)\n",
    "\n",
    "    def search(limit):\n",
    "        m = 0\n",
    "        for i in range(N):\n",
    "            if budgets[i] <= limit:\n",
    "                m += budgets[i]\n",
    "            else: \n",
    "                m += limit * (N - i)\n",
    "                break\n",
    "        return m\n",
    "    \n",
    "    while upper - lower > 1:\n",
    "        mid = (lower + upper)//2\n",
    "        if search(mid) < M:\n",
    "            lower = mid\n",
    "        else:\n",
    "            upper = mid\n",
    "\n",
    "    if search(upper) <= M:\n",
    "        return upper\n",
    "    return lower"
   ]
  },
  {
   "cell_type": "markdown",
   "metadata": {},
   "source": [
    "#### https://programmers.co.kr/learn/courses/30/lessons/43238"
   ]
  },
  {
   "cell_type": "code",
   "execution_count": 11,
   "metadata": {},
   "outputs": [],
   "source": [
    "def solution(n, times):\n",
    "    \n",
    "    times = sorted(times)\n",
    "    lower, upper = 0, n * times[0]\n",
    "    \n",
    "    while lower < upper + 1:\n",
    "        mid = (lower + upper)//2\n",
    "        count = 0\n",
    "        for i in range(len(times)):\n",
    "            count += mid//times[i]\n",
    "        if count >= n:\n",
    "            upper = mid - 1\n",
    "        else:\n",
    "            lower = mid + 1\n",
    "    return upper + 1"
   ]
  },
  {
   "cell_type": "markdown",
   "metadata": {},
   "source": [
    "# Hash"
   ]
  },
  {
   "cell_type": "markdown",
   "metadata": {},
   "source": [
    "#### https://programmers.co.kr/learn/courses/30/lessons/42576"
   ]
  },
  {
   "cell_type": "code",
   "execution_count": 12,
   "metadata": {},
   "outputs": [],
   "source": [
    "def solution(participant, completion):\n",
    "    participant.sort()\n",
    "    completion.sort()\n",
    "    completion.append(\"\")\n",
    "    for i in range(len(participant)):\n",
    "        if participant[i] != completion[i]:\n",
    "            return participant[i]\n",
    "    return answer"
   ]
  },
  {
   "cell_type": "code",
   "execution_count": 13,
   "metadata": {},
   "outputs": [],
   "source": [
    "def solution(participant, completion):\n",
    "    answer = ''\n",
    "    temp = 0\n",
    "    dic = {}\n",
    "    for part in participant:\n",
    "        dic[hash(part)] = part\n",
    "        temp += int(hash(part))\n",
    "    for com in completion:\n",
    "        temp -= hash(com)\n",
    "    answer = dic[temp]\n",
    "\n",
    "    return answer"
   ]
  },
  {
   "cell_type": "markdown",
   "metadata": {},
   "source": [
    "#### https://programmers.co.kr/learn/courses/30/lessons/42577"
   ]
  },
  {
   "cell_type": "code",
   "execution_count": 14,
   "metadata": {},
   "outputs": [],
   "source": [
    "def solution(phone_book):\n",
    "    for i in range(len(phone_book) - 1):\n",
    "        num_i = phone_book[i]\n",
    "        for j in range(i + 1, len(phone_book)):\n",
    "            num_j = phone_book[j]\n",
    "            if num_i == num_j: return False\n",
    "            if len(num_i) > len(num_j): num_i, num_j = num_j, num_i\n",
    "            if num_i == num_j[:len(num_i)]: return False\n",
    "    return True"
   ]
  },
  {
   "cell_type": "markdown",
   "metadata": {},
   "source": [
    "#### https://programmers.co.kr/learn/courses/30/lessons/42578"
   ]
  },
  {
   "cell_type": "code",
   "execution_count": 15,
   "metadata": {},
   "outputs": [],
   "source": [
    "def solution(clothes):\n",
    "    answer, combination = 1, {}\n",
    "    for i in range(len(clothes)):\n",
    "        combination[clothes[i][1]] = combination.get(clothes[i][1], 0) + 1\n",
    "    for value in combination.values():\n",
    "        answer *= value + 1\n",
    "    return answer - 1"
   ]
  },
  {
   "cell_type": "markdown",
   "metadata": {},
   "source": [
    "#### https://programmers.co.kr/learn/courses/30/lessons/42579"
   ]
  },
  {
   "cell_type": "code",
   "execution_count": 16,
   "metadata": {},
   "outputs": [],
   "source": [
    "def solution(genres, plays):\n",
    "    count, answer = {}, []\n",
    "    for i in range(len(genres)):\n",
    "        count[genres[i]] = count.get(genres[i], [0])\n",
    "        count[genres[i]].append((-plays[i], i))\n",
    "        count[genres[i]][0] -= plays[i]\n",
    "    count = sorted(count.values(), key = lambda x: x[0])\n",
    "    for i in range(len(count)):\n",
    "        temp = sorted(count[i][1:])\n",
    "        answer.append(temp[0][1])\n",
    "        if len(temp) > 1:\n",
    "            answer.append(temp[1][1])\n",
    "    return answer"
   ]
  },
  {
   "cell_type": "markdown",
   "metadata": {},
   "source": [
    "# Brute Force"
   ]
  },
  {
   "cell_type": "markdown",
   "metadata": {},
   "source": [
    "#### https://programmers.co.kr/learn/courses/30/lessons/42839"
   ]
  },
  {
   "cell_type": "code",
   "execution_count": 17,
   "metadata": {},
   "outputs": [],
   "source": [
    "from itertools import permutations\n",
    "\n",
    "def solution(numbers):\n",
    "    \n",
    "    def is_prime(n):\n",
    "        if n < 2: return False\n",
    "        if n == 2: return True\n",
    "        i = 2\n",
    "        while True:\n",
    "            if i**2 > n: return True\n",
    "            if n % i == 0: return False\n",
    "            i += 1            \n",
    "    \n",
    "    collection, answer = [], 0\n",
    "    for i in range(1, len(numbers) + 1):\n",
    "        for number in list(permutations(list(numbers), i)):\n",
    "            collection.append(int(''.join(number)))\n",
    "    \n",
    "    for number in set(collection):\n",
    "        if number > 0 and is_prime(number):\n",
    "            print(number)\n",
    "            answer += 1\n",
    "    return answer"
   ]
  },
  {
   "cell_type": "markdown",
   "metadata": {},
   "source": [
    "#### https://programmers.co.kr/learn/courses/30/lessons/42841"
   ]
  },
  {
   "cell_type": "code",
   "execution_count": 18,
   "metadata": {},
   "outputs": [],
   "source": [
    "from itertools import permutations\n",
    "\n",
    "def solution(baseball):\n",
    "    \n",
    "    def is_true(guess):\n",
    "        for i in range(len(baseball)):\n",
    "            number, strike, ball = str(baseball[i][0]), 0, 0\n",
    "            for j in range(3):\n",
    "                if number[j] == guess[j]: strike += 1\n",
    "                elif number[j] in list(guess): ball += 1\n",
    "            if strike != baseball[i][1] or ball != baseball[i][2]:\n",
    "                return False\n",
    "        return True\n",
    "    \n",
    "    answer = 0\n",
    "    for guess in list(permutations(list('123456789'), 3)):\n",
    "        guess = ''.join(guess)\n",
    "        if is_true(guess):\n",
    "            answer += 1\n",
    "    return answer"
   ]
  },
  {
   "cell_type": "markdown",
   "metadata": {},
   "source": [
    "#### https://programmers.co.kr/learn/courses/30/lessons/42842"
   ]
  },
  {
   "cell_type": "code",
   "execution_count": 19,
   "metadata": {},
   "outputs": [],
   "source": [
    "import math\n",
    "\n",
    "def solution(brown, red):\n",
    "    area = brown + red\n",
    "    for length in range(1, int(math.sqrt(area)) + 1):\n",
    "        if area % length == 0:\n",
    "            width = area//length\n",
    "            if red == (length - 2) * (width - 2):\n",
    "                return [width, length]"
   ]
  },
  {
   "cell_type": "markdown",
   "metadata": {},
   "source": [
    "# Greedy"
   ]
  },
  {
   "cell_type": "markdown",
   "metadata": {},
   "source": [
    "#### https://programmers.co.kr/learn/courses/30/lessons/42862"
   ]
  },
  {
   "cell_type": "code",
   "execution_count": 20,
   "metadata": {},
   "outputs": [],
   "source": [
    "def solution(n, lost, reserve):\n",
    "    \n",
    "    coppied_lost = list(set(lost) - set(reserve))\n",
    "    coppied_reserve = list(set(reserve) - set(lost))\n",
    "    count = 0\n",
    "    \n",
    "    for x in coppied_lost:\n",
    "        if x - 1 in coppied_reserve:\n",
    "            coppied_reserve.remove(x - 1)\n",
    "            count += 1\n",
    "        elif x + 1 in coppied_reserve:\n",
    "            coppied_reserve.remove(x + 1)\n",
    "            count += 1\n",
    "        else:\n",
    "            continue\n",
    "    \n",
    "    return n - (len(coppied_lost) - count)"
   ]
  },
  {
   "cell_type": "markdown",
   "metadata": {},
   "source": [
    "#### https://programmers.co.kr/learn/courses/30/lessons/42884"
   ]
  },
  {
   "cell_type": "code",
   "execution_count": 21,
   "metadata": {},
   "outputs": [],
   "source": [
    "def solution(routes):\n",
    "    routes.sort()\n",
    "    answer = 1\n",
    "    camera = routes[0][1]\n",
    "    for i in range(1, len(routes)):\n",
    "        if routes[i][1] < camera:\n",
    "            camera = routes[i][1]\n",
    "        if routes[i][0] > camera:\n",
    "            camera = routes[i][1]\n",
    "            answer += 1\n",
    "    return answer"
   ]
  },
  {
   "cell_type": "markdown",
   "metadata": {},
   "source": [
    "#### https://programmers.co.kr/learn/courses/30/lessons/42861"
   ]
  },
  {
   "cell_type": "code",
   "execution_count": 22,
   "metadata": {},
   "outputs": [],
   "source": [
    "def solution(n, costs):\n",
    "\n",
    "    if n == 0:\n",
    "        return 0\n",
    "\n",
    "    costs.sort(key = lambda x: x[2])\n",
    "    start = costs.pop(0)\n",
    "    connected, answer = [start[0], start[1]], start[2]\n",
    "    while len(connected) < n:\n",
    "        for i in range(len(costs)):\n",
    "            if costs[i][0] in connected and costs[i][1] not in connected:\n",
    "                temp = costs.pop(i)\n",
    "                connected.append(temp[1])\n",
    "                answer += temp[2]\n",
    "                break\n",
    "            if costs[i][1] in connected and costs[i][0] not in connected:\n",
    "                temp = costs.pop(i)\n",
    "                connected.append(temp[0])\n",
    "                answer += temp[2]\n",
    "                break\n",
    "\n",
    "    return answer"
   ]
  },
  {
   "cell_type": "markdown",
   "metadata": {},
   "source": [
    "#### https://programmers.co.kr/learn/courses/30/lessons/42886"
   ]
  },
  {
   "cell_type": "code",
   "execution_count": 23,
   "metadata": {},
   "outputs": [],
   "source": [
    "def solution(weight):\n",
    "    weight.sort()\n",
    "    s = 1\n",
    "    for i in range(len(weight)):\n",
    "        if s < weight[i]:\n",
    "            break\n",
    "        s += weight[i]\n",
    "    return s"
   ]
  },
  {
   "cell_type": "markdown",
   "metadata": {},
   "source": [
    "# DFS/BFS"
   ]
  },
  {
   "cell_type": "markdown",
   "metadata": {},
   "source": [
    "#### https://programmers.co.kr/learn/courses/30/lessons/43162"
   ]
  },
  {
   "cell_type": "code",
   "execution_count": 24,
   "metadata": {},
   "outputs": [],
   "source": [
    "def solution(n, computers):\n",
    "    \n",
    "    visited = [False] * n\n",
    "    answer = 0\n",
    "    \n",
    "    def dfs(v):\n",
    "        visited[v] = True\n",
    "        for adj_v in range(n):\n",
    "            if computers[v][adj_v] == 1 and v != adj_v and not visited[adj_v]:\n",
    "                dfs(adj_v)\n",
    "    \n",
    "    for v in range(n):\n",
    "        if not visited[v]:\n",
    "            dfs(v)\n",
    "            answer += 1\n",
    "    \n",
    "    return answer"
   ]
  },
  {
   "cell_type": "markdown",
   "metadata": {},
   "source": [
    "#### https://programmers.co.kr/learn/courses/30/lessons/43163"
   ]
  },
  {
   "cell_type": "code",
   "execution_count": 25,
   "metadata": {},
   "outputs": [],
   "source": [
    "import sys\n",
    "\n",
    "def solution(begin, target, words):\n",
    "    \n",
    "    def is_adj(word1, word2):\n",
    "        return sum([s1 != s2 for (s1, s2) in zip(list(word1), list(word2))]) == 1\n",
    "    if target not in words:\n",
    "        return 0\n",
    "    \n",
    "    words.append(begin)\n",
    "    adj_list, N = [], len(words)\n",
    "    for v in range(N):\n",
    "        v_list = []\n",
    "        for w in range(N):\n",
    "            if is_adj(words[v], words[w]):\n",
    "                v_list.append(w)\n",
    "        adj_list.append(v_list)\n",
    "    \n",
    "    visited, D, previous, start = [False] * N, [sys.maxsize] * N, [None] * N, -1\n",
    "    D[start], previous[start] = 0, start\n",
    "    \n",
    "    for v in range(N):\n",
    "        min_vertex = -1\n",
    "        min_value = sys.maxsize\n",
    "        for w in range(N):\n",
    "            if not visited[w] and D[w] < min_value:\n",
    "                min_vertex = w\n",
    "                min_value = D[w]\n",
    "        visited[min_vertex] = True\n",
    "        for adj_v in adj_list[min_vertex]:\n",
    "            if not visited[adj_v]:\n",
    "                if D[min_vertex] + 1 < D[adj_v]:\n",
    "                    D[adj_v] = D[min_vertex] + 1\n",
    "                    previous[adj_v] = min_vertex\n",
    "    \n",
    "    return D[words.index(target)]"
   ]
  },
  {
   "cell_type": "markdown",
   "metadata": {},
   "source": [
    "# Graph"
   ]
  },
  {
   "cell_type": "markdown",
   "metadata": {},
   "source": [
    "#### https://programmers.co.kr/learn/courses/30/lessons/49189"
   ]
  },
  {
   "cell_type": "code",
   "execution_count": 26,
   "metadata": {},
   "outputs": [],
   "source": [
    "import queue\n",
    "\n",
    "def solution(n, edge):\n",
    "    \n",
    "    graph = {}\n",
    "    for e in edge:\n",
    "        graph[(e[0] - 1)] = graph.get((e[0] - 1), []) + [(e[1] - 1)]\n",
    "        graph[(e[1] - 1)] = graph.get((e[1] - 1), []) + [(e[0] - 1)]\n",
    "    \n",
    "    visited = [False] * n\n",
    "    distance = [0] * n\n",
    "    \n",
    "    def bfs(v):\n",
    "        q = queue.Queue()\n",
    "        visited[v] = True\n",
    "        q.put(v)\n",
    "        while q.qsize() > 0:\n",
    "            v = q.get()\n",
    "            for adj_v in graph[v]:\n",
    "                if not visited[adj_v]:\n",
    "                    visited[adj_v] = True\n",
    "                    q.put(adj_v)\n",
    "                    distance[adj_v] = distance[v] + 1\n",
    "\n",
    "    for v in range(n):\n",
    "        if not visited[v]:\n",
    "            bfs(v)\n",
    "    \n",
    "    return distance.count(max(distance))"
   ]
  },
  {
   "cell_type": "markdown",
   "metadata": {},
   "source": [
    "#### https://programmers.co.kr/learn/courses/30/lessons/49191"
   ]
  },
  {
   "cell_type": "code",
   "execution_count": 27,
   "metadata": {},
   "outputs": [],
   "source": [
    " def DFS(n, adj_list, v):\n",
    "        \n",
    "    visited = [True] + [False] * n\n",
    "    dfs_list = []\n",
    "       \n",
    "    def dfs(v):\n",
    "        visited[v] = True\n",
    "        dfs_list.append(v)\n",
    "        for adj_v in adj_list.get(v, []):\n",
    "            if not visited[adj_v]:\n",
    "                dfs(adj_v)\n",
    "        \n",
    "    dfs(v)\n",
    "            \n",
    "    return dfs_list\n",
    "\n",
    "def solution(n, results):\n",
    "    \n",
    "    adj_W, adj_L = {}, {}\n",
    "    for r in results:\n",
    "        adj_W[r[0]] = adj_W.get(r[0], []) + [r[1]]\n",
    "        adj_L[r[1]] = adj_L.get(r[1], []) + [r[0]]\n",
    "\n",
    "    answer = 0\n",
    "    for i in range(1, n + 1):\n",
    "        if len(DFS(n, adj_W, i)) + len(DFS(n, adj_L, i)) == n + 1:\n",
    "            answer += 1\n",
    "            \n",
    "    return answer"
   ]
  },
  {
   "cell_type": "markdown",
   "metadata": {},
   "source": [
    "#### https://programmers.co.kr/learn/courses/30/lessons/49190"
   ]
  },
  {
   "cell_type": "code",
   "execution_count": 28,
   "metadata": {},
   "outputs": [],
   "source": [
    "import queue\n",
    "\n",
    "def solution(arrows):\n",
    "    \n",
    "    e, x, y = queue.Queue(), 0, 0\n",
    "    go = [[0, 1], [1, 1], [1, 0], [1, -1], [0, -1], [-1, -1], [-1, 0], [-1, 1]]\n",
    "    for a in arrows:\n",
    "        e.put([(x, y), (x + go[a][0], y + go[a][1])])\n",
    "        e.put([(x + go[a][0], y + go[a][1]), (x + 2 * go[a][0], y + 2 * go[a][1])])\n",
    "        x += 2 * go[a][0]\n",
    "        y += 2 * go[a][1]\n",
    "    \n",
    "    v_set, e_set, room = set(), set(), 0\n",
    "    for i in range(e.qsize()):\n",
    "        edge = e.get()\n",
    "        if edge[1] in v_set and frozenset(edge) not in e_set:\n",
    "            room += 1\n",
    "        v_set.add(edge[0])\n",
    "        v_set.add(edge[1])\n",
    "        e_set.add(frozenset(edge))\n",
    "        \n",
    "    return room"
   ]
  },
  {
   "cell_type": "markdown",
   "metadata": {},
   "source": [
    "# Dynamic Programming"
   ]
  },
  {
   "cell_type": "markdown",
   "metadata": {},
   "source": [
    "#### https://programmers.co.kr/learn/courses/30/lessons/43104"
   ]
  },
  {
   "cell_type": "code",
   "execution_count": 29,
   "metadata": {},
   "outputs": [],
   "source": [
    "def solution(N):\n",
    "    w, h = 1, 1\n",
    "    for i in range(N):\n",
    "        w, h = h, w + h\n",
    "    return 2 * h"
   ]
  },
  {
   "cell_type": "markdown",
   "metadata": {},
   "source": [
    "#### https://programmers.co.kr/learn/courses/30/lessons/43105"
   ]
  },
  {
   "cell_type": "code",
   "execution_count": 30,
   "metadata": {},
   "outputs": [],
   "source": [
    "def solution(tri):\n",
    "    for h in range(1, len(tri)):\n",
    "        tri[h][0] += tri[h - 1][0]\n",
    "        for i in range(1, len(tri[h]) - 1):\n",
    "            tri[h][i] += max(tri[h - 1][i - 1], tri[h - 1][i])\n",
    "        tri[h][-1] += tri[h -1][-1]\n",
    "    return max(tri[-1])"
   ]
  },
  {
   "cell_type": "markdown",
   "metadata": {},
   "source": [
    "#### https://programmers.co.kr/learn/courses/30/lessons/42898"
   ]
  },
  {
   "cell_type": "code",
   "execution_count": 31,
   "metadata": {},
   "outputs": [],
   "source": [
    "def solution(m, n, puddles):\n",
    "    \n",
    "    grid = [[0] * (m + 1) for i in range(n + 1)]\n",
    "        \n",
    "    for i in range(1, n + 1):\n",
    "        for j in range(1, m + 1):\n",
    "            if (i, j) == (1, 1):\n",
    "                grid[i][j] = 1\n",
    "            else:\n",
    "                grid[i][j] = (grid[i][j - 1] + grid[i - 1][j])%1000000007\n",
    "                if [j, i] in puddles:\n",
    "                    grid[i][j] = 0\n",
    "    \n",
    "    return grid[-1][-1]"
   ]
  }
 ],
 "metadata": {
  "kernelspec": {
   "display_name": "Python 3",
   "language": "python",
   "name": "python3"
  },
  "language_info": {
   "codemirror_mode": {
    "name": "ipython",
    "version": 3
   },
   "file_extension": ".py",
   "mimetype": "text/x-python",
   "name": "python",
   "nbconvert_exporter": "python",
   "pygments_lexer": "ipython3",
   "version": "3.7.6"
  }
 },
 "nbformat": 4,
 "nbformat_minor": 4
}
