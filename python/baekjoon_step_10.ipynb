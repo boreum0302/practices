{
 "cells": [
  {
   "cell_type": "markdown",
   "metadata": {},
   "source": [
    "# Recursion"
   ]
  },
  {
   "cell_type": "markdown",
   "metadata": {},
   "source": [
    "#### https://www.acmicpc.net/problem/2447  "
   ]
  },
  {
   "cell_type": "code",
   "execution_count": null,
   "metadata": {
    "scrolled": true
   },
   "outputs": [],
   "source": [
    "N = int(input())\n",
    "def star(N):\n",
    "    if N == 1:\n",
    "        return [['*']]\n",
    "    col1 = [_*3 for _ in star(N//3)]\n",
    "    col2 = [_+list(' '*(N//3))+_ for _ in star(N//3)]\n",
    "    return col1 + col2 + col1\n",
    "print('\\n'.join([''.join(_) for _ in star(N)]))"
   ]
  },
  {
   "cell_type": "markdown",
   "metadata": {},
   "source": [
    "#### https://www.acmicpc.net/problem/11729"
   ]
  },
  {
   "cell_type": "code",
   "execution_count": null,
   "metadata": {},
   "outputs": [],
   "source": [
    "N = int(input())\n",
    "def Hanoi(N, start, mid, end):\n",
    "    if N == 1:\n",
    "        print(start, end)\n",
    "    else:\n",
    "        Hanoi(N - 1, start, end, mid)\n",
    "        print(start, end)\n",
    "        Hanoi(N - 1, mid, start, end)\n",
    "print(2**N - 1)\n",
    "Hanoi(N, 1, 2, 3)"
   ]
  }
 ],
 "metadata": {
  "kernelspec": {
   "display_name": "Python 3",
   "language": "python",
   "name": "python3"
  },
  "language_info": {
   "codemirror_mode": {
    "name": "ipython",
    "version": 3
   },
   "file_extension": ".py",
   "mimetype": "text/x-python",
   "name": "python",
   "nbconvert_exporter": "python",
   "pygments_lexer": "ipython3",
   "version": "3.7.9"
  }
 },
 "nbformat": 4,
 "nbformat_minor": 4
}
