{
 "cells": [
  {
   "cell_type": "markdown",
   "metadata": {},
   "source": [
    "# Basic"
   ]
  },
  {
   "cell_type": "markdown",
   "metadata": {},
   "source": [
    "#### https://www.acmicpc.net/problem/10171"
   ]
  },
  {
   "cell_type": "code",
   "execution_count": null,
   "metadata": {},
   "outputs": [],
   "source": [
    "cat = '''\\    /\\\\\n",
    " )  ( ')\n",
    "(  /  )\n",
    " \\(__)|'''\n",
    "print(cat)"
   ]
  },
  {
   "cell_type": "markdown",
   "metadata": {},
   "source": [
    "#### https://www.acmicpc.net/problem/10172"
   ]
  },
  {
   "cell_type": "code",
   "execution_count": null,
   "metadata": {},
   "outputs": [],
   "source": [
    "dog = '''|\\_/|\n",
    "|q p|   /}\n",
    "( 0 )\"\"\"\\\\\n",
    "|\"^\"`    |\n",
    "||_/=\\\\\\\\__|'''\n",
    "print(dog)"
   ]
  },
  {
   "cell_type": "markdown",
   "metadata": {},
   "source": [
    "#### https://www.acmicpc.net/problem/1001"
   ]
  },
  {
   "cell_type": "code",
   "execution_count": null,
   "metadata": {},
   "outputs": [],
   "source": [
    "A, B = map(int, input().split())\n",
    "print(A - B)"
   ]
  },
  {
   "cell_type": "markdown",
   "metadata": {},
   "source": [
    "#### https://www.acmicpc.net/submit/10998"
   ]
  },
  {
   "cell_type": "code",
   "execution_count": null,
   "metadata": {},
   "outputs": [],
   "source": [
    "A, B = map(int, input().split())\n",
    "print(A * B)"
   ]
  },
  {
   "cell_type": "markdown",
   "metadata": {},
   "source": [
    "#### https://www.acmicpc.net/problem/1008"
   ]
  },
  {
   "cell_type": "code",
   "execution_count": null,
   "metadata": {},
   "outputs": [],
   "source": [
    "A, B = map(int, input().split())\n",
    "print(A / B)"
   ]
  },
  {
   "cell_type": "markdown",
   "metadata": {},
   "source": [
    "#### https://www.acmicpc.net/problem/10869"
   ]
  },
  {
   "cell_type": "code",
   "execution_count": null,
   "metadata": {},
   "outputs": [],
   "source": [
    "A, B = map(int, input().split())\n",
    "print(A + B)\n",
    "print(A - B)\n",
    "print(A * B)\n",
    "print(A // B)\n",
    "print(A % B)"
   ]
  },
  {
   "cell_type": "markdown",
   "metadata": {},
   "source": [
    "#### https://www.acmicpc.net/problem/10430"
   ]
  },
  {
   "cell_type": "code",
   "execution_count": null,
   "metadata": {},
   "outputs": [],
   "source": [
    "A, B, C = map(int, input().split())\n",
    "print((A+B)%C)\n",
    "print(((A%C)+(B%C))%C)\n",
    "print((A*B)%C)\n",
    "print(((A%C)*(B%C))%C)"
   ]
  },
  {
   "cell_type": "markdown",
   "metadata": {},
   "source": [
    "#### https://www.acmicpc.net/problem/1330"
   ]
  },
  {
   "cell_type": "code",
   "execution_count": null,
   "metadata": {},
   "outputs": [],
   "source": [
    "A, B = map(int, input().split())\n",
    "print('==' if A == B else ('>' if A>B else '<'))"
   ]
  },
  {
   "cell_type": "markdown",
   "metadata": {},
   "source": [
    "#### https://www.acmicpc.net/problem/9498"
   ]
  },
  {
   "cell_type": "code",
   "execution_count": null,
   "metadata": {},
   "outputs": [],
   "source": [
    "score = int(input())\n",
    "print('A' if score >= 90 else ('B' if score >= 80 else ('C' if score >= 70 else ('D' if score >= 60 else 'F'))))"
   ]
  },
  {
   "cell_type": "markdown",
   "metadata": {},
   "source": [
    "#### https://www.acmicpc.net/problem/2753"
   ]
  },
  {
   "cell_type": "code",
   "execution_count": null,
   "metadata": {},
   "outputs": [],
   "source": [
    "year = int(input())\n",
    "print(1 if (not year%4 and year%100) or not year%400 else 0)"
   ]
  },
  {
   "cell_type": "markdown",
   "metadata": {},
   "source": [
    "#### https://www.acmicpc.net/problem/14681"
   ]
  },
  {
   "cell_type": "code",
   "execution_count": null,
   "metadata": {},
   "outputs": [],
   "source": [
    "x = int(input())\n",
    "y = int(input())\n",
    "print(((1 if y > 0 else 4) if x > 0 else (2 if y > 0 else 3)))"
   ]
  },
  {
   "cell_type": "markdown",
   "metadata": {},
   "source": [
    "#### https://www.acmicpc.net/problem/2884"
   ]
  },
  {
   "cell_type": "code",
   "execution_count": null,
   "metadata": {},
   "outputs": [],
   "source": [
    "H, M = map(int, input().split())\n",
    "print(((H*60+M-45)//60)%24, (H*60+M-45)%60)"
   ]
  },
  {
   "cell_type": "markdown",
   "metadata": {},
   "source": [
    "#### https://www.acmicpc.net/problem/2588"
   ]
  },
  {
   "cell_type": "code",
   "execution_count": null,
   "metadata": {},
   "outputs": [],
   "source": [
    "a = int(input())\n",
    "b = input()\n",
    "for i in range(3):\n",
    "    print(a*int(b[2-i]))\n",
    "print(a*int(b))"
   ]
  },
  {
   "cell_type": "markdown",
   "metadata": {},
   "source": [
    "# Recursion"
   ]
  },
  {
   "cell_type": "markdown",
   "metadata": {},
   "source": [
    "#### https://www.acmicpc.net/problem/2447  "
   ]
  },
  {
   "cell_type": "code",
   "execution_count": null,
   "metadata": {
    "scrolled": true
   },
   "outputs": [],
   "source": [
    "N = int(input())\n",
    "def star(N):\n",
    "    if N == 1:\n",
    "        return [['*']]\n",
    "    col1 = [_*3 for _ in star(N//3)]\n",
    "    col2 = [_+list(' '*(N//3))+_ for _ in star(N//3)]\n",
    "    return col1 + col2 + col1\n",
    "print('\\n'.join([''.join(_) for _ in star(N)]))"
   ]
  },
  {
   "cell_type": "markdown",
   "metadata": {},
   "source": [
    "#### https://www.acmicpc.net/problem/11729"
   ]
  },
  {
   "cell_type": "code",
   "execution_count": null,
   "metadata": {},
   "outputs": [],
   "source": [
    "N = int(input())\n",
    "def Hanoi(N, start, mid, end):\n",
    "    if N == 1:\n",
    "        print(start, end)\n",
    "    else:\n",
    "        Hanoi(N - 1, start, end, mid)\n",
    "        print(start, end)\n",
    "        Hanoi(N - 1, mid, start, end)\n",
    "print(2**N - 1)\n",
    "Hanoi(N, 1, 2, 3)"
   ]
  },
  {
   "cell_type": "markdown",
   "metadata": {},
   "source": [
    "# Backtracking"
   ]
  },
  {
   "cell_type": "markdown",
   "metadata": {},
   "source": [
    "#### https://www.acmicpc.net/problem/15649"
   ]
  },
  {
   "cell_type": "code",
   "execution_count": null,
   "metadata": {},
   "outputs": [],
   "source": [
    "N, M = map(int, input().split())\n",
    "\n",
    "def DFS(cur_level, cur_list):\n",
    "    if cur_level == M:\n",
    "        for num in cur_list:\n",
    "            print(num, end = ' ')\n",
    "        print()\n",
    "    for i in range(1, N + 1):\n",
    "        if i not in cur_list:\n",
    "            cur_list.append(i)\n",
    "            DFS(cur_level + 1, cur_list)\n",
    "            cur_list.pop()\n",
    "\n",
    "DFS(0, [])"
   ]
  },
  {
   "cell_type": "markdown",
   "metadata": {},
   "source": [
    "#### https://www.acmicpc.net/problem/15650"
   ]
  },
  {
   "cell_type": "code",
   "execution_count": null,
   "metadata": {},
   "outputs": [],
   "source": [
    "N, M = map(int, input().split())\n",
    "\n",
    "def DFS(cur_level, cur_list):\n",
    "    if cur_level == M:\n",
    "        for num in cur_list[1:]:\n",
    "            print(num, end = ' ')\n",
    "        print()\n",
    "    for i in range(1, N + 1):\n",
    "        if i not in cur_list and i > cur_list[-1]:\n",
    "            cur_list.append(i)\n",
    "            DFS(cur_level + 1, cur_list)\n",
    "            cur_list.pop()\n",
    "\n",
    "DFS(0, [0])"
   ]
  },
  {
   "cell_type": "markdown",
   "metadata": {},
   "source": [
    "#### https://www.acmicpc.net/problem/15651"
   ]
  },
  {
   "cell_type": "code",
   "execution_count": null,
   "metadata": {},
   "outputs": [],
   "source": [
    "N, M = map(int, input().split())\n",
    "\n",
    "def DFS(cur_level, cur_list, result):\n",
    "    if cur_level == M:\n",
    "        result.add(tuple(cur_list[:]))\n",
    "        return\n",
    "    for i in range(1, N + 1):\n",
    "        cur_list.append(i)\n",
    "        DFS(cur_level + 1, cur_list, result)\n",
    "        cur_list.pop()\n",
    "\n",
    "result = set()\n",
    "DFS(0, [], result)\n",
    "result = sorted(list(result))\n",
    "for i in range(len(result)):\n",
    "    for num in result[i]:\n",
    "        print(num, end = ' ')\n",
    "    print()"
   ]
  },
  {
   "cell_type": "markdown",
   "metadata": {},
   "source": [
    "#### https://www.acmicpc.net/problem/15652"
   ]
  },
  {
   "cell_type": "code",
   "execution_count": null,
   "metadata": {},
   "outputs": [],
   "source": [
    "N, M = map(int, input().split())\n",
    "\n",
    "def DFS(cur_level, cur_list, result):\n",
    "    if cur_level == M:\n",
    "        result.add(tuple(cur_list[1:]))\n",
    "        return\n",
    "    for i in range(1, N + 1):\n",
    "        if i >= cur_list[-1]:\n",
    "            cur_list.append(i)\n",
    "            DFS(cur_level + 1, cur_list, result)\n",
    "            cur_list.pop()\n",
    "\n",
    "result = set()\n",
    "DFS(0, [0], result)\n",
    "result = sorted(list(result))\n",
    "for i in range(len(result)):\n",
    "    for num in result[i]:\n",
    "        print(num, end = ' ')\n",
    "    print()"
   ]
  },
  {
   "cell_type": "markdown",
   "metadata": {},
   "source": [
    "# Brute Force"
   ]
  },
  {
   "cell_type": "markdown",
   "metadata": {},
   "source": [
    "#### https://www.acmicpc.net/problem/14888"
   ]
  },
  {
   "cell_type": "code",
   "execution_count": null,
   "metadata": {},
   "outputs": [],
   "source": [
    "import sys\n",
    "import itertools\n",
    "\n",
    "N = int(input())\n",
    "numbers = list(map(int, input().split()))\n",
    "operators = list(map(int, input().split()))\n",
    "operators = list(set(itertools.permutations('+'*operators[0] + '-'*operators[1] + '*'*operators[2] + '/'*operators[3])))\n",
    "max_ = -sys.maxsize\n",
    "min_ = sys.maxsize\n",
    "\n",
    "for opr in operators:\n",
    "    result = numbers[0]\n",
    "    for i in range(N - 1):\n",
    "        if opr[i] == '+':\n",
    "            result = result + numbers[i + 1]\n",
    "        elif opr[i] == '-':\n",
    "            result = result - numbers[i + 1]\n",
    "        elif opr[i] == '*':\n",
    "            result = result * numbers[i + 1]\n",
    "        else:\n",
    "            result = int(result/numbers[i + 1])\n",
    "    if result > max_:\n",
    "        max_ = result\n",
    "        oprmax_ = opr\n",
    "    if result < min_:\n",
    "        min_ = result\n",
    "        oprmin_ = opr\n",
    "\n",
    "print(max_)\n",
    "print(min_)"
   ]
  },
  {
   "cell_type": "markdown",
   "metadata": {},
   "source": [
    "#### https://www.acmicpc.net/problem/14889"
   ]
  },
  {
   "cell_type": "code",
   "execution_count": null,
   "metadata": {},
   "outputs": [],
   "source": [
    "import itertools\n",
    "import sys\n",
    "\n",
    "N = int(input())\n",
    "S = []\n",
    "answer = sys.maxsize\n",
    "\n",
    "for i in range(N):\n",
    "    S.append(list(map(int, input().split())))\n",
    "    \n",
    "for team in itertools.combinations(range(N), N//2):\n",
    "    score_1, score_2 = 0, 0\n",
    "    for i in range(N//2 - 1):\n",
    "        for j in range(i + 1, N//2):\n",
    "            score_1 += (S[team[i]][team[j]] + S[team[j]][team[i]])\n",
    "    team = list(set(range(N)) - set(team))\n",
    "    for i in range(N//2 - 1):\n",
    "        for j in range(i + 1, N//2):\n",
    "            score_2 += (S[team[i]][team[j]] + S[team[j]][team[i]])\n",
    "    gap = abs(score_1 - score_2)\n",
    "    if gap < answer:\n",
    "        answer = gap\n",
    "    \n",
    "print(answer)"
   ]
  },
  {
   "cell_type": "markdown",
   "metadata": {},
   "source": [
    "# Dynamic Programming"
   ]
  },
  {
   "cell_type": "markdown",
   "metadata": {},
   "source": [
    "#### https://www.acmicpc.net/problem/2748"
   ]
  },
  {
   "cell_type": "code",
   "execution_count": null,
   "metadata": {},
   "outputs": [],
   "source": [
    "n, a, b = int(input()), 0, 1\n",
    "\n",
    "if n == 0:\n",
    "    print(a)\n",
    "else:\n",
    "    for _ in range(n - 1):\n",
    "        a, b = b, a + b\n",
    "    print(b)"
   ]
  },
  {
   "cell_type": "markdown",
   "metadata": {},
   "source": [
    "#### https://www.acmicpc.net/problem/1003"
   ]
  },
  {
   "cell_type": "code",
   "execution_count": null,
   "metadata": {},
   "outputs": [],
   "source": [
    "T = int(input())\n",
    "test_case = [int(input()) for _ in range(T)]\n",
    "\n",
    "def fibonacci(n, num):\n",
    "    if n == 0:\n",
    "        return 1 if num == 0 else 0\n",
    "    elif n == 1:\n",
    "        return 0 if num == 0 else 1\n",
    "    else:\n",
    "        a, b = 0, 1\n",
    "        for _ in range(n - 1):\n",
    "            a, b = b, a + b\n",
    "        return a if num == 0 else b\n",
    "\n",
    "for i in range(T):\n",
    "    print(fibonacci(test_case[i], 0), fibonacci(test_case[i], 1), sep=' ')"
   ]
  },
  {
   "cell_type": "markdown",
   "metadata": {},
   "source": [
    "#### https://www.acmicpc.net/problem/1904"
   ]
  },
  {
   "cell_type": "code",
   "execution_count": null,
   "metadata": {},
   "outputs": [],
   "source": [
    "N = int(input())\n",
    "a, b = 0, 1\n",
    "for _ in range(N):\n",
    "    a, b = b%15746, (a + b)%15746\n",
    "print(b)"
   ]
  },
  {
   "cell_type": "markdown",
   "metadata": {},
   "source": [
    "#### https://www.acmicpc.net/problem/9461"
   ]
  },
  {
   "cell_type": "code",
   "execution_count": null,
   "metadata": {},
   "outputs": [],
   "source": [
    "T = int(input())\n",
    "test_case = [int(input()) for _ in range(T)]\n",
    "\n",
    "def solution(N):\n",
    "    if N <= 3:\n",
    "        return 1\n",
    "    elif N <= 5:\n",
    "        return 2\n",
    "    else:\n",
    "        a, b, c, d, e = 1, 1, 1, 2, 2\n",
    "        for _ in range(N - 5):\n",
    "            a, b, c, d, e = b, c, d, e, a + e\n",
    "        return e\n",
    "\n",
    "for i in range(T):\n",
    "    print(solution(test_case[i]))"
   ]
  },
  {
   "cell_type": "markdown",
   "metadata": {},
   "source": [
    "#### https://www.acmicpc.net/problem/1149"
   ]
  },
  {
   "cell_type": "code",
   "execution_count": null,
   "metadata": {},
   "outputs": [],
   "source": [
    "N = int(input())\n",
    "house = [list(map(int, input().split())) for _ in range(N)]\n",
    "\n",
    "for i in range(1, N):\n",
    "    for j in range(3):\n",
    "        previous = house[i - 1][:]\n",
    "        del previous[j]\n",
    "        house[i][j] += min(previous)\n",
    "\n",
    "print(min(house[-1]))"
   ]
  },
  {
   "cell_type": "markdown",
   "metadata": {},
   "source": [
    "#### https://www.acmicpc.net/problem/1932"
   ]
  },
  {
   "cell_type": "code",
   "execution_count": null,
   "metadata": {},
   "outputs": [],
   "source": [
    "N = int(input())\n",
    "tri = [list(map(int, input().split())) for _ in range(N)]\n",
    "\n",
    "for i in range(1, N):\n",
    "    tri[i][0] += tri[i - 1][0]\n",
    "    for j in range(1, i):\n",
    "        tri[i][j] += max(tri[i - 1][j - 1], tri[i - 1][j])\n",
    "    tri[i][-1] += tri[i - 1][-1]\n",
    "    \n",
    "print(max(tri[-1]))"
   ]
  },
  {
   "cell_type": "markdown",
   "metadata": {},
   "source": [
    "#### https://www.acmicpc.net/problem/2579"
   ]
  },
  {
   "cell_type": "code",
   "execution_count": null,
   "metadata": {},
   "outputs": [],
   "source": [
    "N = int(input())\n",
    "stairs = [int(input()) for _ in range(N)]\n",
    "\n",
    "if N == 1:\n",
    "    print(stairs[0])\n",
    "elif N == 2:\n",
    "    print(sum(stairs[:2]))\n",
    "elif N == 3:\n",
    "    print(max(stairs[:2]) + stairs[2])\n",
    "else:\n",
    "    DP = [0 for _ in range(N)]\n",
    "    DP[0] = stairs[0]\n",
    "    DP[1] = sum(stairs[:2])\n",
    "    DP[2] = max(stairs[:2]) + stairs[2]\n",
    "    for i in range(3, N):\n",
    "        DP[i] = stairs[i] + max(DP[i - 2], stairs[i - 1] + DP[i - 3])\n",
    "    print(DP[-1])"
   ]
  },
  {
   "cell_type": "markdown",
   "metadata": {},
   "source": [
    "#### https://www.acmicpc.net/problem/1463"
   ]
  },
  {
   "cell_type": "code",
   "execution_count": null,
   "metadata": {},
   "outputs": [],
   "source": [
    "N  = int(input())\n",
    "DP = [i - 1 for i in range(N + 1)]\n",
    "\n",
    "for i in range(1, N + 1):\n",
    "    DP[i] = DP[i - 1] + 1\n",
    "    if i%2 == 0:\n",
    "        DP[i] = min(DP[i], DP[i//2] + 1)\n",
    "    if i%3 == 0:\n",
    "        DP[i] = min(DP[i], DP[i//3] + 1)\n",
    "print(DP[N])"
   ]
  },
  {
   "cell_type": "markdown",
   "metadata": {},
   "source": [
    "#### https://www.acmicpc.net/problem/10844"
   ]
  },
  {
   "cell_type": "code",
   "execution_count": null,
   "metadata": {},
   "outputs": [],
   "source": [
    "N = int(input())\n",
    "DP = [0 for _ in range(N + 1)]\n",
    "DP[1] = 9\n",
    "DP[2] = DP[1]*2\n",
    "for i in range(3, N + 1):\n",
    "    DP[i] = DP[1]*2 - 1\n",
    "print(DP[N])"
   ]
  },
  {
   "cell_type": "markdown",
   "metadata": {},
   "source": [
    "#### https://www.acmicpc.net/problem/10844"
   ]
  },
  {
   "cell_type": "code",
   "execution_count": null,
   "metadata": {},
   "outputs": [],
   "source": [
    "N = int(input())\n",
    "\n",
    "DP = [[0]*10 for _ in range(N + 1)]\n",
    "for i in range(1, 10):\n",
    "    DP[1][i] = 1\n",
    "for n in range(1, N):\n",
    "    DP[n + 1][0] = DP[n][1]%1000000000\n",
    "    DP[n + 1][9] = DP[n][8]%1000000000\n",
    "    for i in range(1, 9):\n",
    "        DP[n + 1][i] = (DP[n][i - 1] + DP[n][i + 1])%1000000000\n",
    "\n",
    "print(sum(DP[N])%1000000000)"
   ]
  },
  {
   "cell_type": "markdown",
   "metadata": {},
   "source": [
    "#### https://www.acmicpc.net/problem/2156"
   ]
  },
  {
   "cell_type": "code",
   "execution_count": null,
   "metadata": {},
   "outputs": [],
   "source": [
    "n = int(input())\n",
    "grape = [0] + [int(input()) for _ in range(n)]\n",
    "\n",
    "DP = [0 for _ in range(n + 1)]\n",
    "DP[1] = grape[1]\n",
    "if n >=2:\n",
    "    DP[2] = grape[1] + grape[2]\n",
    "if n >=3:\n",
    "    DP[3] = max(DP[2], grape[1] + grape[3], grape[2] + grape[3])\n",
    "\n",
    "for i in range(4, n + 1):\n",
    "    DP[i] = max(DP[i - 1], DP[i - 2] + grape[i], DP[i - 3] + grape[i] + grape[i - 1])\n",
    "\n",
    "print(DP[n])"
   ]
  },
  {
   "cell_type": "markdown",
   "metadata": {},
   "source": [
    "#### https://www.acmicpc.net/problem/11053"
   ]
  },
  {
   "cell_type": "code",
   "execution_count": null,
   "metadata": {},
   "outputs": [],
   "source": [
    "N = int(input())\n",
    "A = list(map(int, input().split()))\n",
    "DP = [1] + [0]*(N - 1)\n",
    "for i in range(1, N):\n",
    "    max_ = 0\n",
    "    for j in range(i):\n",
    "        if A[j] < A[i] and DP[j] > max_:\n",
    "            max_ = DP[j]\n",
    "    DP[i] = max_ + 1\n",
    "print(max(DP))"
   ]
  },
  {
   "cell_type": "markdown",
   "metadata": {},
   "source": [
    "#### https://www.acmicpc.net/problem/11054"
   ]
  },
  {
   "cell_type": "code",
   "execution_count": null,
   "metadata": {},
   "outputs": [],
   "source": [
    "N = int(input())\n",
    "A = list(map(int, input().split()))\n",
    "DP1 = [1] + [0]*(N - 1)\n",
    "DP2 = [0]*(N - 1) + [1]\n",
    "for i in range(1, N):\n",
    "    max_ = 0\n",
    "    for j in range(i):\n",
    "        if A[j] < A[i] and DP1[j] > max_:\n",
    "            max_ = DP1[j]\n",
    "    DP1[i] = max_ + 1\n",
    "for i in range(N - 2, -1, -1):\n",
    "    max_ = 0\n",
    "    for j in range(N - 1, i, -1):\n",
    "        if A[i] > A[j] and DP2[j] > max_:\n",
    "            max_ = DP2[j]\n",
    "    DP2[i] = max_ + 1\n",
    "print(max([DP1[i] + DP2[i] for i in range(N)]) - 1)"
   ]
  },
  {
   "cell_type": "markdown",
   "metadata": {},
   "source": [
    "#### https://www.acmicpc.net/problem/2565"
   ]
  },
  {
   "cell_type": "code",
   "execution_count": null,
   "metadata": {},
   "outputs": [],
   "source": [
    "n = int(input())\n",
    "l = [tuple(map(int, input().split())) for _ in range(n)]\n",
    "s = [_[1] for _ in sorted(l)]\n",
    "\n",
    "DP = [1] + [0]*(n - 1)\n",
    "for i in range(1, n):\n",
    "    max_ = 0\n",
    "    for j in range(i):\n",
    "        if s[j] < s[i] and DP[j] > max_:\n",
    "            max_ = DP[j]\n",
    "    DP[i] = max_ + 1\n",
    "    \n",
    "print(n - max(DP))"
   ]
  },
  {
   "cell_type": "markdown",
   "metadata": {},
   "source": [
    "#### https://www.acmicpc.net/problem/9251"
   ]
  },
  {
   "cell_type": "code",
   "execution_count": null,
   "metadata": {},
   "outputs": [],
   "source": [
    "s1 = input()\n",
    "s2 = input()\n",
    "\n",
    "matrix = [[0]*(len(s2) + 1) for _ in range(len(s1) + 1)]\n",
    "for i in range(1, len(s1) + 1):\n",
    "    for j in range(1, len(s2) + 1):\n",
    "        if s1[i - 1] == s2[j - 1]:\n",
    "            matrix[i][j] = matrix[i - 1][j - 1] + 1\n",
    "        else:\n",
    "            matrix[i][j] = max(matrix[i - 1][j], matrix[i][j - 1])\n",
    "\n",
    "print(matrix[-1][-1])"
   ]
  },
  {
   "cell_type": "markdown",
   "metadata": {},
   "source": [
    "#### https://www.acmicpc.net/problem/1912"
   ]
  },
  {
   "cell_type": "code",
   "execution_count": null,
   "metadata": {},
   "outputs": [],
   "source": [
    "n = int(input())\n",
    "x = list(map(int, input().split()))\n",
    "max_ = x[0]\n",
    "\n",
    "for i in range(1, n):\n",
    "    if x[i - 1] > 0 and x[i] + x[i - 1] > 0:\n",
    "        x[i] = x[i] + x[i - 1]\n",
    "    if x[i] > max_:\n",
    "        max_ = x[i]\n",
    "\n",
    "print(max_)"
   ]
  },
  {
   "cell_type": "markdown",
   "metadata": {},
   "source": [
    "#### https://www.acmicpc.net/problem/12865"
   ]
  },
  {
   "cell_type": "code",
   "execution_count": null,
   "metadata": {},
   "outputs": [],
   "source": [
    "n, k = map(int, input().split())\n",
    "\n",
    "weight, value = [0], [0]\n",
    "for _ in range(n):\n",
    "    w, v = map(int, input().split())\n",
    "    weight.append(w)\n",
    "    value.append(v)\n",
    "\n",
    "dp = [[0 for _ in range(k + 1)] for _ in range(n + 1)]\n",
    "for i in range(1, n + 1):\n",
    "    for j in range(1, k + 1):\n",
    "        if weight[i] > j:\n",
    "            dp[i][j] = dp[i - 1][j]\n",
    "        else:\n",
    "            dp[i][j] = max(dp[i - 1][j], dp[i - 1][j - weight[i]] + value[i])\n",
    "\n",
    "print(dp[-1][-1])"
   ]
  }
 ],
 "metadata": {
  "kernelspec": {
   "display_name": "Python 3",
   "language": "python",
   "name": "python3"
  },
  "language_info": {
   "codemirror_mode": {
    "name": "ipython",
    "version": 3
   },
   "file_extension": ".py",
   "mimetype": "text/x-python",
   "name": "python",
   "nbconvert_exporter": "python",
   "pygments_lexer": "ipython3",
   "version": "3.7.6"
  }
 },
 "nbformat": 4,
 "nbformat_minor": 4
}
