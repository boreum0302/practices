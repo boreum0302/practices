{
 "cells": [
  {
   "cell_type": "markdown",
   "metadata": {},
   "source": [
    "# Basic"
   ]
  },
  {
   "cell_type": "markdown",
   "metadata": {},
   "source": [
    "#### https://www.acmicpc.net/problem/10171"
   ]
  },
  {
   "cell_type": "code",
   "execution_count": null,
   "metadata": {},
   "outputs": [],
   "source": [
    "cat = '''\\    /\\\\\n",
    " )  ( ')\n",
    "(  /  )\n",
    " \\(__)|'''\n",
    "print(cat)"
   ]
  },
  {
   "cell_type": "markdown",
   "metadata": {},
   "source": [
    "#### https://www.acmicpc.net/problem/10172"
   ]
  },
  {
   "cell_type": "code",
   "execution_count": null,
   "metadata": {},
   "outputs": [],
   "source": [
    "dog = '''|\\_/|\n",
    "|q p|   /}\n",
    "( 0 )\"\"\"\\\\\n",
    "|\"^\"`    |\n",
    "||_/=\\\\\\\\__|'''\n",
    "print(dog)"
   ]
  },
  {
   "cell_type": "markdown",
   "metadata": {},
   "source": [
    "#### https://www.acmicpc.net/problem/1001"
   ]
  },
  {
   "cell_type": "code",
   "execution_count": null,
   "metadata": {},
   "outputs": [],
   "source": [
    "A, B = map(int, input().split())\n",
    "print(A - B)"
   ]
  },
  {
   "cell_type": "markdown",
   "metadata": {},
   "source": [
    "#### https://www.acmicpc.net/submit/10998"
   ]
  },
  {
   "cell_type": "code",
   "execution_count": null,
   "metadata": {},
   "outputs": [],
   "source": [
    "A, B = map(int, input().split())\n",
    "print(A * B)"
   ]
  },
  {
   "cell_type": "markdown",
   "metadata": {},
   "source": [
    "#### https://www.acmicpc.net/problem/1008"
   ]
  },
  {
   "cell_type": "code",
   "execution_count": null,
   "metadata": {},
   "outputs": [],
   "source": [
    "A, B = map(int, input().split())\n",
    "print(A / B)"
   ]
  },
  {
   "cell_type": "markdown",
   "metadata": {},
   "source": [
    "#### https://www.acmicpc.net/problem/10869"
   ]
  },
  {
   "cell_type": "code",
   "execution_count": null,
   "metadata": {},
   "outputs": [],
   "source": [
    "A, B = map(int, input().split())\n",
    "print(A + B)\n",
    "print(A - B)\n",
    "print(A * B)\n",
    "print(A // B)\n",
    "print(A % B)"
   ]
  },
  {
   "cell_type": "markdown",
   "metadata": {},
   "source": [
    "#### https://www.acmicpc.net/problem/10430"
   ]
  },
  {
   "cell_type": "code",
   "execution_count": null,
   "metadata": {},
   "outputs": [],
   "source": [
    "A, B, C = map(int, input().split())\n",
    "print((A+B)%C)\n",
    "print(((A%C)+(B%C))%C)\n",
    "print((A*B)%C)\n",
    "print(((A%C)*(B%C))%C)"
   ]
  },
  {
   "cell_type": "markdown",
   "metadata": {},
   "source": [
    "#### https://www.acmicpc.net/problem/1330"
   ]
  },
  {
   "cell_type": "code",
   "execution_count": null,
   "metadata": {},
   "outputs": [],
   "source": [
    "A, B = map(int, input().split())\n",
    "print('==' if A == B else ('>' if A>B else '<'))"
   ]
  },
  {
   "cell_type": "markdown",
   "metadata": {},
   "source": [
    "#### https://www.acmicpc.net/problem/9498"
   ]
  },
  {
   "cell_type": "code",
   "execution_count": null,
   "metadata": {},
   "outputs": [],
   "source": [
    "score = int(input())\n",
    "print('A' if score >= 90 else ('B' if score >= 80 else ('C' if score >= 70 else ('D' if score >= 60 else 'F'))))"
   ]
  },
  {
   "cell_type": "markdown",
   "metadata": {},
   "source": [
    "#### https://www.acmicpc.net/problem/2753"
   ]
  },
  {
   "cell_type": "code",
   "execution_count": null,
   "metadata": {},
   "outputs": [],
   "source": [
    "year = int(input())\n",
    "print(1 if (not year%4 and year%100) or not year%400 else 0)"
   ]
  },
  {
   "cell_type": "markdown",
   "metadata": {},
   "source": [
    "#### https://www.acmicpc.net/problem/14681"
   ]
  },
  {
   "cell_type": "code",
   "execution_count": null,
   "metadata": {},
   "outputs": [],
   "source": [
    "x = int(input())\n",
    "y = int(input())\n",
    "print(((1 if y > 0 else 4) if x > 0 else (2 if y > 0 else 3)))"
   ]
  },
  {
   "cell_type": "markdown",
   "metadata": {},
   "source": [
    "#### https://www.acmicpc.net/problem/2884"
   ]
  },
  {
   "cell_type": "code",
   "execution_count": null,
   "metadata": {},
   "outputs": [],
   "source": [
    "H, M = map(int, input().split())\n",
    "print(((H*60+M-45)//60)%24, (H*60+M-45)%60)"
   ]
  },
  {
   "cell_type": "markdown",
   "metadata": {},
   "source": [
    "#### https://www.acmicpc.net/problem/2588"
   ]
  },
  {
   "cell_type": "code",
   "execution_count": null,
   "metadata": {},
   "outputs": [],
   "source": [
    "a = int(input())\n",
    "b = input()\n",
    "for i in range(3):\n",
    "    print(a*int(b[2-i]))\n",
    "print(a*int(b))"
   ]
  },
  {
   "cell_type": "markdown",
   "metadata": {},
   "source": [
    "# Recursion"
   ]
  },
  {
   "cell_type": "markdown",
   "metadata": {},
   "source": [
    "#### https://www.acmicpc.net/problem/2447  "
   ]
  },
  {
   "cell_type": "code",
   "execution_count": null,
   "metadata": {
    "scrolled": true
   },
   "outputs": [],
   "source": [
    "N = int(input())\n",
    "def star(N):\n",
    "    if N == 1:\n",
    "        return [['*']]\n",
    "    col1 = [_*3 for _ in star(N//3)]\n",
    "    col2 = [_+list(' '*(N//3))+_ for _ in star(N//3)]\n",
    "    return col1 + col2 + col1\n",
    "print('\\n'.join([''.join(_) for _ in star(N)]))"
   ]
  },
  {
   "cell_type": "markdown",
   "metadata": {},
   "source": [
    "#### https://www.acmicpc.net/problem/11729"
   ]
  },
  {
   "cell_type": "code",
   "execution_count": null,
   "metadata": {},
   "outputs": [],
   "source": [
    "N = int(input())\n",
    "def Hanoi(N, start, mid, end):\n",
    "    if N == 1:\n",
    "        print(start, end)\n",
    "    else:\n",
    "        Hanoi(N - 1, start, end, mid)\n",
    "        print(start, end)\n",
    "        Hanoi(N - 1, mid, start, end)\n",
    "print(2**N - 1)\n",
    "Hanoi(N, 1, 2, 3)"
   ]
  },
  {
   "cell_type": "markdown",
   "metadata": {},
   "source": [
    "# Backtracking"
   ]
  },
  {
   "cell_type": "markdown",
   "metadata": {},
   "source": [
    "#### https://www.acmicpc.net/problem/15649"
   ]
  },
  {
   "cell_type": "code",
   "execution_count": null,
   "metadata": {},
   "outputs": [],
   "source": [
    "N, M = map(int, input().split())\n",
    "\n",
    "def DFS(cur_level, cur_list):\n",
    "    if cur_level == M:\n",
    "        for num in cur_list:\n",
    "            print(num, end = ' ')\n",
    "        print()\n",
    "    for i in range(1, N + 1):\n",
    "        if i not in cur_list:\n",
    "            cur_list.append(i)\n",
    "            DFS(cur_level + 1, cur_list)\n",
    "            cur_list.pop()\n",
    "\n",
    "DFS(0, [])"
   ]
  },
  {
   "cell_type": "markdown",
   "metadata": {},
   "source": [
    "#### https://www.acmicpc.net/problem/15650"
   ]
  },
  {
   "cell_type": "code",
   "execution_count": null,
   "metadata": {},
   "outputs": [],
   "source": [
    "N, M = map(int, input().split())\n",
    "\n",
    "def DFS(cur_level, cur_list):\n",
    "    if cur_level == M:\n",
    "        for num in cur_list[1:]:\n",
    "            print(num, end = ' ')\n",
    "        print()\n",
    "    for i in range(1, N + 1):\n",
    "        if i not in cur_list and i > cur_list[-1]:\n",
    "            cur_list.append(i)\n",
    "            DFS(cur_level + 1, cur_list)\n",
    "            cur_list.pop()\n",
    "\n",
    "DFS(0, [0])"
   ]
  },
  {
   "cell_type": "markdown",
   "metadata": {},
   "source": [
    "#### https://www.acmicpc.net/problem/15651"
   ]
  },
  {
   "cell_type": "code",
   "execution_count": null,
   "metadata": {},
   "outputs": [],
   "source": [
    "N, M = map(int, input().split())\n",
    "\n",
    "def DFS(cur_level, cur_list, result):\n",
    "    if cur_level == M:\n",
    "        result.add(tuple(cur_list[:]))\n",
    "        return\n",
    "    for i in range(1, N + 1):\n",
    "        cur_list.append(i)\n",
    "        DFS(cur_level + 1, cur_list, result)\n",
    "        cur_list.pop()\n",
    "\n",
    "result = set()\n",
    "DFS(0, [], result)\n",
    "result = sorted(list(result))\n",
    "for i in range(len(result)):\n",
    "    for num in result[i]:\n",
    "        print(num, end = ' ')\n",
    "    print()"
   ]
  },
  {
   "cell_type": "markdown",
   "metadata": {},
   "source": [
    "#### https://www.acmicpc.net/problem/15652"
   ]
  },
  {
   "cell_type": "code",
   "execution_count": null,
   "metadata": {},
   "outputs": [],
   "source": [
    "N, M = map(int, input().split())\n",
    "\n",
    "def DFS(cur_level, cur_list, result):\n",
    "    if cur_level == M:\n",
    "        result.add(tuple(cur_list[1:]))\n",
    "        return\n",
    "    for i in range(1, N + 1):\n",
    "        if i >= cur_list[-1]:\n",
    "            cur_list.append(i)\n",
    "            DFS(cur_level + 1, cur_list, result)\n",
    "            cur_list.pop()\n",
    "\n",
    "result = set()\n",
    "DFS(0, [0], result)\n",
    "result = sorted(list(result))\n",
    "for i in range(len(result)):\n",
    "    for num in result[i]:\n",
    "        print(num, end = ' ')\n",
    "    print()"
   ]
  }
 ],
 "metadata": {
  "kernelspec": {
   "display_name": "Python 3",
   "language": "python",
   "name": "python3"
  },
  "language_info": {
   "codemirror_mode": {
    "name": "ipython",
    "version": 3
   },
   "file_extension": ".py",
   "mimetype": "text/x-python",
   "name": "python",
   "nbconvert_exporter": "python",
   "pygments_lexer": "ipython3",
   "version": "3.7.6"
  }
 },
 "nbformat": 4,
 "nbformat_minor": 4
}
