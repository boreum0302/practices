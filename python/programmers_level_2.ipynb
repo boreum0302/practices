{
 "cells": [
  {
   "cell_type": "markdown",
   "metadata": {},
   "source": [
    "#### https://programmers.co.kr/learn/courses/30/lessons/60057"
   ]
  },
  {
   "cell_type": "code",
   "execution_count": null,
   "metadata": {},
   "outputs": [],
   "source": [
    "def solution(s):\n",
    "    minimum = len(s)\n",
    "    for cut in range(1, len(s)//2 + 1):\n",
    "        counter = [[s[:cut], 1]]\n",
    "        for i in range(1, len(s)//cut):\n",
    "            if s[cut * i:cut * (i + 1)] == counter[-1][0]:\n",
    "                counter[-1][1] += 1\n",
    "            else:\n",
    "                counter.append([s[cut * i:cut * (i + 1)], 1])\n",
    "        length = cut * len(counter) + len(''.join(list(map(lambda x: str(x[1]) if x[1] > 1 else '', counter)))) + len(s)%cut\n",
    "        print(counter, length)\n",
    "        if length < minimum:\n",
    "            minimum = length\n",
    "    return minimum"
   ]
  },
  {
   "cell_type": "markdown",
   "metadata": {},
   "source": [
    "#### https://programmers.co.kr/learn/courses/30/lessons/60058"
   ]
  },
  {
   "cell_type": "code",
   "execution_count": null,
   "metadata": {},
   "outputs": [],
   "source": [
    "def solution(p):\n",
    "    \n",
    "    def is_correct(p):\n",
    "        stack = []\n",
    "        for i in range(len(p)):\n",
    "            if p[i] == '(':\n",
    "                stack.append(p[i])\n",
    "            if p[i] == ')': \n",
    "                if stack == []:\n",
    "                    return False\n",
    "                stack.pop()\n",
    "        return stack == []\n",
    "    \n",
    "    if is_correct(p):\n",
    "        return p\n",
    "    \n",
    "    def transform(w):\n",
    "        \n",
    "        if w == '':\n",
    "            return ''       \n",
    "        \n",
    "        stack = 0\n",
    "        for i in range(len(w)):\n",
    "            if w[i] == '(':\n",
    "                stack += 1\n",
    "            if w[i] == ')':\n",
    "                stack -= 1\n",
    "            if stack == 0:\n",
    "                break\n",
    "        u, v = w[:i + 1], w[i + 1:]\n",
    "        \n",
    "        if is_correct(u):\n",
    "            return u + transform(v)\n",
    "        \n",
    "        return '(' + transform(v) + ')' + ''.join(['(' if u[i] == ')' else ')' for i in range(1, len(u) - 1)])\n",
    "    \n",
    "    return transform(p)"
   ]
  },
  {
   "cell_type": "markdown",
   "metadata": {},
   "source": [
    "#### https://programmers.co.kr/learn/courses/30/lessons/12924"
   ]
  },
  {
   "cell_type": "code",
   "execution_count": null,
   "metadata": {},
   "outputs": [],
   "source": [
    "def solution(n):\n",
    "    answer = 0\n",
    "    for i in range(1, n + 1):\n",
    "        if (2 * n)%i == 0:\n",
    "            if (2 * n)//i - i + 1 > 0 and ((2 * n)//i - i + 1)%2 == 0:\n",
    "                answer += 1\n",
    "    return answer"
   ]
  },
  {
   "cell_type": "markdown",
   "metadata": {},
   "source": [
    "#### https://programmers.co.kr/learn/courses/30/lessons/12939"
   ]
  },
  {
   "cell_type": "code",
   "execution_count": null,
   "metadata": {},
   "outputs": [],
   "source": [
    "def solution(s):\n",
    "    s = list(map(int, s.split(' ')))\n",
    "    return str(min(s)) + ' ' + str(max(s))"
   ]
  },
  {
   "cell_type": "markdown",
   "metadata": {},
   "source": [
    "#### https://programmers.co.kr/learn/courses/30/lessons/12941"
   ]
  },
  {
   "cell_type": "code",
   "execution_count": null,
   "metadata": {},
   "outputs": [],
   "source": [
    "def solution(A,B):\n",
    "    return sum([a * b for (a, b) in zip(sorted(A), sorted(B, reverse = True))])"
   ]
  },
  {
   "cell_type": "markdown",
   "metadata": {},
   "source": [
    "#### https://programmers.co.kr/learn/courses/30/lessons/12945"
   ]
  },
  {
   "cell_type": "code",
   "execution_count": null,
   "metadata": {},
   "outputs": [],
   "source": [
    "def solution(n):\n",
    "    f0, f1 = 0, 1\n",
    "    for i in range(n - 1):\n",
    "        f0, f1 = f1%1234567, (f0 + f1)%1234567\n",
    "    return f1"
   ]
  },
  {
   "cell_type": "markdown",
   "metadata": {},
   "source": [
    "#### https://programmers.co.kr/learn/courses/30/lessons/12949"
   ]
  },
  {
   "cell_type": "code",
   "execution_count": null,
   "metadata": {},
   "outputs": [],
   "source": [
    "def solution(arr1, arr2):\n",
    "    answer = []\n",
    "    for row in range(len(arr1)):\n",
    "        answer.append([])\n",
    "        for col in range(len(arr2[0])):\n",
    "            product = 0\n",
    "            for i in range(len(arr1[0])):\n",
    "                product += arr1[row][i]*arr2[i][col]\n",
    "            answer[row].append(product)\n",
    "    return answer"
   ]
  },
  {
   "cell_type": "markdown",
   "metadata": {},
   "source": [
    "#### https://programmers.co.kr/learn/courses/30/lessons/12951"
   ]
  },
  {
   "cell_type": "code",
   "execution_count": null,
   "metadata": {},
   "outputs": [],
   "source": [
    "def solution(s):\n",
    "    s = list(s.lower())\n",
    "    s[0] = s[0].upper()\n",
    "    for i in range(1, len(s)):\n",
    "        if s[i - 1] == ' ':\n",
    "            s[i] = s[i].upper()\n",
    "    return ''.join(s)"
   ]
  },
  {
   "cell_type": "markdown",
   "metadata": {},
   "source": [
    "#### https://programmers.co.kr/learn/courses/30/lessons/12953"
   ]
  },
  {
   "cell_type": "code",
   "execution_count": null,
   "metadata": {},
   "outputs": [],
   "source": [
    "def solution(arr):\n",
    "    \n",
    "    def gcd(m, n):\n",
    "        if m < n:\n",
    "            m, n = n, m\n",
    "        if n == 0:\n",
    "            return m\n",
    "        if m % n == 0:\n",
    "            return n\n",
    "        else:\n",
    "            return gcd(n, m % n)\n",
    "\n",
    "    GCD, LCM = arr[0], arr[0]\n",
    "    for i in range(1, len(arr)):\n",
    "        GCD = gcd(GCD, arr[i])\n",
    "        LCM = LCM * arr[i] // GCD\n",
    "        print(GCD, LCM)\n",
    "    \n",
    "    return LCM"
   ]
  },
  {
   "cell_type": "markdown",
   "metadata": {},
   "source": [
    "#### https://programmers.co.kr/learn/courses/30/lessons/12973"
   ]
  },
  {
   "cell_type": "code",
   "execution_count": null,
   "metadata": {},
   "outputs": [],
   "source": [
    "from collections import deque\n",
    "\n",
    "def solution(s):\n",
    "    \n",
    "    stack = deque([])\n",
    "        \n",
    "    for i in range(len(s)):\n",
    "        if len(stack) == 0:\n",
    "            stack.append(s[i])\n",
    "            continue\n",
    "        if s[i] == stack[-1]:\n",
    "            stack.pop()\n",
    "        else:\n",
    "            stack.append(s[i])\n",
    "    \n",
    "    if len(stack) == 0:\n",
    "        return 1\n",
    "    return 0"
   ]
  },
  {
   "cell_type": "markdown",
   "metadata": {},
   "source": [
    "#### https://programmers.co.kr/learn/courses/30/lessons/12980"
   ]
  },
  {
   "cell_type": "code",
   "execution_count": null,
   "metadata": {},
   "outputs": [],
   "source": [
    "def solution(n):\n",
    "    answer = 0\n",
    "    while True:\n",
    "        answer += n % 2\n",
    "        n = n//2\n",
    "        if n == 0:\n",
    "            return answer"
   ]
  },
  {
   "cell_type": "markdown",
   "metadata": {},
   "source": [
    "#### https://programmers.co.kr/learn/courses/30/lessons/12981"
   ]
  },
  {
   "cell_type": "code",
   "execution_count": null,
   "metadata": {},
   "outputs": [],
   "source": [
    "def solution(n, words):\n",
    "    for i in range(1, len(words) - 1):\n",
    "        if words[i] in words[:i] or words[i][0] != words[i - 1][-1]:\n",
    "            return [i % n + 1, i // n + 1]\n",
    "    if words[-1] in words[:-1] or words[-1][0] != words[-2][-1]:\n",
    "        return [(len(words) - 1) % n + 1, len(words) // n]\n",
    "    return [0, 0]"
   ]
  },
  {
   "cell_type": "markdown",
   "metadata": {},
   "source": [
    "#### https://programmers.co.kr/learn/courses/30/lessons/12985"
   ]
  },
  {
   "cell_type": "code",
   "execution_count": null,
   "metadata": {},
   "outputs": [],
   "source": [
    "def solution(n, a, b):\n",
    "    \n",
    "    if a > b:\n",
    "        a, b = b, a\n",
    "    \n",
    "    count = 1\n",
    "    while True:\n",
    "        if a % 2 == 1 and b == a + 1:\n",
    "            return count\n",
    "        a, b = (a - 1)//2 + 1, (b - 1)//2 + 1\n",
    "        count += 1"
   ]
  },
  {
   "cell_type": "markdown",
   "metadata": {},
   "source": [
    "#### https://programmers.co.kr/learn/courses/30/lessons/17677"
   ]
  },
  {
   "cell_type": "code",
   "execution_count": null,
   "metadata": {},
   "outputs": [],
   "source": [
    "def solution(str1, str2):\n",
    "    \n",
    "    alphabet = 'abcdefghijklmnopqrstuvwxyz'\n",
    "    str_, set_, dic_ = [str1.lower(), str2.lower()], [[], []], [{}, {}]    \n",
    "    for i in range(2):\n",
    "        for j in range(len(str_[i]) - 1):\n",
    "            s = str_[i][j:j+2]\n",
    "            if s[0] in alphabet and s[1] in alphabet:\n",
    "                set_[i].append(s)\n",
    "                dic_[i][s] = dic_[i].get(s, 0) + 1\n",
    "        \n",
    "    intersection = 0\n",
    "    for k in list(set(dic_[0].keys()) & set(dic_[1].keys())):\n",
    "        intersection += min(dic_[0][k], dic_[1][k])\n",
    "    \n",
    "    union = 0\n",
    "    for k in list(set(dic_[0].keys()) | set(dic_[1].keys())):\n",
    "        union += max(dic_[0].get(k, 0), dic_[1].get(k, 0))\n",
    "    \n",
    "    if union == 0:\n",
    "        if intersection > 0:\n",
    "            return 0\n",
    "        return 65536\n",
    "    return int((intersection/union)*65536)"
   ]
  },
  {
   "cell_type": "markdown",
   "metadata": {},
   "source": [
    "#### https://programmers.co.kr/learn/courses/30/lessons/42888"
   ]
  },
  {
   "cell_type": "code",
   "execution_count": null,
   "metadata": {},
   "outputs": [],
   "source": [
    "def solution(record):\n",
    "    \n",
    "    record = list(map(lambda x: x.split(' '), record))\n",
    "    result, dic = [], {} \n",
    "    \n",
    "    for i in range(len(record)):\n",
    "        if record[i][0] == 'Enter' or record[i][0] == 'Change':\n",
    "            dic[record[i][1]] = record[i][2]\n",
    "    \n",
    "    for i in range(len(record)):\n",
    "        if record[i][0] == 'Enter':\n",
    "            result.append(dic[record[i][1]] + '님이 들어왔습니다.')\n",
    "        if record[i][0] == 'Leave':\n",
    "            result.append(dic[record[i][1]] + '님이 나갔습니다.')\n",
    "            \n",
    "    return result"
   ]
  },
  {
   "cell_type": "markdown",
   "metadata": {},
   "source": [
    "#### https://programmers.co.kr/learn/courses/30/lessons/17683"
   ]
  },
  {
   "cell_type": "code",
   "execution_count": null,
   "metadata": {},
   "outputs": [],
   "source": [
    "def solution(m, infos):\n",
    "    \n",
    "    m = m.replace('C#', 'c').replace('D#', 'd').replace('F#', 'f').replace('G#', 'g').replace('A#', 'a')\n",
    "    infos = [[(int(x.split(',')[1][:2]) - int(x.split(',')[0][:2]))*60 + (int(x.split(',')[1][3:]) - int(x.split(',')[0][3:])),\\\n",
    "              x.split(',')[2],\\\n",
    "              x.split(',')[3].replace('C#', 'c').replace('D#', 'd').replace('F#', 'f').replace('G#', 'g').replace('A#', 'a')]\\\n",
    "             for x in infos]\n",
    "    \n",
    "    title, maximum = '(None)', 0\n",
    "    for info in infos:\n",
    "        time, length = info[0], len(info[2])\n",
    "        if m in info[2]*(time//length)+info[2][:(time%length)]:\n",
    "            if time > maximum:\n",
    "                title, maximum = info[1], time\n",
    "    \n",
    "    return title"
   ]
  },
  {
   "cell_type": "markdown",
   "metadata": {},
   "source": [
    "#### https://programmers.co.kr/learn/courses/30/lessons/64065"
   ]
  },
  {
   "cell_type": "code",
   "execution_count": null,
   "metadata": {},
   "outputs": [],
   "source": [
    "def solution(s):\n",
    "    s = sorted(list(map(lambda x: set(map(int, x.split(','))), s[2:-2].split('},{'))))\n",
    "    answer = [n for n in s[0]]\n",
    "    for i in range(len(s) - 1):\n",
    "        answer += [n for n in s[i + 1] - s[i]]\n",
    "    return answer"
   ]
  },
  {
   "cell_type": "markdown",
   "metadata": {},
   "source": [
    "#### https://programmers.co.kr/learn/courses/30/lessons/12911"
   ]
  },
  {
   "cell_type": "code",
   "execution_count": null,
   "metadata": {},
   "outputs": [],
   "source": [
    "def solution(n):\n",
    "\n",
    "    def count_one(n):\n",
    "        answer = 0\n",
    "        while n > 0:\n",
    "            if n % 2 == 1:\n",
    "                answer += 1\n",
    "            n = n//2\n",
    "        return answer\n",
    "    \n",
    "    answer, number_one = n, count_one(n)\n",
    "    while True:\n",
    "        answer += 1\n",
    "        if number_one == count_one(answer):\n",
    "            return answer"
   ]
  },
  {
   "cell_type": "markdown",
   "metadata": {},
   "source": [
    "#### https://programmers.co.kr/learn/courses/30/lessons/1845"
   ]
  },
  {
   "cell_type": "code",
   "execution_count": null,
   "metadata": {},
   "outputs": [],
   "source": [
    "from collections import Counter\n",
    "\n",
    "def solution(nums):\n",
    "    return min(len(Counter(nums).keys()), N//2)"
   ]
  },
  {
   "cell_type": "markdown",
   "metadata": {},
   "source": [
    "#### https://programmers.co.kr/learn/courses/30/lessons/12977"
   ]
  },
  {
   "cell_type": "code",
   "execution_count": null,
   "metadata": {},
   "outputs": [],
   "source": [
    "def solution(nums):\n",
    "    \n",
    "    def is_prime(n):\n",
    "        if n < 2: return False\n",
    "        if n == 2: return True\n",
    "        i = 2\n",
    "        while True:\n",
    "            if i**2 > n: return True\n",
    "            if n % i == 0: return False\n",
    "            i += 1\n",
    "            \n",
    "    answer = 0\n",
    "    for i in range(len(nums) - 2):\n",
    "        for j in range(i + 1, len(nums) - 1):\n",
    "            for k in range(j + 1, len(nums)):\n",
    "                if is_prime(nums[i] + nums[j] + nums[k]):\n",
    "                    answer += 1\n",
    "    \n",
    "    return answer"
   ]
  },
  {
   "cell_type": "markdown",
   "metadata": {},
   "source": [
    "#### https://programmers.co.kr/learn/courses/30/lessons/12905"
   ]
  },
  {
   "cell_type": "code",
   "execution_count": null,
   "metadata": {},
   "outputs": [],
   "source": [
    "def solution(board):\n",
    "    maximum = board[0][0]\n",
    "    for i in range(1, len(board)):\n",
    "        for j in range(1, len(board[0])):\n",
    "            if board[i][j] == 1:\n",
    "                board[i][j] = min(board[i - 1][j - 1], board[i][j - 1], board[i - 1][j]) + 1\n",
    "            if board[i][j] > maximum:\n",
    "                maximum = board[i][j]\n",
    "    return maximum ** 2"
   ]
  },
  {
   "cell_type": "markdown",
   "metadata": {},
   "source": [
    "#### https://programmers.co.kr/learn/courses/30/lessons/12913"
   ]
  },
  {
   "cell_type": "code",
   "execution_count": null,
   "metadata": {},
   "outputs": [],
   "source": [
    "def solution(land):\n",
    "    \n",
    "    for row in range(1, len(land)):\n",
    "        for col in range(4):\n",
    "            maximum = 0\n",
    "            for i in range(4):\n",
    "                if i != col and land[row - 1][i] > maximum:\n",
    "                    maximum = land[row - 1][i]\n",
    "            land[row][col] += maximum\n",
    "            \n",
    "    return max(land[-1])"
   ]
  },
  {
   "cell_type": "markdown",
   "metadata": {},
   "source": [
    "#### https://programmers.co.kr/learn/courses/30/lessons/17679"
   ]
  },
  {
   "cell_type": "code",
   "execution_count": null,
   "metadata": {},
   "outputs": [],
   "source": [
    "def solution(m, n, board):\n",
    "    \n",
    "    new_board = []\n",
    "    for i in range(n):\n",
    "        row = []\n",
    "        for j in range(m):\n",
    "            row.append(board[j][i])\n",
    "        new_board.append(row)\n",
    "    board = new_board\n",
    "    \n",
    "    def erase(board):\n",
    "        \n",
    "        e_list = []\n",
    "        for r in range(n - 1):\n",
    "            for c in range(m - 1):\n",
    "                if board[r][c] != None:\n",
    "                    tmp = False\n",
    "                    for i in range(2):\n",
    "                        for j in range(2):\n",
    "                            if board[r][c] != board[r + i][c + j]:\n",
    "                                tmp = True\n",
    "                    if tmp == False:\n",
    "                        e_list.append([r, c])\n",
    "        \n",
    "        cnt = 0\n",
    "        for e in e_list:\n",
    "            for i in range(2):\n",
    "                for j in range(2):\n",
    "                    if board[e[0] + i][e[1] + j] != None:\n",
    "                        cnt += 1\n",
    "                    board[e[0] + i][e[1] + j] = None\n",
    "                    \n",
    "        return board, cnt\n",
    "    \n",
    "    def drop(board):\n",
    "        result = []\n",
    "        for i in range(n):\n",
    "            row = []\n",
    "            for j in range(m):\n",
    "                if board[i][j] != None:\n",
    "                    row.append(board[i][j])\n",
    "            row = [None] * (m - len(row)) + row\n",
    "            result.append(row)\n",
    "        return result\n",
    "    \n",
    "    answer = 0\n",
    "    while True:\n",
    "        board, cnt = erase(board)\n",
    "        if cnt == 0:\n",
    "            return answer\n",
    "        answer += cnt\n",
    "        board = drop(board)"
   ]
  },
  {
   "cell_type": "markdown",
   "metadata": {},
   "source": [
    "#### https://programmers.co.kr/learn/courses/30/lessons/17680"
   ]
  },
  {
   "cell_type": "code",
   "execution_count": null,
   "metadata": {},
   "outputs": [],
   "source": [
    "def solution(cacheSize, cities):\n",
    "    \n",
    "    cache, answer = [], 0\n",
    "    \n",
    "    for city in cities:\n",
    "        city = city.upper()\n",
    "        if city not in cache:\n",
    "            cache.append(city)\n",
    "            if len(cache) > cacheSize:\n",
    "                cache.pop(0)\n",
    "            answer += 5\n",
    "        else:\n",
    "            cache.remove(city)\n",
    "            cache.append(city)\n",
    "            answer += 1\n",
    "    \n",
    "    return answer"
   ]
  },
  {
   "cell_type": "markdown",
   "metadata": {},
   "source": [
    "#### https://programmers.co.kr/learn/courses/30/lessons/42890"
   ]
  },
  {
   "cell_type": "code",
   "execution_count": null,
   "metadata": {},
   "outputs": [],
   "source": [
    "from itertools import combinations\n",
    "\n",
    "def solution(relation):\n",
    "\n",
    "    def is_unique(key):\n",
    "        s = set()\n",
    "        for r in relation:\n",
    "            t = []\n",
    "            for k in key:\n",
    "                t.append(r[k])\n",
    "            s.add(tuple(t))\n",
    "        if len(s) == len(relation):\n",
    "            return True\n",
    "        return False\n",
    "    \n",
    "    def is_minimal(key):\n",
    "        for out in range(len(key)):\n",
    "            key_out = []\n",
    "            for idx in range(len(key)):\n",
    "                if idx != out:\n",
    "                    key_out.append(key[idx])\n",
    "            if is_unique(key_out):\n",
    "                return False\n",
    "        return True\n",
    "    \n",
    "    answer = 0\n",
    "    for length in range(1, len(relation[0]) + 1):\n",
    "        for key in list(combinations(list(range(0, len(relation[0]))), length)):\n",
    "            if is_unique(key) and is_minimal(key):\n",
    "                answer += 1\n",
    "    \n",
    "    return answer"
   ]
  },
  {
   "cell_type": "markdown",
   "metadata": {},
   "source": [
    "#### https://programmers.co.kr/learn/courses/30/lessons/17684"
   ]
  },
  {
   "cell_type": "code",
   "execution_count": null,
   "metadata": {},
   "outputs": [],
   "source": [
    "def solution(msg):\n",
    "    \n",
    "    _dict, alphabet = {}, 'ABCDEFGHIJKLMNOPQRSTUVWXYZ'\n",
    "    for i in range(len(alphabet)):\n",
    "        _dict[alphabet[i]] = i + 1\n",
    "    \n",
    "    msg, cnt, answer = list(msg), 26, []\n",
    "    while msg:\n",
    "        w = ''\n",
    "        for i in range(len(msg)):\n",
    "            w += msg.pop(0)\n",
    "            if msg == []:\n",
    "                break\n",
    "            if w in _dict.keys() and  w + msg[0] not in _dict.keys():\n",
    "                break\n",
    "        answer.append(_dict[w])\n",
    "        cnt += 1\n",
    "        if msg !=[]:\n",
    "            _dict[w + msg[0]] = cnt\n",
    "    \n",
    "    return answer"
   ]
  },
  {
   "cell_type": "markdown",
   "metadata": {},
   "source": [
    "#### https://programmers.co.kr/learn/courses/30/lessons/17686"
   ]
  },
  {
   "cell_type": "code",
   "execution_count": null,
   "metadata": {},
   "outputs": [],
   "source": [
    "import re\n",
    "\n",
    "def solution(files):\n",
    "    \n",
    "    def tidy(file):\n",
    "        cut_1, cut_2 = re.search('[0-9]+', file).span()\n",
    "        head_real, head = file[:cut_1], file[:cut_1].upper()\n",
    "        number_real, number = file[cut_1:cut_2], int(file[cut_1:cut_2])\n",
    "        tail = file[cut_2:]\n",
    "        return [[head, number], head_real, number_real, tail]\n",
    "    \n",
    "    files = list(map(lambda x: tidy(x), files))\n",
    "    files.sort(key = lambda x: x[0])\n",
    "    \n",
    "    return list(map(lambda x: x[1] + x[2] + x[3], files))"
   ]
  },
  {
   "cell_type": "markdown",
   "metadata": {},
   "source": [
    "#### https://programmers.co.kr/learn/courses/30/lessons/17687"
   ]
  },
  {
   "cell_type": "code",
   "execution_count": null,
   "metadata": {},
   "outputs": [],
   "source": [
    "def solution(n, t, m, p):\n",
    "    \n",
    "    def base(n, int_):\n",
    "        number = '0123456789ABCDEF'\n",
    "        result = ''\n",
    "        while True:\n",
    "            result = number[int_ % n] + result\n",
    "            int_ //= n\n",
    "            if int_ == 0:\n",
    "                return result\n",
    "    \n",
    "    int_list, int_ = '#', 0\n",
    "    while True:\n",
    "        if len(int_list) > (t - 1) * m + p:\n",
    "            break\n",
    "        int_list += base(n, int_)\n",
    "        int_ += 1\n",
    "    \n",
    "    answer = ''\n",
    "    for i in range(t):\n",
    "        answer += int_list[i * m + p]\n",
    "    \n",
    "    return answer"
   ]
  },
  {
   "cell_type": "markdown",
   "metadata": {},
   "source": [
    "#### https://programmers.co.kr/learn/courses/30/lessons/72411"
   ]
  },
  {
   "cell_type": "code",
   "execution_count": null,
   "metadata": {},
   "outputs": [],
   "source": [
    "from collections import Counter\n",
    "from itertools import combinations\n",
    "\n",
    "def combination(order, k):\n",
    "    return [''.join(_) for _ in combinations(sorted(order), k)]\n",
    "\n",
    "def solution(orders, course):\n",
    "    \n",
    "    answer = []\n",
    "    \n",
    "    for k in course:\n",
    "        \n",
    "        counter = Counter()\n",
    "        for order in orders:\n",
    "            if len(order) >= k:\n",
    "                counter.update(combination(order, k))\n",
    "        \n",
    "        most_ordered = counter.most_common()\n",
    "        answer += [key for key, value in most_ordered if value > 1 and value == most_ordered[0][1]]\n",
    "\n",
    "    return sorted(answer)"
   ]
  },
  {
   "cell_type": "markdown",
   "metadata": {},
   "source": [
    "#### https://programmers.co.kr/learn/courses/30/lessons/72412"
   ]
  },
  {
   "cell_type": "code",
   "execution_count": null,
   "metadata": {},
   "outputs": [],
   "source": []
  }
 ],
 "metadata": {
  "kernelspec": {
   "display_name": "Python 3",
   "language": "python",
   "name": "python3"
  },
  "language_info": {
   "codemirror_mode": {
    "name": "ipython",
    "version": 3
   },
   "file_extension": ".py",
   "mimetype": "text/x-python",
   "name": "python",
   "nbconvert_exporter": "python",
   "pygments_lexer": "ipython3",
   "version": "3.7.9"
  }
 },
 "nbformat": 4,
 "nbformat_minor": 4
}
