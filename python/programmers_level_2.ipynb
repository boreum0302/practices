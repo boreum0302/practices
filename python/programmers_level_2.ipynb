{
 "cells": [
  {
   "cell_type": "markdown",
   "metadata": {},
   "source": [
    "#### https://programmers.co.kr/learn/courses/30/lessons/60057"
   ]
  },
  {
   "cell_type": "code",
   "execution_count": null,
   "metadata": {},
   "outputs": [],
   "source": [
    "def solution(s):\n",
    "    minimum = len(s)\n",
    "    for cut in range(1, len(s)//2 + 1):\n",
    "        counter = [[s[:cut], 1]]\n",
    "        for i in range(1, len(s)//cut):\n",
    "            if s[cut * i:cut * (i + 1)] == counter[-1][0]:\n",
    "                counter[-1][1] += 1\n",
    "            else:\n",
    "                counter.append([s[cut * i:cut * (i + 1)], 1])\n",
    "        length = cut * len(counter) + len(''.join(list(map(lambda x: str(x[1]) if x[1] > 1 else '', counter)))) + len(s)%cut\n",
    "        print(counter, length)\n",
    "        if length < minimum:\n",
    "            minimum = length\n",
    "    return minimum"
   ]
  },
  {
   "cell_type": "markdown",
   "metadata": {},
   "source": [
    "#### https://programmers.co.kr/learn/courses/30/lessons/60058"
   ]
  },
  {
   "cell_type": "code",
   "execution_count": null,
   "metadata": {},
   "outputs": [],
   "source": [
    "def solution(p):\n",
    "    \n",
    "    def is_correct(p):\n",
    "        stack = []\n",
    "        for i in range(len(p)):\n",
    "            if p[i] == '(':\n",
    "                stack.append(p[i])\n",
    "            if p[i] == ')': \n",
    "                if stack == []:\n",
    "                    return False\n",
    "                stack.pop()\n",
    "        return stack == []\n",
    "    \n",
    "    if is_correct(p):\n",
    "        return p\n",
    "    \n",
    "    def transform(w):\n",
    "        \n",
    "        if w == '':\n",
    "            return ''       \n",
    "        \n",
    "        stack = 0\n",
    "        for i in range(len(w)):\n",
    "            if w[i] == '(':\n",
    "                stack += 1\n",
    "            if w[i] == ')':\n",
    "                stack -= 1\n",
    "            if stack == 0:\n",
    "                break\n",
    "        u, v = w[:i + 1], w[i + 1:]\n",
    "        \n",
    "        if is_correct(u):\n",
    "            return u + transform(v)\n",
    "        \n",
    "        return '(' + transform(v) + ')' + ''.join(['(' if u[i] == ')' else ')' for i in range(1, len(u) - 1)])\n",
    "    \n",
    "    return transform(p)"
   ]
  },
  {
   "cell_type": "markdown",
   "metadata": {},
   "source": [
    "#### https://programmers.co.kr/learn/courses/30/lessons/12924"
   ]
  },
  {
   "cell_type": "code",
   "execution_count": null,
   "metadata": {},
   "outputs": [],
   "source": [
    "def solution(n):\n",
    "    answer = 0\n",
    "    for i in range(1, n + 1):\n",
    "        if (2 * n)%i == 0:\n",
    "            if (2 * n)//i - i + 1 > 0 and ((2 * n)//i - i + 1)%2 == 0:\n",
    "                answer += 1\n",
    "    return answer"
   ]
  },
  {
   "cell_type": "markdown",
   "metadata": {},
   "source": [
    "#### https://programmers.co.kr/learn/courses/30/lessons/12939"
   ]
  },
  {
   "cell_type": "code",
   "execution_count": null,
   "metadata": {},
   "outputs": [],
   "source": [
    "def solution(s):\n",
    "    s = list(map(int, s.split(' ')))\n",
    "    return str(min(s)) + ' ' + str(max(s))"
   ]
  },
  {
   "cell_type": "markdown",
   "metadata": {},
   "source": [
    "#### https://programmers.co.kr/learn/courses/30/lessons/12941"
   ]
  },
  {
   "cell_type": "code",
   "execution_count": null,
   "metadata": {},
   "outputs": [],
   "source": [
    "def solution(A,B):\n",
    "    return sum([a * b for (a, b) in zip(sorted(A), sorted(B, reverse = True))])"
   ]
  },
  {
   "cell_type": "markdown",
   "metadata": {},
   "source": [
    "#### https://programmers.co.kr/learn/courses/30/lessons/12945"
   ]
  },
  {
   "cell_type": "code",
   "execution_count": null,
   "metadata": {},
   "outputs": [],
   "source": [
    "def solution(n):\n",
    "    f0, f1 = 0, 1\n",
    "    for i in range(n - 1):\n",
    "        f0, f1 = f1%1234567, (f0 + f1)%1234567\n",
    "    return f1"
   ]
  },
  {
   "cell_type": "markdown",
   "metadata": {},
   "source": [
    "#### https://programmers.co.kr/learn/courses/30/lessons/12949"
   ]
  },
  {
   "cell_type": "code",
   "execution_count": null,
   "metadata": {},
   "outputs": [],
   "source": [
    "def solution(arr1, arr2):\n",
    "    answer = []\n",
    "    for row in range(len(arr1)):\n",
    "        answer.append([])\n",
    "        for col in range(len(arr2[0])):\n",
    "            product = 0\n",
    "            for i in range(len(arr1[0])):\n",
    "                product += arr1[row][i]*arr2[i][col]\n",
    "            answer[row].append(product)\n",
    "    return answer"
   ]
  },
  {
   "cell_type": "markdown",
   "metadata": {},
   "source": [
    "#### https://programmers.co.kr/learn/courses/30/lessons/12951"
   ]
  },
  {
   "cell_type": "code",
   "execution_count": null,
   "metadata": {},
   "outputs": [],
   "source": [
    "def solution(s):\n",
    "    s = list(s.lower())\n",
    "    s[0] = s[0].upper()\n",
    "    for i in range(1, len(s)):\n",
    "        if s[i - 1] == ' ':\n",
    "            s[i] = s[i].upper()\n",
    "    return ''.join(s)"
   ]
  },
  {
   "cell_type": "markdown",
   "metadata": {},
   "source": [
    "#### https://programmers.co.kr/learn/courses/30/lessons/12953"
   ]
  },
  {
   "cell_type": "code",
   "execution_count": null,
   "metadata": {},
   "outputs": [],
   "source": [
    "def solution(arr):\n",
    "    \n",
    "    def gcd(m,n):\n",
    "        if m < n:\n",
    "            m, n = n, m\n",
    "        if n == 0:\n",
    "            return m\n",
    "        if m % n == 0:\n",
    "            return n\n",
    "        else:\n",
    "            return gcd(n, m % n)\n",
    "\n",
    "    GCD, LCM = arr[0], arr[0]\n",
    "    for i in range(1, len(arr)):\n",
    "        GCD = gcd(GCD, arr[i])\n",
    "        LCM = LCM * arr[i] // GCD\n",
    "        print(GCD, LCM)\n",
    "    \n",
    "    return LCM"
   ]
  },
  {
   "cell_type": "markdown",
   "metadata": {},
   "source": [
    "#### https://programmers.co.kr/learn/courses/30/lessons/12973"
   ]
  },
  {
   "cell_type": "code",
   "execution_count": null,
   "metadata": {},
   "outputs": [],
   "source": [
    "from collections import deque\n",
    "\n",
    "def solution(s):\n",
    "    \n",
    "    stack = deque([])\n",
    "        \n",
    "    for i in range(len(s)):\n",
    "        if len(stack) == 0:\n",
    "            stack.append(s[i])\n",
    "            continue\n",
    "        if s[i] == stack[-1]:\n",
    "            stack.pop()\n",
    "        else:\n",
    "            stack.append(s[i])\n",
    "    \n",
    "    if len(stack) == 0:\n",
    "        return 1\n",
    "    return 0"
   ]
  },
  {
   "cell_type": "markdown",
   "metadata": {},
   "source": [
    "#### https://programmers.co.kr/learn/courses/30/lessons/12980"
   ]
  },
  {
   "cell_type": "code",
   "execution_count": null,
   "metadata": {},
   "outputs": [],
   "source": [
    "def solution(n):\n",
    "    answer = 0\n",
    "    while True:\n",
    "        answer += n % 2\n",
    "        n = n//2\n",
    "        if n == 0:\n",
    "            return answer"
   ]
  },
  {
   "cell_type": "markdown",
   "metadata": {},
   "source": [
    "#### https://programmers.co.kr/learn/courses/30/lessons/12981"
   ]
  },
  {
   "cell_type": "code",
   "execution_count": null,
   "metadata": {},
   "outputs": [],
   "source": [
    "def solution(n, words):\n",
    "    for i in range(1, len(words) - 1):\n",
    "        if words[i] in words[:i] or words[i][0] != words[i - 1][-1]:\n",
    "            return [i % n + 1, i // n + 1]\n",
    "    if words[-1] in words[:-1] or words[-1][0] != words[-2][-1]:\n",
    "        return [(len(words) - 1) % n + 1, len(words) // n]\n",
    "    return [0, 0]"
   ]
  },
  {
   "cell_type": "markdown",
   "metadata": {},
   "source": [
    "#### https://programmers.co.kr/learn/courses/30/lessons/12985"
   ]
  },
  {
   "cell_type": "code",
   "execution_count": null,
   "metadata": {},
   "outputs": [],
   "source": [
    "def solution(n, a, b):\n",
    "    \n",
    "    if a > b:\n",
    "        a, b = b, a\n",
    "    \n",
    "    count = 1\n",
    "    while True:\n",
    "        if a % 2 == 1 and b == a + 1:\n",
    "            return count\n",
    "        a, b = (a - 1)//2 + 1, (b - 1)//2 + 1\n",
    "        count += 1"
   ]
  },
  {
   "cell_type": "markdown",
   "metadata": {},
   "source": [
    "#### https://programmers.co.kr/learn/courses/30/lessons/17677"
   ]
  },
  {
   "cell_type": "code",
   "execution_count": null,
   "metadata": {},
   "outputs": [],
   "source": [
    "def solution(str1, str2):\n",
    "    \n",
    "    alphabet = 'abcdefghijklmnopqrstuvwxyz'\n",
    "    str_, set_, dic_ = [str1.lower(), str2.lower()], [[], []], [{}, {}]    \n",
    "    for i in range(2):\n",
    "        for j in range(len(str_[i]) - 1):\n",
    "            s = str_[i][j:j+2]\n",
    "            if s[0] in alphabet and s[1] in alphabet:\n",
    "                set_[i].append(s)\n",
    "                dic_[i][s] = dic_[i].get(s, 0) + 1\n",
    "        \n",
    "    intersection = 0\n",
    "    for k in list(set(dic_[0].keys()) & set(dic_[1].keys())):\n",
    "        intersection += min(dic_[0][k], dic_[1][k])\n",
    "    \n",
    "    union = 0\n",
    "    for k in list(set(dic_[0].keys()) | set(dic_[1].keys())):\n",
    "        union += max(dic_[0].get(k, 0), dic_[1].get(k, 0))\n",
    "    \n",
    "    if union == 0:\n",
    "        if intersection > 0:\n",
    "            return 0\n",
    "        return 65536\n",
    "    return int((intersection/union)*65536)"
   ]
  },
  {
   "cell_type": "markdown",
   "metadata": {},
   "source": [
    "#### https://programmers.co.kr/learn/courses/30/lessons/42888"
   ]
  },
  {
   "cell_type": "code",
   "execution_count": null,
   "metadata": {},
   "outputs": [],
   "source": [
    "def solution(record):\n",
    "    \n",
    "    record = list(map(lambda x: x.split(' '), record))\n",
    "    result, dic = [], {} \n",
    "    \n",
    "    for i in range(len(record)):\n",
    "        if record[i][0] == 'Enter' or record[i][0] == 'Change':\n",
    "            dic[record[i][1]] = record[i][2]\n",
    "    \n",
    "    for i in range(len(record)):\n",
    "        if record[i][0] == 'Enter':\n",
    "            result.append(dic[record[i][1]] + '님이 들어왔습니다.')\n",
    "        if record[i][0] == 'Leave':\n",
    "            result.append(dic[record[i][1]] + '님이 나갔습니다.')\n",
    "            \n",
    "    return result"
   ]
  },
  {
   "cell_type": "markdown",
   "metadata": {},
   "source": [
    "#### https://programmers.co.kr/learn/courses/30/lessons/17683"
   ]
  },
  {
   "cell_type": "code",
   "execution_count": null,
   "metadata": {},
   "outputs": [],
   "source": [
    "def solution(m, infos):\n",
    "    \n",
    "    m = m.replace('C#', 'c').replace('D#', 'd').replace('F#', 'f').replace('G#', 'g').replace('A#', 'a')\n",
    "    infos = [[(int(x.split(',')[1][:2]) - int(x.split(',')[0][:2]))*60 + (int(x.split(',')[1][3:]) - int(x.split(',')[0][3:])),\\\n",
    "              x.split(',')[2],\\\n",
    "              x.split(',')[3].replace('C#', 'c').replace('D#', 'd').replace('F#', 'f').replace('G#', 'g').replace('A#', 'a')]\\\n",
    "             for x in infos]\n",
    "    \n",
    "    title, maximum = '(None)', 0\n",
    "    for info in infos:\n",
    "        time, length = info[0], len(info[2])\n",
    "        if m in info[2]*(time//length)+info[2][:(time%length)]:\n",
    "            if time > maximum:\n",
    "                title, maximum = info[1], time\n",
    "    \n",
    "    return title"
   ]
  },
  {
   "cell_type": "markdown",
   "metadata": {},
   "source": [
    "#### https://programmers.co.kr/learn/courses/30/lessons/64065"
   ]
  },
  {
   "cell_type": "code",
   "execution_count": null,
   "metadata": {},
   "outputs": [],
   "source": [
    "def solution(s):\n",
    "    s = sorted(list(map(lambda x: set(map(int, x.split(','))), s[2:-2].split('},{'))))\n",
    "    answer = [n for n in s[0]]\n",
    "    for i in range(len(s) - 1):\n",
    "        answer += [n for n in s[i + 1] - s[i]]\n",
    "    return answer"
   ]
  },
  {
   "cell_type": "markdown",
   "metadata": {},
   "source": [
    "#### https://programmers.co.kr/learn/courses/30/lessons/12911"
   ]
  },
  {
   "cell_type": "code",
   "execution_count": null,
   "metadata": {},
   "outputs": [],
   "source": [
    "def solution(n):\n",
    "\n",
    "    def count_one(n):\n",
    "        answer = 0\n",
    "        while n > 0:\n",
    "            if n % 2 == 1:\n",
    "                answer += 1\n",
    "            n = n//2\n",
    "        return answer\n",
    "    \n",
    "    answer, number_one = n, count_one(n)\n",
    "    while True:\n",
    "        answer += 1\n",
    "        if number_one == count_one(answer):\n",
    "            return answer"
   ]
  },
  {
   "cell_type": "markdown",
   "metadata": {},
   "source": [
    "#### https://programmers.co.kr/learn/courses/30/lessons/1845"
   ]
  },
  {
   "cell_type": "code",
   "execution_count": null,
   "metadata": {},
   "outputs": [],
   "source": [
    "from collections import Counter\n",
    "\n",
    "def solution(nums):\n",
    "    return min(len(Counter(nums).keys()), N//2)"
   ]
  },
  {
   "cell_type": "markdown",
   "metadata": {},
   "source": [
    "#### https://programmers.co.kr/learn/courses/30/lessons/12977"
   ]
  },
  {
   "cell_type": "code",
   "execution_count": null,
   "metadata": {},
   "outputs": [],
   "source": [
    "def solution(nums):\n",
    "    \n",
    "    def is_prime(n):\n",
    "        if n < 2: return False\n",
    "        if n == 2: return True\n",
    "        i = 2\n",
    "        while True:\n",
    "            if i**2 > n: return True\n",
    "            if n % i == 0: return False\n",
    "            i += 1\n",
    "            \n",
    "    answer = 0\n",
    "    for i in range(len(nums) - 2):\n",
    "        for j in range(i + 1, len(nums) - 1):\n",
    "            for k in range(j + 1, len(nums)):\n",
    "                if is_prime(nums[i] + nums[j] + nums[k]):\n",
    "                    answer += 1\n",
    "    \n",
    "    return answer"
   ]
  }
 ],
 "metadata": {
  "kernelspec": {
   "display_name": "Python 3",
   "language": "python",
   "name": "python3"
  },
  "language_info": {
   "codemirror_mode": {
    "name": "ipython",
    "version": 3
   },
   "file_extension": ".py",
   "mimetype": "text/x-python",
   "name": "python",
   "nbconvert_exporter": "python",
   "pygments_lexer": "ipython3",
   "version": "3.7.6"
  }
 },
 "nbformat": 4,
 "nbformat_minor": 4
}
