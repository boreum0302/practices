{
 "cells": [
  {
   "cell_type": "markdown",
   "metadata": {},
   "source": [
    "#### https://programmers.co.kr/learn/courses/30/lessons/62049"
   ]
  },
  {
   "cell_type": "code",
   "execution_count": null,
   "metadata": {},
   "outputs": [],
   "source": [
    "def solution(n):\n",
    "    \n",
    "    DP = [None] * n\n",
    "    DP[0] = [0]\n",
    "    \n",
    "    for i in range(1, n):\n",
    "        DP[i] = DP[i - 1] + [0] + list(map(lambda x: 0 if x else 1, reversed(DP[i - 1])))\n",
    "    \n",
    "    return DP[-1]"
   ]
  },
  {
   "cell_type": "markdown",
   "metadata": {},
   "source": [
    "#### https://programmers.co.kr/learn/courses/30/lessons/12900"
   ]
  },
  {
   "cell_type": "code",
   "execution_count": null,
   "metadata": {},
   "outputs": [],
   "source": [
    "def solution(n):\n",
    "    \n",
    "    DP = [1] + [2] + [None] * (n - 2)\n",
    "    \n",
    "    for i in range(2, n):\n",
    "        DP[i] = (DP[i - 1] + DP[i - 2])%1000000007\n",
    "    \n",
    "    return DP[-1]"
   ]
  },
  {
   "cell_type": "markdown",
   "metadata": {},
   "source": [
    "#### https://programmers.co.kr/learn/courses/30/lessons/12904"
   ]
  },
  {
   "cell_type": "code",
   "execution_count": null,
   "metadata": {},
   "outputs": [],
   "source": [
    "def solution(s):\n",
    "    \n",
    "    def is_pal(s):\n",
    "        for i in range((len(s))//2):\n",
    "            if s[i] != s[-(i + 1)]:\n",
    "                return False\n",
    "        return True\n",
    "    \n",
    "    for length in range(len(s), 1, -1):\n",
    "        for idx in range(len(s) - length + 1):\n",
    "            print(idx, length)\n",
    "    \n",
    "    return 1"
   ]
  },
  {
   "cell_type": "markdown",
   "metadata": {},
   "source": [
    "#### https://programmers.co.kr/learn/courses/30/lessons/12914"
   ]
  },
  {
   "cell_type": "code",
   "execution_count": null,
   "metadata": {},
   "outputs": [],
   "source": [
    "def solution(n):\n",
    "    \n",
    "    u, v = 1, 2\n",
    "    \n",
    "    if n == 1:\n",
    "        return u\n",
    "    \n",
    "    if n == 2:\n",
    "        return v\n",
    "    \n",
    "    for i in range(n - 2):\n",
    "        u, v = v%1234567, (u + v)%1234567\n",
    "    \n",
    "    return v"
   ]
  },
  {
   "cell_type": "markdown",
   "metadata": {},
   "source": [
    "#### https://programmers.co.kr/learn/courses/30/lessons/12927"
   ]
  },
  {
   "cell_type": "code",
   "execution_count": null,
   "metadata": {},
   "outputs": [],
   "source": [
    "import heapq as hq\n",
    "\n",
    "def solution(n, works):\n",
    "    \n",
    "    works = [(-1)*work for work in works]\n",
    "    hq.heapify(works)\n",
    "    for i in range(n):\n",
    "        minimum = hq.heappop(works)\n",
    "        if minimum == 0:\n",
    "            break\n",
    "        hq.heappush(works, minimum + 1)\n",
    "    \n",
    "    return sum([work**2 for work in works])"
   ]
  },
  {
   "cell_type": "markdown",
   "metadata": {},
   "source": [
    "#### https://programmers.co.kr/learn/courses/30/lessons/12938"
   ]
  },
  {
   "cell_type": "code",
   "execution_count": null,
   "metadata": {},
   "outputs": [],
   "source": [
    "def solution(n, s):\n",
    "    \n",
    "    if n > s:\n",
    "        return [-1]\n",
    "    \n",
    "    if n == s:\n",
    "        return [1] * n\n",
    "    \n",
    "    if n%s == 0:\n",
    "        return [s//n] * n\n",
    "    \n",
    "    return [s//n]*(n - s%n) + [s//n + 1]*(s%n)"
   ]
  },
  {
   "cell_type": "markdown",
   "metadata": {},
   "source": [
    "#### https://programmers.co.kr/learn/courses/30/lessons/12946"
   ]
  },
  {
   "cell_type": "code",
   "execution_count": null,
   "metadata": {},
   "outputs": [],
   "source": [
    "def solution(n):\n",
    "    \n",
    "    if n == 1:\n",
    "        return [[1, 3]]\n",
    "    \n",
    "    prev_ = ['13']\n",
    "    for i in range(1, n):\n",
    "        next_ = [p.replace('3', '#').replace('2', '@').replace('@', '3').replace('#', '2') for p in prev_] +\\\n",
    "                ['13'] +\\\n",
    "                [p.replace('1', '!').replace('2', '@').replace('@', '1').replace('!', '2') for p in prev_]\n",
    "        prev_ = next_\n",
    "        \n",
    "    return [list(map(int, list(n))) for n in next_]"
   ]
  },
  {
   "cell_type": "markdown",
   "metadata": {},
   "source": [
    "#### https://programmers.co.kr/learn/courses/30/lessons/12987"
   ]
  },
  {
   "cell_type": "code",
   "execution_count": null,
   "metadata": {},
   "outputs": [],
   "source": [
    "def solution(A, B):\n",
    "    \n",
    "    A.sort(reverse=True)\n",
    "    B.sort(reverse=True)\n",
    "    \n",
    "    answer = 0\n",
    "    for a in A:\n",
    "        if a >= B[0]:\n",
    "            continue\n",
    "        else:\n",
    "            B.pop(0)\n",
    "            answer += 1\n",
    "    \n",
    "    return answer"
   ]
  },
  {
   "cell_type": "markdown",
   "metadata": {},
   "source": [
    "#### https://programmers.co.kr/learn/courses/30/lessons/64062"
   ]
  },
  {
   "cell_type": "code",
   "execution_count": null,
   "metadata": {},
   "outputs": [],
   "source": [
    "from collections import deque\n",
    "\n",
    "def solution(stones, k):\n",
    "    \n",
    "    deq = deque(stones[:k])  \n",
    "    answer = max(deq)\n",
    "    maximum = max(deq)\n",
    "    \n",
    "    for i in range(k, len(stones)):\n",
    "        removed = deq.popleft()\n",
    "        deq.append(stones[i])\n",
    "        if removed >= maximum:\n",
    "            maximum = max(deq)\n",
    "        else:\n",
    "            maximum = max(maximum, deq[-1])\n",
    "        if maximum < answer:\n",
    "            answer = maximum\n",
    "    \n",
    "    return answer"
   ]
  },
  {
   "cell_type": "markdown",
   "metadata": {},
   "source": [
    "#### https://programmers.co.kr/learn/courses/30/lessons/12978"
   ]
  },
  {
   "cell_type": "code",
   "execution_count": null,
   "metadata": {},
   "outputs": [],
   "source": [
    "import sys\n",
    "\n",
    "def Dijkstra(graph, start, N):\n",
    "    \n",
    "    visited = [False] * N\n",
    "    D = [sys.maxsize] * N\n",
    "    previous = [None] * N\n",
    "    \n",
    "    D[start], previous[start] = 0, start\n",
    "    \n",
    "    vertices = 1\n",
    "    while True:\n",
    "        \n",
    "        if vertices == N:\n",
    "            break\n",
    "        \n",
    "        min_vertex = -1\n",
    "        min_value = sys.maxsize\n",
    "        for v in range(N):\n",
    "            if not visited[v] and D[v] < min_value:\n",
    "                min_vertex = v\n",
    "                min_value = D[v]\n",
    "        visited[min_vertex] = True\n",
    "        vertices += 1\n",
    "        \n",
    "        for adj_v, weight in graph[min_vertex]:\n",
    "            if not visited[adj_v]:\n",
    "                if D[min_vertex] + weight < D[adj_v]:\n",
    "                    D[adj_v] = D[min_vertex] + weight\n",
    "                    previous[adj_v] = min_vertex\n",
    "    return D\n",
    "\n",
    "def solution(N, road, K):\n",
    "    \n",
    "    graph = {}\n",
    "    for i in range(len(road)):\n",
    "        graph[road[i][0] - 1] = graph.get(road[i][0] - 1, []) + [(road[i][1] - 1, road[i][2])]\n",
    "        graph[road[i][1] - 1] = graph.get(road[i][1] - 1, []) + [(road[i][0] - 1, road[i][2])]\n",
    "    \n",
    "    D = Dijkstra(graph, 0, N)\n",
    "    \n",
    "    return sum([1 if D[i] <= K else 0 for i in range(N)])"
   ]
  },
  {
   "cell_type": "markdown",
   "metadata": {},
   "source": [
    "#### https://programmers.co.kr/learn/courses/30/lessons/42892"
   ]
  },
  {
   "cell_type": "code",
   "execution_count": null,
   "metadata": {},
   "outputs": [],
   "source": [
    "class Node:\n",
    "    def __init__(self, key, value, left=None, right=None):\n",
    "        self.key = key\n",
    "        self.value = value\n",
    "        self.left = left\n",
    "        self.right = right\n",
    "        \n",
    "class BinaryTree:\n",
    "    \n",
    "    def __init__(self):\n",
    "        self.root = None\n",
    "        \n",
    "    def insert(self, key, value):\n",
    "        def assist(node, key, value):\n",
    "            if key < node.key:\n",
    "                if node.left:\n",
    "                    assist(node.left, key, value)\n",
    "                else:\n",
    "                    node.left = Node(key, value)\n",
    "            elif key > node.key:\n",
    "                if node.right:\n",
    "                    assist(node.right, key, value)\n",
    "                else:\n",
    "                    node.right = Node(key, value)\n",
    "            else:\n",
    "                pass\n",
    "        assist(self.root, key, value)\n",
    "    \n",
    "    def preorder(self):\n",
    "        preorder_list = []\n",
    "        def assist(node):\n",
    "            if node:\n",
    "                preorder_list.append(node.value)\n",
    "                if node.left:\n",
    "                    assist(node.left)\n",
    "                if node.right:\n",
    "                    assist(node.right)\n",
    "        assist(self.root)\n",
    "        return preorder_list\n",
    "\n",
    "    def postorder(self):\n",
    "        postorder_list = []\n",
    "        def assist(node):\n",
    "            if node:\n",
    "                if node.left:\n",
    "                    assist(node.left)\n",
    "                if node.right:\n",
    "                    assist(node.right)\n",
    "                postorder_list.append(node.value)\n",
    "        assist(self.root)\n",
    "        return postorder_list\n",
    "\n",
    "import sys\n",
    "sys.setrecursionlimit(10**6)\n",
    "    \n",
    "def solution(nodeinfo):\n",
    "    \n",
    "    nodeinfo = [{'value':i + 1, 'key':nodeinfo[i][0], 'level':nodeinfo[i][1]} for i in range(len(nodeinfo))]\n",
    "    nodeinfo.sort(key=lambda node: node['level'], reverse=True)\n",
    "    \n",
    "    BT = BinaryTree()\n",
    "    BT.root = Node(nodeinfo[0]['key'], nodeinfo[0]['value'])\n",
    "    for i in range(1, len(nodeinfo)):\n",
    "        BT.insert(nodeinfo[i]['key'], nodeinfo[i]['value'])\n",
    "    \n",
    "    return [BT.preorder(), BT.postorder()]"
   ]
  },
  {
   "cell_type": "markdown",
   "metadata": {},
   "source": [
    "#### https://programmers.co.kr/learn/courses/30/lessons/12979"
   ]
  },
  {
   "cell_type": "code",
   "execution_count": null,
   "metadata": {},
   "outputs": [],
   "source": [
    "def solution(n, stations, w):\n",
    "    \n",
    "    answer = 0\n",
    "    stations = [-w] + stations + [n + w + 1]\n",
    "    for i in range(len(stations) - 1):\n",
    "        gap = stations[i + 1] - stations[i] - 1 - 2*w\n",
    "        if gap > 0:\n",
    "            answer += (gap - 1)//(2*w + 1) + 1\n",
    "            \n",
    "    return answer"
   ]
  },
  {
   "cell_type": "markdown",
   "metadata": {},
   "source": [
    "#### https://programmers.co.kr/learn/courses/30/lessons/12936"
   ]
  },
  {
   "cell_type": "code",
   "execution_count": null,
   "metadata": {},
   "outputs": [],
   "source": [
    "import math\n",
    "\n",
    "def solution(n, k):\n",
    "    \n",
    "    base = []\n",
    "    K = k - 1\n",
    "    N = n - 1\n",
    "    while N > 0:\n",
    "        base.append(K//(math.factorial(N)))\n",
    "        K %= math.factorial(N)\n",
    "        N -= 1\n",
    "        \n",
    "    answer = []\n",
    "    number_set = list(range(1, n + 1))\n",
    "    for i in range(len(base)):\n",
    "        answer.append(number_set.pop(base[i]))\n",
    "    answer.append(number_set[0])\n",
    "        \n",
    "    return answer"
   ]
  },
  {
   "cell_type": "markdown",
   "metadata": {},
   "source": [
    "####  https://programmers.co.kr/learn/courses/30/lessons/49994"
   ]
  },
  {
   "cell_type": "code",
   "execution_count": null,
   "metadata": {},
   "outputs": [],
   "source": [
    "def solution(dirs):\n",
    "    \n",
    "    x, y = 0, 0\n",
    "    set_ = set()\n",
    "    dict_ = {'U':(0, 1), 'D':(0, -1), 'R':(1, 0), 'L':(-1, 0)}\n",
    "    for i in range(len(dirs)):\n",
    "        x_d, y_d = dict_[dirs[i]]\n",
    "        if x + x_d > 5 or x + x_d < -5 or y + y_d > 5 or y + y_d < -5:\n",
    "            continue\n",
    "        set_.add(((x, y), (x + x_d, y + y_d)))\n",
    "        set_.add(((x + x_d, y + y_d), (x, y)))\n",
    "        x += x_d\n",
    "        y += y_d\n",
    "    \n",
    "    return len(set_)//2"
   ]
  },
  {
   "cell_type": "markdown",
   "metadata": {},
   "source": [
    "#### https://programmers.co.kr/learn/courses/30/lessons/64064\n",
    "#### Backtracking"
   ]
  },
  {
   "cell_type": "code",
   "execution_count": null,
   "metadata": {},
   "outputs": [],
   "source": [
    "def solution(user_id, banned_id):\n",
    "        \n",
    "    def is_match(user_id, banned_id):        \n",
    "        if len(user_id) != len(banned_id):\n",
    "            return False\n",
    "        for i in range(len(user_id)):\n",
    "            if banned_id[i] != '*' and user_id[i] != banned_id[i]:\n",
    "                return False\n",
    "        return True\n",
    "    \n",
    "    match_id = [[] for _ in range(len(banned_id))]\n",
    "    for i in range(len(banned_id)):\n",
    "        for j in range(len(user_id)):\n",
    "            if is_match(user_id[j], banned_id[i]):\n",
    "                match_id[i].append(user_id[j])\n",
    "    \n",
    "    def DFS(depth, cur_level, cur_list, result):\n",
    "        if cur_level == depth:\n",
    "            if set(cur_list) not in result:\n",
    "                result.append(set(cur_list))\n",
    "            return\n",
    "        for i in range(len(match_id[cur_level])):\n",
    "            if match_id[cur_level][i] not in cur_list:\n",
    "                cur_list.append(match_id[cur_level][i])\n",
    "                DFS(depth, cur_level + 1, cur_list, result)\n",
    "                cur_list.pop()\n",
    "    \n",
    "    result = []\n",
    "    DFS(len(banned_id), 0, [], result)\n",
    "    return result"
   ]
  },
  {
   "cell_type": "markdown",
   "metadata": {},
   "source": [
    "#### https://programmers.co.kr/learn/courses/30/lessons/12952\n",
    "#### DFS / Backtracking"
   ]
  },
  {
   "cell_type": "code",
   "execution_count": null,
   "metadata": {},
   "outputs": [],
   "source": [
    "def solution(n):\n",
    "    \n",
    "    def is_possible(cur_list, i):\n",
    "        for row in range(len(cur_list)):\n",
    "            if cur_list[row] == i:\n",
    "                return False\n",
    "            if abs(cur_list[row] - i) == len(cur_list) - row:\n",
    "                return False\n",
    "        return True\n",
    "    \n",
    "    def DFS(depth, cur_level, cur_list, result):\n",
    "        if cur_level == depth:\n",
    "            result.append(cur_list[:])\n",
    "            return\n",
    "        for i in range(depth):\n",
    "            if is_possible(cur_list, i):\n",
    "                cur_list.append(i)\n",
    "                DFS(depth, cur_level + 1, cur_list, result)\n",
    "                cur_list.pop()\n",
    "    \n",
    "    result = []\n",
    "    DFS(n, 0, [], result)\n",
    "    return len(result)"
   ]
  },
  {
   "cell_type": "markdown",
   "metadata": {},
   "source": [
    "#### https://programmers.co.kr/learn/courses/30/lessons/60063\n",
    "#### BFS"
   ]
  },
  {
   "cell_type": "code",
   "execution_count": null,
   "metadata": {},
   "outputs": [],
   "source": [
    "def solution(board):\n",
    "    \n",
    "    N = len(board)\n",
    "    B = [[1]*(N + 2)] +[[1] + _ + [1] for _ in board] + [[1]*(N + 2)]\n",
    "    \n",
    "    r, c, p = 1, 1, '__'\n",
    "    queue, visited, time = [(r, c, p)], [(r, c, p)], {(r, c, p):0}\n",
    "    \n",
    "    def move_to(coordinate):\n",
    "        if coordinate not in visited:\n",
    "            visited.append(coordinate)\n",
    "            queue.append(coordinate)\n",
    "            time[coordinate] = time[(r, c, p)] + 1\n",
    "    \n",
    "    while len(queue) > 0:\n",
    "        \n",
    "        r, c, p = queue.pop(0)\n",
    "        \n",
    "        if (r, c, p) == (N, N - 1, '__') or (r, c, p) == (N - 1, N, '|'):\n",
    "            return time[(r, c, p)]\n",
    "        \n",
    "        if p == '__':\n",
    "            if (B[r + 1][c], B[r + 1][c + 1]) == (0, 0):\n",
    "                move_to((r + 1, c, p))\n",
    "                move_to((r, c + 1, '|'))\n",
    "                move_to((r, c, '|'))\n",
    "            if c < N and B[r][c + 2] == 0:\n",
    "                move_to((r, c + 1, p))\n",
    "            if (B[r - 1][c], B[r - 1][c + 1]) == (0, 0):\n",
    "                move_to((r - 1, c, p))\n",
    "                move_to((r - 1, c, '|'))\n",
    "                move_to((r - 1, c + 1, '|'))\n",
    "            if B[r][c - 1] == 0:\n",
    "                move_to((r, c - 1, p))\n",
    "        \n",
    "        if p == '|':\n",
    "            if (B[r][c + 1], B[r + 1][c + 1]) == (0, 0):\n",
    "                move_to((r, c + 1, p))\n",
    "                move_to((r, c, '__'))\n",
    "                move_to((r + 1, c, '__'))\n",
    "            if r < N and B[r + 2][c] == 0:\n",
    "                move_to((r + 1, c, p))\n",
    "            if (B[r][c - 1], B[r + 1][c - 1]) == (0, 0):\n",
    "                move_to((r, c - 1, p))\n",
    "                move_to((r, c - 1, '__'))\n",
    "                move_to((r + 1, c - 1, '__'))\n",
    "            if B[r - 1][c] == 0:\n",
    "                move_to((r - 1, c, p))"
   ]
  },
  {
   "cell_type": "markdown",
   "metadata": {},
   "source": [
    "#### https://programmers.co.kr/learn/courses/30/lessons/60059"
   ]
  },
  {
   "cell_type": "code",
   "execution_count": null,
   "metadata": {},
   "outputs": [],
   "source": [
    "import copy\n",
    "\n",
    "def solution(key, lock):\n",
    "\n",
    "    M, N = len(key), len(lock)\n",
    "\n",
    "    if sum([sum(_) for _ in key]) + sum([sum(_) for _ in lock]) < N**2:\n",
    "        return False\n",
    "\n",
    "    def rotate(key):\n",
    "        rotated_key = [[0]*M for _ in range(M)]\n",
    "        for row in range(M):\n",
    "            for col in range(M):\n",
    "                rotated_key[col][M - row - 1] = key[row][col]\n",
    "        return rotated_key\n",
    "\n",
    "    extended_lock = [[0]*(N + M*2 - 2) for _ in range(N + M*2 - 2)]\n",
    "    for row in range(N):\n",
    "        for col in range(N):\n",
    "            extended_lock[row + M - 1][col + M - 1] = lock[row][col]\n",
    "\n",
    "    for _ in range(4):\n",
    "        for row in range(M + N - 1):\n",
    "            for col in range(M + N - 1):\n",
    "                check = copy.deepcopy(extended_lock)\n",
    "                breaker = False\n",
    "                for i in range(M):\n",
    "                    for j in range(M):\n",
    "                        if key[i][j] == 1 and check[row + i][col + j] == 1:\n",
    "                            breaker = True\n",
    "                            break\n",
    "                        else:\n",
    "                            check[row + i][col + j] = key[i][j]|check[row + i][col + j]\n",
    "                    if breaker == True:\n",
    "                        break\n",
    "                else:\n",
    "                    if sum([sum(_[M - 1:M + N - 1]) for _ in check[M - 1:M + N - 1]]) == N**2:\n",
    "                        return True\n",
    "        key = rotate(key)\n",
    "\n",
    "    return False"
   ]
  },
  {
   "cell_type": "markdown",
   "metadata": {},
   "source": [
    "#### https://programmers.co.kr/learn/courses/30/lessons/68646"
   ]
  },
  {
   "cell_type": "code",
   "execution_count": null,
   "metadata": {},
   "outputs": [],
   "source": [
    "def solution(a):\n",
    "    \n",
    "    if len(a) <= 2:\n",
    "        return len(a)\n",
    "    \n",
    "    min_l = [a[0]]\n",
    "    for i in range(1, len(a)):\n",
    "        tmp = min_l[-1]\n",
    "        min_l.append(a[i] if tmp > a[i] else tmp)\n",
    "\n",
    "    min_r = [a[len(a) - 1]]\n",
    "    for i in range(len(a) - 2, -1, -1):\n",
    "        tmp = min_r[-1]\n",
    "        min_r.append(a[i] if tmp > a[i] else tmp)\n",
    "        \n",
    "    min_r = min_r[::-1]\n",
    "    \n",
    "    answer = 2\n",
    "    for i in range(1, len(a) - 1):\n",
    "        if min_l[i - 1] > a[i] or a[i] < min_r[i + 1]:\n",
    "            answer += 1\n",
    "            \n",
    "    return answer"
   ]
  },
  {
   "cell_type": "markdown",
   "metadata": {},
   "source": [
    "#### https://programmers.co.kr/learn/courses/30/lessons/12907"
   ]
  },
  {
   "cell_type": "code",
   "execution_count": null,
   "metadata": {},
   "outputs": [],
   "source": [
    "def solution(n, money):\n",
    "    dp = [1] + [0] * n\n",
    "\n",
    "    for coin in money:\n",
    "        for price in range(coin, n + 1):\n",
    "            if price >= coin:\n",
    "                dp[price] += dp[price - coin]\n",
    "    \n",
    "    return dp[n] % 1000000007"
   ]
  },
  {
   "cell_type": "markdown",
   "metadata": {},
   "source": [
    "#### https://programmers.co.kr/learn/courses/30/lessons/67258"
   ]
  },
  {
   "cell_type": "code",
   "execution_count": null,
   "metadata": {},
   "outputs": [],
   "source": [
    "from collections import defaultdict\n",
    "\n",
    "def solution(gems):\n",
    "    \n",
    "    gems_all = set(gems)\n",
    "    N = len(gems_all)\n",
    "    \n",
    "    basket = defaultdict(lambda: 0)\n",
    "    s, e = 0, N - 1\n",
    "    for i in range(s, e + 1):\n",
    "        basket[gems[i]] += 1\n",
    "    \n",
    "    result = []\n",
    "    while True:\n",
    "        if len(basket) == N:\n",
    "            result.append([s + 1, e + 1])\n",
    "            basket[gems[s]] -= 1\n",
    "            if basket[gems[s]] == 0:\n",
    "                del basket[gems[s]]\n",
    "            s += 1\n",
    "        elif e == len(gems) - 1:\n",
    "            break\n",
    "        else:\n",
    "            e += 1\n",
    "            basket[gems[e]] += 1\n",
    "    \n",
    "    return sorted(sorted(result), key = lambda x: x[1] - x[0])[0]"
   ]
  },
  {
   "cell_type": "markdown",
   "metadata": {},
   "source": [
    "#### https://programmers.co.kr/learn/courses/30/lessons/72414"
   ]
  },
  {
   "cell_type": "code",
   "execution_count": null,
   "metadata": {},
   "outputs": [],
   "source": [
    "def solution(play_time, adv_time, logs):\n",
    "    \n",
    "    def second(time):\n",
    "        return sum([int(num)*60**(2 - idx) for idx, num in enumerate(time.split(':'))])\n",
    "\n",
    "    def time(second):\n",
    "        return '{:02d}:{:02d}:{:02d}'.format(second//3600, second//60%60, second%60)\n",
    "\n",
    "    play_time = second(play_time)\n",
    "    adv_time = second(adv_time)\n",
    "    logs = [[second(_) for _ in log.split('-')] for log in logs]\n",
    "\n",
    "    arr = [0 for _ in range(play_time + 1)]\n",
    "    for log in logs:\n",
    "        arr[log[0]] += 1\n",
    "        arr[log[1]] -= 1\n",
    "    \n",
    "    for idx in range(1, play_time):\n",
    "        arr[idx] += arr[idx - 1]\n",
    "    \n",
    "    start = 0; start_max = 0;\n",
    "    end = adv_time;\n",
    "    total = sum(arr[start:end]); total_max = total;\n",
    "    while end < play_time:\n",
    "        total += arr[end] - arr[start]\n",
    "        if total > total_max:\n",
    "            total_max = total\n",
    "            start_max = start + 1\n",
    "        start += 1; end += 1;\n",
    "            \n",
    "    return time(start_max)"
   ]
  },
  {
   "cell_type": "markdown",
   "metadata": {},
   "source": [
    "#### https://programmers.co.kr/learn/courses/30/lessons/17676"
   ]
  },
  {
   "cell_type": "code",
   "execution_count": null,
   "metadata": {},
   "outputs": [],
   "source": [
    "def line_to_sec(line):\n",
    "    tmp = line.split()\n",
    "    hh, mm, ss = map(int, tmp[1].replace('.', '').split(':'))\n",
    "    duration = sum([int(num)*(1000 if idx == 0 else 10**(3 - len(num))) for idx, num in enumerate(tmp[2][:-1].split('.'))])\n",
    "    end = hh*60**2*1000 + mm*60*1000 + ss\n",
    "    start = end - duration + 1\n",
    "    return start, end\n",
    "\n",
    "def solution(lines):\n",
    "    \n",
    "    lines = [line_to_sec(line) for line in lines]\n",
    "    print(lines)\n",
    "    N, answer = len(lines), 0\n",
    "    \n",
    "    def count(s, e):\n",
    "        cnt_s, cnt_e = 0, 0\n",
    "        for line in lines:\n",
    "            new_s, new_e = line\n",
    "            if not ((new_e < s - 999) or (s < new_s)):\n",
    "                cnt_s += 1\n",
    "            if not ((new_e < e) or (e - 999 < new_s)):\n",
    "                cnt_e += 1\n",
    "        return max(cnt_s, cnt_e)\n",
    "    \n",
    "    answer = 0\n",
    "    for line in lines:\n",
    "        cnt = count(line[0], line[1])\n",
    "        print(cnt)\n",
    "        if cnt > answer:\n",
    "            answer = cnt\n",
    "        \n",
    "    return answer"
   ]
  },
  {
   "cell_type": "markdown",
   "metadata": {},
   "source": [
    "#### https://programmers.co.kr/learn/courses/30/lessons/17678"
   ]
  },
  {
   "cell_type": "code",
   "execution_count": null,
   "metadata": {},
   "outputs": [],
   "source": [
    "def time_to_min(time):\n",
    "    return sum([int(num)*60**(1 - idx) for idx, num in enumerate(time.split(':'))])\n",
    "\n",
    "def min_to_time(min):\n",
    "    return '{:02d}:{:02d}'.format(min//60, min%60)\n",
    "\n",
    "def solution(n, t, m, timetable):\n",
    "    \n",
    "    crew_line = sorted([time_to_min(time) for time in timetable], reverse = False)\n",
    "    \n",
    "    bus = {}\n",
    "    first = 540; last = 540 + (n - 1)*t;\n",
    "    for dep_time in range(first, last + t, t):\n",
    "        bus[dep_time] = []\n",
    "    \n",
    "    for dep_time in bus.keys():\n",
    "        if crew_line == []:\n",
    "            break\n",
    "        while crew_line[0] <= dep_time and len(bus[dep_time]) < m:\n",
    "            bus[dep_time].append(crew_line.pop(0))\n",
    "            if crew_line == []:\n",
    "                break\n",
    "    \n",
    "    last_bus = bus[last]\n",
    "    if len(last_bus) < m:\n",
    "        return min_to_time(last)\n",
    "    \n",
    "    last_crew = last_bus[-1]\n",
    "    return min_to_time(last_crew - 1)"
   ]
  },
  {
   "cell_type": "markdown",
   "metadata": {},
   "source": [
    "#### https://programmers.co.kr/learn/courses/30/lessons/42892"
   ]
  },
  {
   "cell_type": "code",
   "execution_count": null,
   "metadata": {},
   "outputs": [],
   "source": [
    "class Node:\n",
    "    def __init__(self, key, value, left = None, right = None):\n",
    "        self.key = key\n",
    "        self.value = value\n",
    "        self.left = left\n",
    "        self.right = right\n",
    "\n",
    "class BinarySearchTree:\n",
    "    \n",
    "    def __init__(self):\n",
    "        self.root = None\n",
    "    \n",
    "    def put(self, key, value):\n",
    "        self.root = self.put_assist(self.root, key, value)\n",
    "    \n",
    "    def put_assist(self, node, key, value):\n",
    "        if node == None:\n",
    "            return Node(key, value)\n",
    "        if node.value > value:\n",
    "            node.left = self.put_assist(node.left, key, value)\n",
    "        if node.value < value:\n",
    "            node.right = self.put_assist(node.right, key, value)\n",
    "        return node\n",
    "    \n",
    "    def preorder(self):\n",
    "        return self.preorder_assist(self.root, [])\n",
    "    \n",
    "    def preorder_assist(self, node, result):\n",
    "        if node != None:\n",
    "            result.append(node.key)\n",
    "            if node.left != None:\n",
    "                self.preorder_assist(node.left, result)\n",
    "            if node.right != None:\n",
    "                self.preorder_assist(node.right, result)\n",
    "        return result\n",
    "    \n",
    "    def postorder(self):\n",
    "        return self.postorder_assist(self.root, [])\n",
    "    \n",
    "    def postorder_assist(self, node, result):\n",
    "        if node != None:\n",
    "            if node.left != None:\n",
    "                self.postorder_assist(node.left, result)\n",
    "            if node.right != None:\n",
    "                self.postorder_assist(node.right, result)\n",
    "            result.append(node.key)\n",
    "        return result\n",
    "    \n",
    "def solution(nodeinfo):\n",
    "    \n",
    "    import sys\n",
    "    sys.setrecursionlimit(10**6)\n",
    "    \n",
    "    nodes = sorted([[idx + 1] + node for idx, node in enumerate(nodeinfo)], key = lambda x: x[-1], reverse = True)\n",
    "    \n",
    "    BST = BinarySearchTree()\n",
    "    for node in nodes:\n",
    "        BST.put(node[0], node[1])\n",
    "    \n",
    "    return [BST.preorder(), BST.postorder()]"
   ]
  },
  {
   "cell_type": "markdown",
   "metadata": {},
   "source": [
    "#### https://programmers.co.kr/learn/courses/30/lessons/42893"
   ]
  },
  {
   "cell_type": "code",
   "execution_count": null,
   "metadata": {},
   "outputs": [],
   "source": [
    "def solution(word, pages):\n",
    "    \n",
    "    N = len(pages)\n",
    "    \n",
    "    import re\n",
    "    \n",
    "    url = [0]*N; to_link = [0]*N; word_count = [0]*N;\n",
    "    for idx in range(N):\n",
    "        url[idx] = re.search('''<meta.*content=\"([^\"]*)\"''', pages[idx]).group(1)\n",
    "        to_link[idx] = re.findall('''<a href=\"([^\"]*)\"''', pages[idx])\n",
    "        for string in re.split('[^a-zA-Z]', pages[idx].lower()):\n",
    "            if string == word.lower():\n",
    "                word_count[idx] += 1\n",
    "    \n",
    "    link_score = {}\n",
    "    for idx in range(N):\n",
    "        link_score[url[idx]] = 0\n",
    "    for idx in range(N):\n",
    "        for link in to_link[idx]:\n",
    "            if link in url:\n",
    "                link_score[link] += word_count[idx]/len(to_link[idx])\n",
    "    \n",
    "    score = [word_count[idx] + link_score[url[idx]] for idx in range(N)]\n",
    "    return score.index(max(score))"
   ]
  },
  {
   "cell_type": "markdown",
   "metadata": {},
   "source": [
    "#### https://programmers.co.kr/learn/courses/30/lessons/60059"
   ]
  },
  {
   "cell_type": "code",
   "execution_count": null,
   "metadata": {},
   "outputs": [],
   "source": [
    "def rotate(key):\n",
    "    N = len(key)\n",
    "    rotated_key = [[0 for j in range(N)] for i in range(N)]\n",
    "    for i in range(N):\n",
    "        for j in range(N):\n",
    "            rotated_key[j][N - i - 1] = key[i][j]\n",
    "    return rotated_key\n",
    "\n",
    "def extend(lock, N, M):\n",
    "    extended_lock = [[0 for j in range(N + M*2)] for i in range(N + M*2)]\n",
    "    for i in range(N):\n",
    "        for j in range(N):\n",
    "            extended_lock[i + M][j + M] = lock[i][j]\n",
    "    return extended_lock\n",
    "\n",
    "def match(key, extended_lock, x, y, N, M):\n",
    "    e = extended_lock\n",
    "    for i in range(M):\n",
    "        for j in range(M):\n",
    "            e[x + i][y + j] += key[i][j]\n",
    "    for i in range(M, N + M):\n",
    "        for j in range(M, N + M):\n",
    "            if e[i][j] != 1:\n",
    "                return False\n",
    "    return True\n",
    "\n",
    "def solution(key, lock):\n",
    "    N = len(lock); M = len(key);\n",
    "    k = key\n",
    "    for count in range(4):\n",
    "        k = rotate(k)\n",
    "        for x in range(N + M):\n",
    "            for y in range(N + M):\n",
    "                if match(k, extend(lock, N, M), x, y, N, M):\n",
    "                    return True\n",
    "    return False"
   ]
  },
  {
   "cell_type": "markdown",
   "metadata": {},
   "source": [
    "#### https://programmers.co.kr/learn/courses/30/lessons/60061"
   ]
  },
  {
   "cell_type": "code",
   "execution_count": null,
   "metadata": {},
   "outputs": [],
   "source": [
    "def check(ans):\n",
    "    for x, y, what in ans:\n",
    "        if what == 0:\n",
    "            if y == 0 or [x-1, y, 1] in ans or [x, y, 1] in ans or [x, y-1, 0] in ans:\n",
    "                continue\n",
    "            else:\n",
    "                return False\n",
    "        elif what == 1:\n",
    "            if [x, y-1, 0] in ans or [x+1, y-1, 0] in ans or ([x-1, y, 1] in ans and [x+1, y, 1] in ans):\n",
    "                continue\n",
    "            else:\n",
    "                return False\n",
    "    return True\n",
    "\n",
    "\n",
    "def solution(n, build_frame):\n",
    "    answer = []\n",
    "\n",
    "    for f in build_frame:\n",
    "        x, y, what, how = f\n",
    "\n",
    "        if how == 1:\n",
    "            answer.append([x, y, what])\n",
    "            if check(answer) is False:\n",
    "                answer.remove([x, y, what])\n",
    "        else:\n",
    "            answer.remove([x, y, what])\n",
    "            if check(answer) is False:\n",
    "                answer.append([x, y, what])\n",
    "\n",
    "    answer.sort()\n",
    "    return answer"
   ]
  }
 ],
 "metadata": {
  "kernelspec": {
   "display_name": "Python 3",
   "language": "python",
   "name": "python3"
  },
  "language_info": {
   "codemirror_mode": {
    "name": "ipython",
    "version": 3
   },
   "file_extension": ".py",
   "mimetype": "text/x-python",
   "name": "python",
   "nbconvert_exporter": "python",
   "pygments_lexer": "ipython3",
   "version": "3.7.9"
  }
 },
 "nbformat": 4,
 "nbformat_minor": 4
}
