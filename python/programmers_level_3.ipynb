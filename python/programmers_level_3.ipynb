{
 "cells": [
  {
   "cell_type": "markdown",
   "metadata": {},
   "source": [
    "#### https://programmers.co.kr/learn/courses/30/lessons/62049"
   ]
  },
  {
   "cell_type": "code",
   "execution_count": 1,
   "metadata": {},
   "outputs": [],
   "source": [
    "def solution(n):\n",
    "    \n",
    "    DP = [None] * n\n",
    "    DP[0] = [0]\n",
    "    \n",
    "    for i in range(1, n):\n",
    "        DP[i] = DP[i - 1] + [0] + list(map(lambda x: 0 if x else 1, reversed(DP[i - 1])))\n",
    "    \n",
    "    return DP[-1]"
   ]
  },
  {
   "cell_type": "markdown",
   "metadata": {},
   "source": [
    "#### https://programmers.co.kr/learn/courses/30/lessons/12900"
   ]
  },
  {
   "cell_type": "code",
   "execution_count": 2,
   "metadata": {},
   "outputs": [],
   "source": [
    "def solution(n):\n",
    "    \n",
    "    DP = [1] + [2] + [None] * (n - 2)\n",
    "    \n",
    "    for i in range(2, n):\n",
    "        DP[i] = (DP[i - 1] + DP[i - 2])%1000000007\n",
    "    \n",
    "    return DP[-1]"
   ]
  },
  {
   "cell_type": "markdown",
   "metadata": {},
   "source": [
    "#### https://programmers.co.kr/learn/courses/30/lessons/12904"
   ]
  },
  {
   "cell_type": "code",
   "execution_count": 3,
   "metadata": {},
   "outputs": [],
   "source": [
    "def solution(s):\n",
    "    \n",
    "    def is_pal(s):\n",
    "        for i in range((len(s))//2):\n",
    "            if s[i] != s[-(i + 1)]:\n",
    "                return False\n",
    "        return True\n",
    "    \n",
    "    for length in range(len(s), 1, -1):\n",
    "        for idx in range(len(s) - length + 1):\n",
    "            print(idx, length)\n",
    "    \n",
    "    return 1"
   ]
  },
  {
   "cell_type": "markdown",
   "metadata": {},
   "source": [
    "#### https://programmers.co.kr/learn/courses/30/lessons/12914"
   ]
  },
  {
   "cell_type": "code",
   "execution_count": 4,
   "metadata": {},
   "outputs": [],
   "source": [
    "def solution(n):\n",
    "    \n",
    "    u, v = 1, 2\n",
    "    \n",
    "    if n == 1:\n",
    "        return u\n",
    "    \n",
    "    if n == 2:\n",
    "        return v\n",
    "    \n",
    "    for i in range(n - 2):\n",
    "        u, v = v%1234567, (u + v)%1234567\n",
    "    \n",
    "    return v"
   ]
  },
  {
   "cell_type": "markdown",
   "metadata": {},
   "source": [
    "#### https://programmers.co.kr/learn/courses/30/lessons/12927"
   ]
  },
  {
   "cell_type": "code",
   "execution_count": 5,
   "metadata": {},
   "outputs": [],
   "source": [
    "import heapq as hq\n",
    "\n",
    "def solution(n, works):\n",
    "    \n",
    "    works = [(-1)*work for work in works]\n",
    "    hq.heapify(works)\n",
    "    for i in range(n):\n",
    "        minimum = hq.heappop(works)\n",
    "        if minimum == 0:\n",
    "            break\n",
    "        hq.heappush(works, minimum + 1)\n",
    "    \n",
    "    return sum([work**2 for work in works])"
   ]
  },
  {
   "cell_type": "markdown",
   "metadata": {},
   "source": [
    "#### https://programmers.co.kr/learn/courses/30/lessons/12938"
   ]
  },
  {
   "cell_type": "code",
   "execution_count": 6,
   "metadata": {},
   "outputs": [],
   "source": [
    "def solution(n, s):\n",
    "    \n",
    "    if n > s:\n",
    "        return [-1]\n",
    "    \n",
    "    if n == s:\n",
    "        return [1] * n\n",
    "    \n",
    "    if n%s == 0:\n",
    "        return [s//n] * n\n",
    "    \n",
    "    return [s//n]*(n - s%n) + [s//n + 1]*(s%n)"
   ]
  },
  {
   "cell_type": "markdown",
   "metadata": {},
   "source": [
    "#### https://programmers.co.kr/learn/courses/30/lessons/12946"
   ]
  },
  {
   "cell_type": "code",
   "execution_count": 7,
   "metadata": {},
   "outputs": [],
   "source": [
    "def solution(n):\n",
    "    \n",
    "    if n == 1:\n",
    "        return [[1, 3]]\n",
    "    \n",
    "    prev_ = ['13']\n",
    "    for i in range(1, n):\n",
    "        next_ = [p.replace('3', '#').replace('2', '@').replace('@', '3').replace('#', '2') for p in prev_] +\\\n",
    "                ['13'] +\\\n",
    "                [p.replace('1', '!').replace('2', '@').replace('@', '1').replace('!', '2') for p in prev_]\n",
    "        prev_ = next_\n",
    "        \n",
    "    return [list(map(int, list(n))) for n in next_]"
   ]
  },
  {
   "cell_type": "markdown",
   "metadata": {},
   "source": [
    "#### https://programmers.co.kr/learn/courses/30/lessons/12987"
   ]
  },
  {
   "cell_type": "code",
   "execution_count": 8,
   "metadata": {},
   "outputs": [],
   "source": [
    "def solution(A, B):\n",
    "    \n",
    "    A.sort(reverse=True)\n",
    "    B.sort(reverse=True)\n",
    "    \n",
    "    answer = 0\n",
    "    for a in A:\n",
    "        if a >= B[0]:\n",
    "            continue\n",
    "        else:\n",
    "            B.pop(0)\n",
    "            answer += 1\n",
    "    \n",
    "    return answer"
   ]
  },
  {
   "cell_type": "markdown",
   "metadata": {},
   "source": [
    "#### https://programmers.co.kr/learn/courses/30/lessons/64062"
   ]
  },
  {
   "cell_type": "code",
   "execution_count": 9,
   "metadata": {},
   "outputs": [],
   "source": [
    "from collections import deque\n",
    "\n",
    "def solution(stones, k):\n",
    "    \n",
    "    deq = deque(stones[:k])  \n",
    "    answer = max(deq)\n",
    "    maximum = max(deq)\n",
    "    \n",
    "    for i in range(k, len(stones)):\n",
    "        removed = deq.popleft()\n",
    "        deq.append(stones[i])\n",
    "        if removed >= maximum:\n",
    "            maximum = max(deq)\n",
    "        else:\n",
    "            maximum = max(maximum, deq[-1])\n",
    "        if maximum < answer:\n",
    "            answer = maximum\n",
    "    \n",
    "    return answer"
   ]
  },
  {
   "cell_type": "markdown",
   "metadata": {},
   "source": [
    "#### https://programmers.co.kr/learn/courses/30/lessons/12978"
   ]
  },
  {
   "cell_type": "code",
   "execution_count": 10,
   "metadata": {},
   "outputs": [],
   "source": [
    "import sys\n",
    "\n",
    "def Dijkstra(graph, start, N):\n",
    "    \n",
    "    visited = [False] * N\n",
    "    D = [sys.maxsize] * N\n",
    "    previous = [None] * N\n",
    "    \n",
    "    D[start], previous[start] = 0, start\n",
    "    \n",
    "    vertices = 1\n",
    "    while True:\n",
    "        \n",
    "        if vertices == N:\n",
    "            break\n",
    "        \n",
    "        min_vertex = -1\n",
    "        min_value = sys.maxsize\n",
    "        for v in range(N):\n",
    "            if not visited[v] and D[v] < min_value:\n",
    "                min_vertex = v\n",
    "                min_value = D[v]\n",
    "        visited[min_vertex] = True\n",
    "        vertices += 1\n",
    "        \n",
    "        for adj_v, weight in graph[min_vertex]:\n",
    "            if not visited[adj_v]:\n",
    "                if D[min_vertex] + weight < D[adj_v]:\n",
    "                    D[adj_v] = D[min_vertex] + weight\n",
    "                    previous[adj_v] = min_vertex\n",
    "    return D\n",
    "\n",
    "def solution(N, road, K):\n",
    "    \n",
    "    graph = {}\n",
    "    for i in range(len(road)):\n",
    "        graph[road[i][0] - 1] = graph.get(road[i][0] - 1, []) + [(road[i][1] - 1, road[i][2])]\n",
    "        graph[road[i][1] - 1] = graph.get(road[i][1] - 1, []) + [(road[i][0] - 1, road[i][2])]\n",
    "    \n",
    "    D = Dijkstra(graph, 0, N)\n",
    "    \n",
    "    return sum([1 if D[i] <= K else 0 for i in range(N)])"
   ]
  },
  {
   "cell_type": "markdown",
   "metadata": {},
   "source": [
    "#### https://programmers.co.kr/learn/courses/30/lessons/42892"
   ]
  },
  {
   "cell_type": "code",
   "execution_count": 11,
   "metadata": {},
   "outputs": [],
   "source": [
    "class Node:\n",
    "    def __init__(self, key, value, left=None, right=None):\n",
    "        self.key = key\n",
    "        self.value = value\n",
    "        self.left = left\n",
    "        self.right = right\n",
    "        \n",
    "class BinaryTree:\n",
    "    \n",
    "    def __init__(self):\n",
    "        self.root = None\n",
    "        \n",
    "    def insert(self, key, value):\n",
    "        def assist(node, key, value):\n",
    "            if key < node.key:\n",
    "                if node.left:\n",
    "                    assist(node.left, key, value)\n",
    "                else:\n",
    "                    node.left = Node(key, value)\n",
    "            elif key > node.key:\n",
    "                if node.right:\n",
    "                    assist(node.right, key, value)\n",
    "                else:\n",
    "                    node.right = Node(key, value)\n",
    "            else:\n",
    "                pass\n",
    "        assist(self.root, key, value)\n",
    "    \n",
    "    def preorder(self):\n",
    "        preorder_list = []\n",
    "        def assist(node):\n",
    "            if node:\n",
    "                preorder_list.append(node.value)\n",
    "                if node.left:\n",
    "                    assist(node.left)\n",
    "                if node.right:\n",
    "                    assist(node.right)\n",
    "        assist(self.root)\n",
    "        return preorder_list\n",
    "\n",
    "    def postorder(self):\n",
    "        postorder_list = []\n",
    "        def assist(node):\n",
    "            if node:\n",
    "                if node.left:\n",
    "                    assist(node.left)\n",
    "                if node.right:\n",
    "                    assist(node.right)\n",
    "                postorder_list.append(node.value)\n",
    "        assist(self.root)\n",
    "        return postorder_list\n",
    "\n",
    "import sys\n",
    "sys.setrecursionlimit(10**6)\n",
    "    \n",
    "def solution(nodeinfo):\n",
    "    \n",
    "    nodeinfo = [{'value':i + 1, 'key':nodeinfo[i][0], 'level':nodeinfo[i][1]} for i in range(len(nodeinfo))]\n",
    "    nodeinfo.sort(key=lambda node: node['level'], reverse=True)\n",
    "    \n",
    "    BT = BinaryTree()\n",
    "    BT.root = Node(nodeinfo[0]['key'], nodeinfo[0]['value'])\n",
    "    for i in range(1, len(nodeinfo)):\n",
    "        BT.insert(nodeinfo[i]['key'], nodeinfo[i]['value'])\n",
    "    \n",
    "    return [BT.preorder(), BT.postorder()]"
   ]
  },
  {
   "cell_type": "markdown",
   "metadata": {},
   "source": [
    "#### https://programmers.co.kr/learn/courses/30/lessons/12979"
   ]
  },
  {
   "cell_type": "code",
   "execution_count": 12,
   "metadata": {},
   "outputs": [],
   "source": [
    "def solution(n, stations, w):\n",
    "    \n",
    "    answer = 0\n",
    "    stations = [-w] + stations + [n + w + 1]\n",
    "    for i in range(len(stations) - 1):\n",
    "        gap = stations[i + 1] - stations[i] - 1 - 2*w\n",
    "        if gap > 0:\n",
    "            answer += (gap - 1)//(2*w + 1) + 1\n",
    "            \n",
    "    return answer"
   ]
  },
  {
   "cell_type": "markdown",
   "metadata": {},
   "source": [
    "#### https://programmers.co.kr/learn/courses/30/lessons/12936"
   ]
  },
  {
   "cell_type": "code",
   "execution_count": 13,
   "metadata": {},
   "outputs": [],
   "source": [
    "import math\n",
    "\n",
    "def solution(n, k):\n",
    "    \n",
    "    base = []\n",
    "    K = k - 1\n",
    "    N = n - 1\n",
    "    while N > 0:\n",
    "        base.append(K//(math.factorial(N)))\n",
    "        K %= math.factorial(N)\n",
    "        N -= 1\n",
    "        \n",
    "    answer = []\n",
    "    number_set = list(range(1, n + 1))\n",
    "    for i in range(len(base)):\n",
    "        answer.append(number_set.pop(base[i]))\n",
    "    answer.append(number_set[0])\n",
    "        \n",
    "    return answer"
   ]
  },
  {
   "cell_type": "markdown",
   "metadata": {},
   "source": [
    "####  https://programmers.co.kr/learn/courses/30/lessons/49994"
   ]
  },
  {
   "cell_type": "code",
   "execution_count": 14,
   "metadata": {},
   "outputs": [],
   "source": [
    "def solution(dirs):\n",
    "    \n",
    "    x, y = 0, 0\n",
    "    set_ = set()\n",
    "    dict_ = {'U':(0, 1), 'D':(0, -1), 'R':(1, 0), 'L':(-1, 0)}\n",
    "    for i in range(len(dirs)):\n",
    "        x_d, y_d = dict_[dirs[i]]\n",
    "        if x + x_d > 5 or x + x_d < -5 or y + y_d > 5 or y + y_d < -5:\n",
    "            continue\n",
    "        set_.add(((x, y), (x + x_d, y + y_d)))\n",
    "        set_.add(((x + x_d, y + y_d), (x, y)))\n",
    "        x += x_d\n",
    "        y += y_d\n",
    "    \n",
    "    return len(set_)//2"
   ]
  },
  {
   "cell_type": "markdown",
   "metadata": {},
   "source": [
    "#### https://programmers.co.kr/learn/courses/30/lessons/64064\n",
    "#### Backtracking"
   ]
  },
  {
   "cell_type": "code",
   "execution_count": 15,
   "metadata": {},
   "outputs": [],
   "source": [
    "def solution(user_id, banned_id):\n",
    "        \n",
    "    def is_match(user_id, banned_id):        \n",
    "        if len(user_id) != len(banned_id):\n",
    "            return False\n",
    "        for i in range(len(user_id)):\n",
    "            if banned_id[i] != '*' and user_id[i] != banned_id[i]:\n",
    "                return False\n",
    "        return True\n",
    "    \n",
    "    match_id = [[] for _ in range(len(banned_id))]\n",
    "    for i in range(len(banned_id)):\n",
    "        for j in range(len(user_id)):\n",
    "            if is_match(user_id[j], banned_id[i]):\n",
    "                match_id[i].append(user_id[j])\n",
    "    \n",
    "    def DFS(depth, cur_level, cur_list, result):\n",
    "        if cur_level == depth:\n",
    "            if set(cur_list) not in result:\n",
    "                result.append(set(cur_list))\n",
    "            return\n",
    "        for i in range(len(match_id[cur_level])):\n",
    "            if match_id[cur_level][i] not in cur_list:\n",
    "                cur_list.append(match_id[cur_level][i])\n",
    "                DFS(depth, cur_level + 1, cur_list, result)\n",
    "                cur_list.pop()\n",
    "    \n",
    "    result = []\n",
    "    DFS(len(banned_id), 0, [], result)\n",
    "    return result"
   ]
  },
  {
   "cell_type": "markdown",
   "metadata": {},
   "source": [
    "#### https://programmers.co.kr/learn/courses/30/lessons/12952\n",
    "#### Backtracking"
   ]
  },
  {
   "cell_type": "code",
   "execution_count": 16,
   "metadata": {},
   "outputs": [],
   "source": [
    "def solution(n):\n",
    "    \n",
    "    def is_possible(cur_list, i):\n",
    "        for row in range(len(cur_list)):\n",
    "            if cur_list[row] == i:\n",
    "                return False\n",
    "            if abs(cur_list[row] - i) == len(cur_list) - row:\n",
    "                return False\n",
    "        return True\n",
    "    \n",
    "    def DFS(depth, cur_level, cur_list, result):\n",
    "        if cur_level == depth:\n",
    "            result.append(cur_list[:])\n",
    "            return\n",
    "        for i in range(depth):\n",
    "            if is_possible(cur_list, i):\n",
    "                cur_list.append(i)\n",
    "                DFS(depth, cur_level + 1, cur_list, result)\n",
    "                cur_list.pop()\n",
    "    \n",
    "    result = []\n",
    "    DFS(n, 0, [], result)\n",
    "    return len(result)"
   ]
  },
  {
   "cell_type": "markdown",
   "metadata": {},
   "source": [
    "#### https://programmers.co.kr/learn/courses/30/lessons/60063\n",
    "#### BFS"
   ]
  },
  {
   "cell_type": "code",
   "execution_count": 17,
   "metadata": {},
   "outputs": [],
   "source": [
    "def solution(board):\n",
    "    \n",
    "    N = len(board)\n",
    "    B = [[1]*(N + 2)] +[[1] + _ + [1] for _ in board] + [[1]*(N + 2)]\n",
    "    \n",
    "    r, c, p = 1, 1, '__'\n",
    "    queue, visited, time = [(r, c, p)], [(r, c, p)], {(r, c, p):0}\n",
    "    \n",
    "    def move_to(coordinate):\n",
    "        if coordinate not in visited:\n",
    "            visited.append(coordinate)\n",
    "            queue.append(coordinate)\n",
    "            time[coordinate] = time[(r, c, p)] + 1\n",
    "    \n",
    "    while len(queue) > 0:\n",
    "        \n",
    "        r, c, p = queue.pop(0)\n",
    "        \n",
    "        if (r, c, p) == (N, N - 1, '__') or (r, c, p) == (N - 1, N, '|'):\n",
    "            return time[(r, c, p)]\n",
    "        \n",
    "        if p == '__':\n",
    "            if (B[r + 1][c], B[r + 1][c + 1]) == (0, 0):\n",
    "                move_to((r + 1, c, p))\n",
    "                move_to((r, c + 1, '|'))\n",
    "                move_to((r, c, '|'))\n",
    "            if c < N and B[r][c + 2] == 0:\n",
    "                move_to((r, c + 1, p))\n",
    "            if (B[r - 1][c], B[r - 1][c + 1]) == (0, 0):\n",
    "                move_to((r - 1, c, p))\n",
    "                move_to((r - 1, c, '|'))\n",
    "                move_to((r - 1, c + 1, '|'))\n",
    "            if B[r][c - 1] == 0:\n",
    "                move_to((r, c - 1, p))\n",
    "        \n",
    "        if p == '|':\n",
    "            if (B[r][c + 1], B[r + 1][c + 1]) == (0, 0):\n",
    "                move_to((r, c + 1, p))\n",
    "                move_to((r, c, '__'))\n",
    "                move_to((r + 1, c, '__'))\n",
    "            if r < N and B[r + 2][c] == 0:\n",
    "                move_to((r + 1, c, p))\n",
    "            if (B[r][c - 1], B[r + 1][c - 1]) == (0, 0):\n",
    "                move_to((r, c - 1, p))\n",
    "                move_to((r, c - 1, '__'))\n",
    "                move_to((r + 1, c - 1, '__'))\n",
    "            if B[r - 1][c] == 0:\n",
    "                move_to((r - 1, c, p))"
   ]
  }
 ],
 "metadata": {
  "kernelspec": {
   "display_name": "Python 3",
   "language": "python",
   "name": "python3"
  },
  "language_info": {
   "codemirror_mode": {
    "name": "ipython",
    "version": 3
   },
   "file_extension": ".py",
   "mimetype": "text/x-python",
   "name": "python",
   "nbconvert_exporter": "python",
   "pygments_lexer": "ipython3",
   "version": "3.7.6"
  }
 },
 "nbformat": 4,
 "nbformat_minor": 4
}
