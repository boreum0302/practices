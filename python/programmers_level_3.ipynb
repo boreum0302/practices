{
 "cells": [
  {
   "cell_type": "markdown",
   "metadata": {},
   "source": [
    "#### https://programmers.co.kr/learn/courses/30/lessons/62049"
   ]
  },
  {
   "cell_type": "code",
   "execution_count": 1,
   "metadata": {},
   "outputs": [],
   "source": [
    "def solution(n):\n",
    "    \n",
    "    DP = [None] * n\n",
    "    DP[0] = [0]\n",
    "    \n",
    "    for i in range(1, n):\n",
    "        DP[i] = DP[i - 1] + [0] + list(map(lambda x: 0 if x else 1, reversed(DP[i - 1])))\n",
    "    \n",
    "    return DP[-1]"
   ]
  },
  {
   "cell_type": "markdown",
   "metadata": {},
   "source": [
    "#### https://programmers.co.kr/learn/courses/30/lessons/12900"
   ]
  },
  {
   "cell_type": "markdown",
   "metadata": {},
   "source": [
    "def solution(n):\n",
    "    \n",
    "    DP = [1] + [2] + [None] * (n - 2)\n",
    "    \n",
    "    for i in range(2, n):\n",
    "        DP[i] = (DP[i - 1] + DP[i - 2])%1000000007\n",
    "    \n",
    "    return DP[-1]"
   ]
  },
  {
   "cell_type": "markdown",
   "metadata": {},
   "source": [
    "#### https://programmers.co.kr/learn/courses/30/lessons/12904"
   ]
  },
  {
   "cell_type": "code",
   "execution_count": 2,
   "metadata": {},
   "outputs": [],
   "source": [
    "def solution(s):\n",
    "    \n",
    "    def is_pal(s):\n",
    "        for i in range((len(s))//2):\n",
    "            if s[i] != s[-(i + 1)]:\n",
    "                return False\n",
    "        return True\n",
    "    \n",
    "    for length in range(len(s), 1, -1):\n",
    "        for idx in range(len(s) - length + 1):\n",
    "            print(idx, length)\n",
    "    \n",
    "    return 1"
   ]
  },
  {
   "cell_type": "markdown",
   "metadata": {},
   "source": [
    "#### https://programmers.co.kr/learn/courses/30/lessons/12914"
   ]
  },
  {
   "cell_type": "code",
   "execution_count": 3,
   "metadata": {},
   "outputs": [],
   "source": [
    "def solution(n):\n",
    "    \n",
    "    u, v = 1, 2\n",
    "    \n",
    "    if n == 1:\n",
    "        return u\n",
    "    \n",
    "    if n == 2:\n",
    "        return v\n",
    "    \n",
    "    for i in range(n - 2):\n",
    "        u, v = v%1234567, (u + v)%1234567\n",
    "    \n",
    "    return v"
   ]
  },
  {
   "cell_type": "markdown",
   "metadata": {},
   "source": [
    "#### https://programmers.co.kr/learn/courses/30/lessons/12927"
   ]
  },
  {
   "cell_type": "code",
   "execution_count": 4,
   "metadata": {},
   "outputs": [],
   "source": [
    "import heapq as hq\n",
    "\n",
    "def solution(n, works):\n",
    "    \n",
    "    works = [(-1)*work for work in works]\n",
    "    hq.heapify(works)\n",
    "    for i in range(n):\n",
    "        minimum = hq.heappop(works)\n",
    "        if minimum == 0:\n",
    "            break\n",
    "        hq.heappush(works, minimum + 1)\n",
    "    \n",
    "    return sum([work**2 for work in works])"
   ]
  },
  {
   "cell_type": "markdown",
   "metadata": {},
   "source": [
    "#### https://programmers.co.kr/learn/courses/30/lessons/12938"
   ]
  },
  {
   "cell_type": "code",
   "execution_count": 5,
   "metadata": {},
   "outputs": [],
   "source": [
    "def solution(n, s):\n",
    "    \n",
    "    if n > s:\n",
    "        return [-1]\n",
    "    \n",
    "    if n == s:\n",
    "        return [1] * n\n",
    "    \n",
    "    if n%s == 0:\n",
    "        return [s//n] * n\n",
    "    \n",
    "    return [s//n]*(n - s%n) + [s//n + 1]*(s%n)"
   ]
  },
  {
   "cell_type": "markdown",
   "metadata": {},
   "source": [
    "#### https://programmers.co.kr/learn/courses/30/lessons/12946"
   ]
  },
  {
   "cell_type": "code",
   "execution_count": 6,
   "metadata": {},
   "outputs": [],
   "source": [
    "def solution(n):\n",
    "    \n",
    "    if n == 1:\n",
    "        return [[1, 3]]\n",
    "    \n",
    "    prev_ = ['13']\n",
    "    for i in range(1, n):\n",
    "        next_ = [p.replace('3', '#').replace('2', '@').replace('@', '3').replace('#', '2') for p in prev_] +\\\n",
    "                ['13'] +\\\n",
    "                [p.replace('1', '!').replace('2', '@').replace('@', '1').replace('!', '2') for p in prev_]\n",
    "        prev_ = next_\n",
    "        \n",
    "    return [list(map(int, list(n))) for n in next_]"
   ]
  },
  {
   "cell_type": "markdown",
   "metadata": {},
   "source": [
    "#### https://programmers.co.kr/learn/courses/30/lessons/12987"
   ]
  },
  {
   "cell_type": "code",
   "execution_count": 7,
   "metadata": {},
   "outputs": [],
   "source": [
    "def solution(A, B):\n",
    "    \n",
    "    A.sort(reverse=True)\n",
    "    B.sort(reverse=True)\n",
    "    \n",
    "    answer = 0\n",
    "    for a in A:\n",
    "        if a >= B[0]:\n",
    "            continue\n",
    "        else:\n",
    "            B.pop(0)\n",
    "            answer += 1\n",
    "    \n",
    "    return answer"
   ]
  }
 ],
 "metadata": {
  "kernelspec": {
   "display_name": "Python 3",
   "language": "python",
   "name": "python3"
  },
  "language_info": {
   "codemirror_mode": {
    "name": "ipython",
    "version": 3
   },
   "file_extension": ".py",
   "mimetype": "text/x-python",
   "name": "python",
   "nbconvert_exporter": "python",
   "pygments_lexer": "ipython3",
   "version": "3.7.6"
  }
 },
 "nbformat": 4,
 "nbformat_minor": 4
}
