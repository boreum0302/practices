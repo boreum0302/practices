{
 "cells": [
  {
   "cell_type": "markdown",
   "metadata": {},
   "source": [
    "# Divide and Conquer Algorithm"
   ]
  },
  {
   "cell_type": "markdown",
   "metadata": {},
   "source": [
    "#### https://www.acmicpc.net/problem/2630"
   ]
  },
  {
   "cell_type": "code",
   "execution_count": null,
   "metadata": {},
   "outputs": [],
   "source": [
    "N = int(input())\n",
    "p = []\n",
    "for _ in range(N):\n",
    "    p.append(list(map(int, input().split())))\n",
    "\n",
    "\n",
    "def cut(p, w, b):\n",
    "    \n",
    "    N = len(p); n = N//2;\n",
    "    c = sum([sum(_) for _ in p])\n",
    "    \n",
    "    if c%N**2 == 0:\n",
    "        w += int(c == 0)\n",
    "        b += int(c != 0)\n",
    "        return w, b\n",
    "    \n",
    "    w_, b_ = 0, 0\n",
    "    for i in range(2):\n",
    "        for j in range(2):\n",
    "            tmp = cut([p[_][n*i:n*(i + 1)] for _ in range(n*j, n*(j + 1))], w, b)\n",
    "            w_, b_ = w_ + tmp[0], b_ + tmp[1]\n",
    "    return w_, b_\n",
    "\n",
    "w, b = cut(p, 0, 0)\n",
    "print(w)\n",
    "print(b)"
   ]
  }
 ],
 "metadata": {
  "kernelspec": {
   "display_name": "Python 3",
   "language": "python",
   "name": "python3"
  },
  "language_info": {
   "codemirror_mode": {
    "name": "ipython",
    "version": 3
   },
   "file_extension": ".py",
   "mimetype": "text/x-python",
   "name": "python",
   "nbconvert_exporter": "python",
   "pygments_lexer": "ipython3",
   "version": "3.7.9"
  }
 },
 "nbformat": 4,
 "nbformat_minor": 4
}
