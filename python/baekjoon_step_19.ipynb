{
 "cells": [
  {
   "cell_type": "markdown",
   "metadata": {},
   "source": [
    "# Divide and Conquer Algorithm"
   ]
  },
  {
   "cell_type": "markdown",
   "metadata": {},
   "source": [
    "#### https://www.acmicpc.net/problem/2630"
   ]
  },
  {
   "cell_type": "code",
   "execution_count": null,
   "metadata": {},
   "outputs": [],
   "source": [
    "N = int(input())\n",
    "p = []\n",
    "for _ in range(N):\n",
    "    p.append(list(map(int, input().split())))\n",
    "\n",
    "def cut(p, w, b):\n",
    "        \n",
    "    N = len(p); n = N//2;\n",
    "    c = sum([sum(_) for _ in p])\n",
    "    \n",
    "    if c == 0:\n",
    "        return w + 1, b\n",
    "    \n",
    "    if c == N**2:\n",
    "        return w, b + 1\n",
    "    \n",
    "    result = [0, 0]\n",
    "    for i in range(2):\n",
    "        for j in range(2):\n",
    "            tmp = cut([p[_][n*i:n*(i + 1)] for _ in range(n*j, n*(j + 1))], w, b)\n",
    "            for k in range(2):\n",
    "                result[k] += tmp[k]\n",
    "    \n",
    "    return result\n",
    "\n",
    "w, b = cut(p, 0, 0)\n",
    "print(w)\n",
    "print(b)"
   ]
  },
  {
   "cell_type": "markdown",
   "metadata": {},
   "source": [
    "#### https://www.acmicpc.net/problem/1992"
   ]
  },
  {
   "cell_type": "code",
   "execution_count": null,
   "metadata": {},
   "outputs": [],
   "source": [
    "N = int(input())\n",
    "p = []\n",
    "for _ in range(N):\n",
    "    p.append(list(map(int, list(input()))))\n",
    "\n",
    "\n",
    "def zip(p):\n",
    "    \n",
    "    N = len(p); n = N//2;\n",
    "    c = sum([sum(_) for _ in p])\n",
    "    \n",
    "    if c == 0:\n",
    "        return '0'\n",
    "    \n",
    "    if c == N**2:\n",
    "        return '1'\n",
    "    \n",
    "    result = ''\n",
    "    for i in range(2):\n",
    "        for j in range(2):\n",
    "            result += zip([p[_][n*j:n*(j + 1)] for _ in range(n*i, n*(i + 1))])\n",
    "\n",
    "    return '(' + result + ')'\n",
    "\n",
    "result = zip(p)\n",
    "print(result)"
   ]
  },
  {
   "cell_type": "markdown",
   "metadata": {},
   "source": [
    "#### https://www.acmicpc.net/problem/1780"
   ]
  },
  {
   "cell_type": "code",
   "execution_count": null,
   "metadata": {},
   "outputs": [],
   "source": [
    "N = int(input())\n",
    "p = []\n",
    "for _ in range(N):\n",
    "    p.append(list(map(int, input().split())))\n",
    "\n",
    "def cut(p, x1, x2, x3):\n",
    "        \n",
    "    N = len(p); n = N//3;\n",
    "    \n",
    "    if p == [[-1 for _ in range(N)] for _ in range(N)]:\n",
    "        return [x1 + 1, x2, x3]\n",
    "    \n",
    "    if p == [[0 for _ in range(N)] for _ in range(N)]:\n",
    "        return [x1, x2 + 1, x3]\n",
    "    \n",
    "    if p == [[1 for _ in range(N)] for _ in range(N)]:\n",
    "        return [x1, x2, x3 + 1]\n",
    "    \n",
    "    result = [0, 0, 0]\n",
    "    for i in range(3):\n",
    "        for j in range(3):\n",
    "            tmp = cut([p[_][n*i:n*(i + 1)] for _ in range(n*j, n*(j + 1))], x1, x2, x3)\n",
    "            for k in range(3):\n",
    "                result[k] += tmp[k]\n",
    "    \n",
    "    return result\n",
    "\n",
    "x1, x2, x3= cut(p, 0, 0, 0)\n",
    "print(x1)\n",
    "print(x2)\n",
    "print(x3)"
   ]
  },
  {
   "cell_type": "markdown",
   "metadata": {},
   "source": [
    "#### https://www.acmicpc.net/problem/1629"
   ]
  },
  {
   "cell_type": "code",
   "execution_count": null,
   "metadata": {},
   "outputs": [],
   "source": [
    "A, B, C = list(map(int, input().split()))\n",
    "\n",
    "def function(A, B, C):\n",
    "    \n",
    "    if B == 1:\n",
    "        return A%C\n",
    "    \n",
    "    tmp = function(A, B//2, C)\n",
    "    \n",
    "    if B%2 == 0:\n",
    "        return tmp**2%C\n",
    "    \n",
    "    if B%2 == 1:\n",
    "        return ((tmp**2%C)*(A%C))%C\n",
    "    \n",
    "print(function(A, B, C))"
   ]
  }
 ],
 "metadata": {
  "kernelspec": {
   "display_name": "Python 3",
   "language": "python",
   "name": "python3"
  },
  "language_info": {
   "codemirror_mode": {
    "name": "ipython",
    "version": 3
   },
   "file_extension": ".py",
   "mimetype": "text/x-python",
   "name": "python",
   "nbconvert_exporter": "python",
   "pygments_lexer": "ipython3",
   "version": "3.7.9"
  }
 },
 "nbformat": 4,
 "nbformat_minor": 4
}
