{
 "cells": [
  {
   "cell_type": "markdown",
   "metadata": {},
   "source": [
    "# Dynamic Programming (1)"
   ]
  },
  {
   "cell_type": "markdown",
   "metadata": {},
   "source": [
    "#### https://www.acmicpc.net/problem/2748"
   ]
  },
  {
   "cell_type": "code",
   "execution_count": null,
   "metadata": {},
   "outputs": [],
   "source": [
    "n, a, b = int(input()), 0, 1\n",
    "\n",
    "if n == 0:\n",
    "    print(a)\n",
    "else:\n",
    "    for _ in range(n - 1):\n",
    "        a, b = b, a + b\n",
    "    print(b)"
   ]
  },
  {
   "cell_type": "markdown",
   "metadata": {},
   "source": [
    "#### https://www.acmicpc.net/problem/1003"
   ]
  },
  {
   "cell_type": "code",
   "execution_count": null,
   "metadata": {},
   "outputs": [],
   "source": [
    "T = int(input())\n",
    "test_case = [int(input()) for _ in range(T)]\n",
    "\n",
    "def fibonacci(n, num):\n",
    "    if n == 0:\n",
    "        return 1 if num == 0 else 0\n",
    "    elif n == 1:\n",
    "        return 0 if num == 0 else 1\n",
    "    else:\n",
    "        a, b = 0, 1\n",
    "        for _ in range(n - 1):\n",
    "            a, b = b, a + b\n",
    "        return a if num == 0 else b\n",
    "\n",
    "for i in range(T):\n",
    "    print(fibonacci(test_case[i], 0), fibonacci(test_case[i], 1), sep=' ')"
   ]
  },
  {
   "cell_type": "markdown",
   "metadata": {},
   "source": [
    "#### https://www.acmicpc.net/problem/1904"
   ]
  },
  {
   "cell_type": "code",
   "execution_count": null,
   "metadata": {},
   "outputs": [],
   "source": [
    "N = int(input())\n",
    "a, b = 0, 1\n",
    "for _ in range(N):\n",
    "    a, b = b%15746, (a + b)%15746\n",
    "print(b)"
   ]
  },
  {
   "cell_type": "markdown",
   "metadata": {},
   "source": [
    "#### https://www.acmicpc.net/problem/9461"
   ]
  },
  {
   "cell_type": "code",
   "execution_count": null,
   "metadata": {},
   "outputs": [],
   "source": [
    "T = int(input())\n",
    "test_case = [int(input()) for _ in range(T)]\n",
    "\n",
    "def solution(N):\n",
    "    if N <= 3:\n",
    "        return 1\n",
    "    elif N <= 5:\n",
    "        return 2\n",
    "    else:\n",
    "        a, b, c, d, e = 1, 1, 1, 2, 2\n",
    "        for _ in range(N - 5):\n",
    "            a, b, c, d, e = b, c, d, e, a + e\n",
    "        return e\n",
    "\n",
    "for i in range(T):\n",
    "    print(solution(test_case[i]))"
   ]
  },
  {
   "cell_type": "markdown",
   "metadata": {},
   "source": [
    "#### https://www.acmicpc.net/problem/1149"
   ]
  },
  {
   "cell_type": "code",
   "execution_count": null,
   "metadata": {},
   "outputs": [],
   "source": [
    "N = int(input())\n",
    "house = [list(map(int, input().split())) for _ in range(N)]\n",
    "\n",
    "for i in range(1, N):\n",
    "    for j in range(3):\n",
    "        previous = house[i - 1][:]\n",
    "        del previous[j]\n",
    "        house[i][j] += min(previous)\n",
    "\n",
    "print(min(house[-1]))"
   ]
  },
  {
   "cell_type": "markdown",
   "metadata": {},
   "source": [
    "#### https://www.acmicpc.net/problem/1932"
   ]
  },
  {
   "cell_type": "code",
   "execution_count": null,
   "metadata": {},
   "outputs": [],
   "source": [
    "N = int(input())\n",
    "tri = [list(map(int, input().split())) for _ in range(N)]\n",
    "\n",
    "for i in range(1, N):\n",
    "    tri[i][0] += tri[i - 1][0]\n",
    "    for j in range(1, i):\n",
    "        tri[i][j] += max(tri[i - 1][j - 1], tri[i - 1][j])\n",
    "    tri[i][-1] += tri[i - 1][-1]\n",
    "    \n",
    "print(max(tri[-1]))"
   ]
  },
  {
   "cell_type": "markdown",
   "metadata": {},
   "source": [
    "#### https://www.acmicpc.net/problem/2579"
   ]
  },
  {
   "cell_type": "code",
   "execution_count": null,
   "metadata": {},
   "outputs": [],
   "source": [
    "N = int(input())\n",
    "stairs = [int(input()) for _ in range(N)]\n",
    "\n",
    "if N == 1:\n",
    "    print(stairs[0])\n",
    "elif N == 2:\n",
    "    print(sum(stairs[:2]))\n",
    "elif N == 3:\n",
    "    print(max(stairs[:2]) + stairs[2])\n",
    "else:\n",
    "    DP = [0 for _ in range(N)]\n",
    "    DP[0] = stairs[0]\n",
    "    DP[1] = sum(stairs[:2])\n",
    "    DP[2] = max(stairs[:2]) + stairs[2]\n",
    "    for i in range(3, N):\n",
    "        DP[i] = stairs[i] + max(DP[i - 2], stairs[i - 1] + DP[i - 3])\n",
    "    print(DP[-1])"
   ]
  },
  {
   "cell_type": "markdown",
   "metadata": {},
   "source": [
    "#### https://www.acmicpc.net/problem/1463"
   ]
  },
  {
   "cell_type": "code",
   "execution_count": null,
   "metadata": {},
   "outputs": [],
   "source": [
    "N  = int(input())\n",
    "DP = [i - 1 for i in range(N + 1)]\n",
    "\n",
    "for i in range(1, N + 1):\n",
    "    DP[i] = DP[i - 1] + 1\n",
    "    if i%2 == 0:\n",
    "        DP[i] = min(DP[i], DP[i//2] + 1)\n",
    "    if i%3 == 0:\n",
    "        DP[i] = min(DP[i], DP[i//3] + 1)\n",
    "print(DP[N])"
   ]
  },
  {
   "cell_type": "markdown",
   "metadata": {},
   "source": [
    "#### https://www.acmicpc.net/problem/10844"
   ]
  },
  {
   "cell_type": "code",
   "execution_count": null,
   "metadata": {},
   "outputs": [],
   "source": [
    "N = int(input())\n",
    "DP = [0 for _ in range(N + 1)]\n",
    "DP[1] = 9\n",
    "DP[2] = DP[1]*2\n",
    "for i in range(3, N + 1):\n",
    "    DP[i] = DP[1]*2 - 1\n",
    "print(DP[N])"
   ]
  },
  {
   "cell_type": "markdown",
   "metadata": {},
   "source": [
    "#### https://www.acmicpc.net/problem/10844"
   ]
  },
  {
   "cell_type": "code",
   "execution_count": null,
   "metadata": {},
   "outputs": [],
   "source": [
    "N = int(input())\n",
    "\n",
    "DP = [[0]*10 for _ in range(N + 1)]\n",
    "for i in range(1, 10):\n",
    "    DP[1][i] = 1\n",
    "for n in range(1, N):\n",
    "    DP[n + 1][0] = DP[n][1]%1000000000\n",
    "    DP[n + 1][9] = DP[n][8]%1000000000\n",
    "    for i in range(1, 9):\n",
    "        DP[n + 1][i] = (DP[n][i - 1] + DP[n][i + 1])%1000000000\n",
    "\n",
    "print(sum(DP[N])%1000000000)"
   ]
  },
  {
   "cell_type": "markdown",
   "metadata": {},
   "source": [
    "#### https://www.acmicpc.net/problem/2156"
   ]
  },
  {
   "cell_type": "code",
   "execution_count": null,
   "metadata": {},
   "outputs": [],
   "source": [
    "n = int(input())\n",
    "grape = [0] + [int(input()) for _ in range(n)]\n",
    "\n",
    "DP = [0 for _ in range(n + 1)]\n",
    "DP[1] = grape[1]\n",
    "if n >=2:\n",
    "    DP[2] = grape[1] + grape[2]\n",
    "if n >=3:\n",
    "    DP[3] = max(DP[2], grape[1] + grape[3], grape[2] + grape[3])\n",
    "\n",
    "for i in range(4, n + 1):\n",
    "    DP[i] = max(DP[i - 1], DP[i - 2] + grape[i], DP[i - 3] + grape[i] + grape[i - 1])\n",
    "\n",
    "print(DP[n])"
   ]
  },
  {
   "cell_type": "markdown",
   "metadata": {},
   "source": [
    "#### https://www.acmicpc.net/problem/11053"
   ]
  },
  {
   "cell_type": "code",
   "execution_count": null,
   "metadata": {},
   "outputs": [],
   "source": [
    "N = int(input())\n",
    "A = list(map(int, input().split()))\n",
    "DP = [1] + [0]*(N - 1)\n",
    "for i in range(1, N):\n",
    "    max_ = 0\n",
    "    for j in range(i):\n",
    "        if A[j] < A[i] and DP[j] > max_:\n",
    "            max_ = DP[j]\n",
    "    DP[i] = max_ + 1\n",
    "print(max(DP))"
   ]
  },
  {
   "cell_type": "markdown",
   "metadata": {},
   "source": [
    "#### https://www.acmicpc.net/problem/11054"
   ]
  },
  {
   "cell_type": "code",
   "execution_count": null,
   "metadata": {},
   "outputs": [],
   "source": [
    "N = int(input())\n",
    "A = list(map(int, input().split()))\n",
    "DP1 = [1] + [0]*(N - 1)\n",
    "DP2 = [0]*(N - 1) + [1]\n",
    "for i in range(1, N):\n",
    "    max_ = 0\n",
    "    for j in range(i):\n",
    "        if A[j] < A[i] and DP1[j] > max_:\n",
    "            max_ = DP1[j]\n",
    "    DP1[i] = max_ + 1\n",
    "for i in range(N - 2, -1, -1):\n",
    "    max_ = 0\n",
    "    for j in range(N - 1, i, -1):\n",
    "        if A[i] > A[j] and DP2[j] > max_:\n",
    "            max_ = DP2[j]\n",
    "    DP2[i] = max_ + 1\n",
    "print(max([DP1[i] + DP2[i] for i in range(N)]) - 1)"
   ]
  },
  {
   "cell_type": "markdown",
   "metadata": {},
   "source": [
    "#### https://www.acmicpc.net/problem/2565"
   ]
  },
  {
   "cell_type": "code",
   "execution_count": null,
   "metadata": {},
   "outputs": [],
   "source": [
    "n = int(input())\n",
    "l = [tuple(map(int, input().split())) for _ in range(n)]\n",
    "s = [_[1] for _ in sorted(l)]\n",
    "\n",
    "DP = [1] + [0]*(n - 1)\n",
    "for i in range(1, n):\n",
    "    max_ = 0\n",
    "    for j in range(i):\n",
    "        if s[j] < s[i] and DP[j] > max_:\n",
    "            max_ = DP[j]\n",
    "    DP[i] = max_ + 1\n",
    "    \n",
    "print(n - max(DP))"
   ]
  },
  {
   "cell_type": "markdown",
   "metadata": {},
   "source": [
    "#### https://www.acmicpc.net/problem/9251"
   ]
  },
  {
   "cell_type": "code",
   "execution_count": null,
   "metadata": {},
   "outputs": [],
   "source": [
    "s1 = input()\n",
    "s2 = input()\n",
    "\n",
    "matrix = [[0]*(len(s2) + 1) for _ in range(len(s1) + 1)]\n",
    "for i in range(1, len(s1) + 1):\n",
    "    for j in range(1, len(s2) + 1):\n",
    "        if s1[i - 1] == s2[j - 1]:\n",
    "            matrix[i][j] = matrix[i - 1][j - 1] + 1\n",
    "        else:\n",
    "            matrix[i][j] = max(matrix[i - 1][j], matrix[i][j - 1])\n",
    "\n",
    "print(matrix[-1][-1])"
   ]
  },
  {
   "cell_type": "markdown",
   "metadata": {},
   "source": [
    "#### https://www.acmicpc.net/problem/1912"
   ]
  },
  {
   "cell_type": "code",
   "execution_count": null,
   "metadata": {},
   "outputs": [],
   "source": [
    "n = int(input())\n",
    "x = list(map(int, input().split()))\n",
    "max_ = x[0]\n",
    "\n",
    "for i in range(1, n):\n",
    "    if x[i - 1] > 0 and x[i] + x[i - 1] > 0:\n",
    "        x[i] = x[i] + x[i - 1]\n",
    "    if x[i] > max_:\n",
    "        max_ = x[i]\n",
    "\n",
    "print(max_)"
   ]
  },
  {
   "cell_type": "markdown",
   "metadata": {},
   "source": [
    "#### https://www.acmicpc.net/problem/12865"
   ]
  },
  {
   "cell_type": "code",
   "execution_count": null,
   "metadata": {},
   "outputs": [],
   "source": [
    "n, k = map(int, input().split())\n",
    "\n",
    "weight, value = [0], [0]\n",
    "for _ in range(n):\n",
    "    w, v = map(int, input().split())\n",
    "    weight.append(w)\n",
    "    value.append(v)\n",
    "\n",
    "dp = [[0 for _ in range(k + 1)] for _ in range(n + 1)]\n",
    "for i in range(1, n + 1):\n",
    "    for j in range(1, k + 1):\n",
    "        if weight[i] > j:\n",
    "            dp[i][j] = dp[i - 1][j]\n",
    "        else:\n",
    "            dp[i][j] = max(dp[i - 1][j], dp[i - 1][j - weight[i]] + value[i])\n",
    "\n",
    "print(dp[-1][-1])"
   ]
  },
  {
   "cell_type": "markdown",
   "metadata": {},
   "source": [
    "#### https://www.acmicpc.net/problem/11047"
   ]
  },
  {
   "cell_type": "code",
   "execution_count": null,
   "metadata": {},
   "outputs": [],
   "source": [
    "number, value = map(int, input().split())\n",
    "coins = [int(input()) for _ in range(number)]\n",
    "\n",
    "answer, total = 0, 0\n",
    "for coin in coins[::-1]:\n",
    "    if total == value:\n",
    "        break\n",
    "    answer += (value - total)//coin\n",
    "    total += (value - total)//coin * coin\n",
    "\n",
    "print(answer)"
   ]
  },
  {
   "cell_type": "markdown",
   "metadata": {},
   "source": [
    "#### https://www.acmicpc.net/problem/9184"
   ]
  },
  {
   "cell_type": "code",
   "execution_count": null,
   "metadata": {
    "scrolled": false
   },
   "outputs": [],
   "source": [
    "input_ = []  \n",
    "while True:\n",
    "    tmp_ = input()\n",
    "    if tmp_ == '-1 -1 -1':\n",
    "        break\n",
    "    input_.append(list(map(int, tmp_.split())))\n",
    "    \n",
    "DP = [[[0 for k in range(22)] for _ in range(22)] for _ in range(22)]\n",
    "\n",
    "for a in range(-1, 21):\n",
    "    for b in range(-1, 21):\n",
    "        for c in range(-1, 21):\n",
    "            if a <= 0 or b <= 0 or c <= 0:\n",
    "                DP[a + 1][b + 1][c + 1] = 1\n",
    "            elif a < b and b < c:\n",
    "                DP[a + 1][b + 1][c + 1] = DP[a + 1][b + 1][c] + DP[a + 1][b][c] - DP[a + 1][b][c + 1]\n",
    "            else:\n",
    "                DP[a + 1][b + 1][c + 1] = DP[a][b + 1][c + 1] + DP[a][b][c + 1] + DP[a][b + 1][c] - DP[a][b][c]\n",
    "\n",
    "for _ in input_:\n",
    "    a, b, c = _\n",
    "    if a <= 0 or b <= 0 or c <= 0:\n",
    "        print('w(%d, %d, %d) = %d' %(a, b, c, 1))\n",
    "    elif a > 20 or b > 20 or c > 20:\n",
    "        print('w(%d, %d, %d) = %d' %(a, b, c, DP[-1][-1][-1]))\n",
    "    else:\n",
    "        print('w(%d, %d, %d) = %d' %(a, b, c, DP[a + 1][b + 1][c + 1]))"
   ]
  },
  {
   "cell_type": "markdown",
   "metadata": {},
   "source": [
    "#### https://www.acmicpc.net/problem/13305"
   ]
  },
  {
   "cell_type": "code",
   "execution_count": null,
   "metadata": {},
   "outputs": [],
   "source": []
  }
 ],
 "metadata": {
  "kernelspec": {
   "display_name": "Python 3",
   "language": "python",
   "name": "python3"
  },
  "language_info": {
   "codemirror_mode": {
    "name": "ipython",
    "version": 3
   },
   "file_extension": ".py",
   "mimetype": "text/x-python",
   "name": "python",
   "nbconvert_exporter": "python",
   "pygments_lexer": "ipython3",
   "version": "3.7.9"
  }
 },
 "nbformat": 4,
 "nbformat_minor": 4
}
