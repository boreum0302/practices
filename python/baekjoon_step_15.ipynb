{
 "cells": [
  {
   "cell_type": "markdown",
   "metadata": {},
   "source": [
    "# Greedy Algorithm"
   ]
  },
  {
   "cell_type": "markdown",
   "metadata": {},
   "source": [
    "#### https://www.acmicpc.net/problem/1931"
   ]
  },
  {
   "cell_type": "code",
   "execution_count": null,
   "metadata": {},
   "outputs": [],
   "source": [
    "number = int(input())\n",
    "meetings = [tuple(map(int, input().split())) for _ in range(number)]\n",
    "meetings.sort()\n",
    "meetings.sort(key = lambda x: x[1])\n",
    "\n",
    "answer = 0\n",
    "end = 0\n",
    "for meeting in meetings:\n",
    "    if meeting[0] >= end:\n",
    "        answer += 1\n",
    "        end = meeting[1]\n",
    "\n",
    "print(answer)"
   ]
  },
  {
   "cell_type": "markdown",
   "metadata": {},
   "source": [
    "#### https://www.acmicpc.net/problem/11399"
   ]
  },
  {
   "cell_type": "code",
   "execution_count": null,
   "metadata": {},
   "outputs": [],
   "source": [
    "number = int(input())\n",
    "times = list(map(int, input().split()))\n",
    "times.sort()\n",
    "\n",
    "answer = 0\n",
    "for i in range(number):\n",
    "    answer += times[i]*(number - i)\n",
    "\n",
    "print(answer)"
   ]
  },
  {
   "cell_type": "markdown",
   "metadata": {},
   "source": [
    "#### https://www.acmicpc.net/problem/1541"
   ]
  },
  {
   "cell_type": "code",
   "execution_count": null,
   "metadata": {},
   "outputs": [],
   "source": [
    "import re\n",
    "\n",
    "equation = re.split('([^0-9])', input())\n",
    "\n",
    "answer = int(equation[0])\n",
    "sign = '+'\n",
    "for i in range(len(equation)//2):\n",
    "    if equation[2*i + 1] == '-':\n",
    "        answer -= int(equation[2*i + 2])\n",
    "        sign = '-'\n",
    "    else:\n",
    "        if sign == '+':\n",
    "            answer += int(equation[2*i + 2])\n",
    "        else:\n",
    "            answer -= int(equation[2*i + 2])\n",
    "    \n",
    "print(answer)"
   ]
  },
  {
   "cell_type": "markdown",
   "metadata": {},
   "source": [
    "#### https://www.acmicpc.net/problem/13305"
   ]
  },
  {
   "cell_type": "code",
   "execution_count": null,
   "metadata": {},
   "outputs": [],
   "source": [
    "N = int(input())\n",
    "meter = list(map(int, input().split()))\n",
    "price = list(map(int, input().split()))\n",
    "\n",
    "city = 0; result = 0;\n",
    "while True:\n",
    "    for next_city in range(city + 1, N):\n",
    "        if price[next_city] < price[city]:\n",
    "            result += price[city]*sum(meter[city:next_city])\n",
    "            break\n",
    "    else:\n",
    "        result += price[city]*sum(meter[city:next_city])\n",
    "    city = next_city\n",
    "    if city == N - 1:\n",
    "        break\n",
    "\n",
    "print(result)"
   ]
  }
 ],
 "metadata": {
  "kernelspec": {
   "display_name": "Python 3",
   "language": "python",
   "name": "python3"
  },
  "language_info": {
   "codemirror_mode": {
    "name": "ipython",
    "version": 3
   },
   "file_extension": ".py",
   "mimetype": "text/x-python",
   "name": "python",
   "nbconvert_exporter": "python",
   "pygments_lexer": "ipython3",
   "version": "3.7.9"
  }
 },
 "nbformat": 4,
 "nbformat_minor": 4
}
