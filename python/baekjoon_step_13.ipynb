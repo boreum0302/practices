{
 "cells": [
  {
   "cell_type": "markdown",
   "metadata": {},
   "source": [
    "# Backtracking"
   ]
  },
  {
   "cell_type": "markdown",
   "metadata": {},
   "source": [
    "#### https://www.acmicpc.net/problem/15649"
   ]
  },
  {
   "cell_type": "code",
   "execution_count": null,
   "metadata": {},
   "outputs": [],
   "source": [
    "N, M = map(int, input().split())\n",
    "\n",
    "def DFS(cur_level, cur_list):\n",
    "    if cur_level == M:\n",
    "        for num in cur_list:\n",
    "            print(num, end = ' ')\n",
    "        print()\n",
    "    for i in range(1, N + 1):\n",
    "        if i not in cur_list:\n",
    "            cur_list.append(i)\n",
    "            DFS(cur_level + 1, cur_list)\n",
    "            cur_list.pop()\n",
    "\n",
    "DFS(0, [])"
   ]
  },
  {
   "cell_type": "markdown",
   "metadata": {},
   "source": [
    "#### https://www.acmicpc.net/problem/15650"
   ]
  },
  {
   "cell_type": "code",
   "execution_count": null,
   "metadata": {},
   "outputs": [],
   "source": [
    "N, M = map(int, input().split())\n",
    "\n",
    "def DFS(cur_level, cur_list):\n",
    "    if cur_level == M:\n",
    "        for num in cur_list[1:]:\n",
    "            print(num, end = ' ')\n",
    "        print()\n",
    "    for i in range(1, N + 1):\n",
    "        if i not in cur_list and i > cur_list[-1]:\n",
    "            cur_list.append(i)\n",
    "            DFS(cur_level + 1, cur_list)\n",
    "            cur_list.pop()\n",
    "\n",
    "DFS(0, [0])"
   ]
  },
  {
   "cell_type": "markdown",
   "metadata": {},
   "source": [
    "#### https://www.acmicpc.net/problem/15651"
   ]
  },
  {
   "cell_type": "code",
   "execution_count": null,
   "metadata": {},
   "outputs": [],
   "source": [
    "N, M = map(int, input().split())\n",
    "\n",
    "def DFS(cur_level, cur_list, result):\n",
    "    if cur_level == M:\n",
    "        result.add(tuple(cur_list[:]))\n",
    "        return\n",
    "    for i in range(1, N + 1):\n",
    "        cur_list.append(i)\n",
    "        DFS(cur_level + 1, cur_list, result)\n",
    "        cur_list.pop()\n",
    "\n",
    "result = set()\n",
    "DFS(0, [], result)\n",
    "result = sorted(list(result))\n",
    "for i in range(len(result)):\n",
    "    for num in result[i]:\n",
    "        print(num, end = ' ')\n",
    "    print()"
   ]
  },
  {
   "cell_type": "markdown",
   "metadata": {},
   "source": [
    "#### https://www.acmicpc.net/problem/15652"
   ]
  },
  {
   "cell_type": "code",
   "execution_count": null,
   "metadata": {},
   "outputs": [],
   "source": [
    "N, M = map(int, input().split())\n",
    "\n",
    "def DFS(cur_level, cur_list, result):\n",
    "    if cur_level == M:\n",
    "        result.add(tuple(cur_list[1:]))\n",
    "        return\n",
    "    for i in range(1, N + 1):\n",
    "        if i >= cur_list[-1]:\n",
    "            cur_list.append(i)\n",
    "            DFS(cur_level + 1, cur_list, result)\n",
    "            cur_list.pop()\n",
    "\n",
    "result = set()\n",
    "DFS(0, [0], result)\n",
    "result = sorted(list(result))\n",
    "for i in range(len(result)):\n",
    "    for num in result[i]:\n",
    "        print(num, end = ' ')\n",
    "    print()"
   ]
  },
  {
   "cell_type": "markdown",
   "metadata": {},
   "source": [
    "#### https://www.acmicpc.net/problem/14888"
   ]
  },
  {
   "cell_type": "code",
   "execution_count": null,
   "metadata": {},
   "outputs": [],
   "source": [
    "import sys\n",
    "import itertools\n",
    "\n",
    "N = int(input())\n",
    "numbers = list(map(int, input().split()))\n",
    "operators = list(map(int, input().split()))\n",
    "operators = list(set(itertools.permutations('+'*operators[0] + '-'*operators[1] + '*'*operators[2] + '/'*operators[3])))\n",
    "max_ = -sys.maxsize\n",
    "min_ = sys.maxsize\n",
    "\n",
    "for opr in operators:\n",
    "    result = numbers[0]\n",
    "    for i in range(N - 1):\n",
    "        if opr[i] == '+':\n",
    "            result = result + numbers[i + 1]\n",
    "        elif opr[i] == '-':\n",
    "            result = result - numbers[i + 1]\n",
    "        elif opr[i] == '*':\n",
    "            result = result * numbers[i + 1]\n",
    "        else:\n",
    "            result = int(result/numbers[i + 1])\n",
    "    if result > max_:\n",
    "        max_ = result\n",
    "        oprmax_ = opr\n",
    "    if result < min_:\n",
    "        min_ = result\n",
    "        oprmin_ = opr\n",
    "\n",
    "print(max_)\n",
    "print(min_)"
   ]
  },
  {
   "cell_type": "markdown",
   "metadata": {},
   "source": [
    "#### https://www.acmicpc.net/problem/14889"
   ]
  },
  {
   "cell_type": "code",
   "execution_count": null,
   "metadata": {},
   "outputs": [],
   "source": [
    "import itertools\n",
    "import sys\n",
    "\n",
    "N = int(input())\n",
    "S = []\n",
    "answer = sys.maxsize\n",
    "\n",
    "for i in range(N):\n",
    "    S.append(list(map(int, input().split())))\n",
    "    \n",
    "for team in itertools.combinations(range(N), N//2):\n",
    "    score_1, score_2 = 0, 0\n",
    "    for i in range(N//2 - 1):\n",
    "        for j in range(i + 1, N//2):\n",
    "            score_1 += (S[team[i]][team[j]] + S[team[j]][team[i]])\n",
    "    team = list(set(range(N)) - set(team))\n",
    "    for i in range(N//2 - 1):\n",
    "        for j in range(i + 1, N//2):\n",
    "            score_2 += (S[team[i]][team[j]] + S[team[j]][team[i]])\n",
    "    gap = abs(score_1 - score_2)\n",
    "    if gap < answer:\n",
    "        answer = gap\n",
    "    \n",
    "print(answer)"
   ]
  }
 ],
 "metadata": {
  "kernelspec": {
   "display_name": "Python 3",
   "language": "python",
   "name": "python3"
  },
  "language_info": {
   "codemirror_mode": {
    "name": "ipython",
    "version": 3
   },
   "file_extension": ".py",
   "mimetype": "text/x-python",
   "name": "python",
   "nbconvert_exporter": "python",
   "pygments_lexer": "ipython3",
   "version": "3.7.9"
  }
 },
 "nbformat": 4,
 "nbformat_minor": 4
}
