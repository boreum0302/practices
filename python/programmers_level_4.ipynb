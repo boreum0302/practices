{
 "cells": [
  {
   "cell_type": "markdown",
   "metadata": {},
   "source": [
    "#### https://programmers.co.kr/learn/courses/30/lessons/17685"
   ]
  },
  {
   "cell_type": "code",
   "execution_count": null,
   "metadata": {},
   "outputs": [],
   "source": [
    "class Node:\n",
    "    def __init__(self, char):\n",
    "        self.char = char\n",
    "        self.word = None\n",
    "        self.children = {}\n",
    "        self.num_words = 0\n",
    "        \n",
    "class Trie():\n",
    "    \n",
    "    def __init__(self):\n",
    "        self.root = Node(None)\n",
    "        \n",
    "    def insert(self, word):\n",
    "        cur_node = self.root\n",
    "        for char in word:\n",
    "            if char not in cur_node.children:\n",
    "                cur_node.children[char] = Node(char)\n",
    "            cur_node = cur_node.children[char]\n",
    "            cur_node.num_words += 1\n",
    "        cur_node.word = word\n",
    "    \n",
    "def solution(words):\n",
    "    \n",
    "    trie = Trie()\n",
    "    for word in words:\n",
    "        trie.insert(word)\n",
    "    \n",
    "    result = 0\n",
    "    for word in words:\n",
    "        tmp = 0\n",
    "        cur_node = trie.root\n",
    "        for char in word:\n",
    "            cur_node = cur_node.children[char]\n",
    "            tmp += 1\n",
    "            if cur_node.num_words == 1:\n",
    "                break\n",
    "        result += tmp\n",
    "    \n",
    "    return result"
   ]
  },
  {
   "cell_type": "markdown",
   "metadata": {},
   "source": [
    "#### https://programmers.co.kr/learn/courses/30/lessons/60060"
   ]
  },
  {
   "cell_type": "code",
   "execution_count": null,
   "metadata": {},
   "outputs": [],
   "source": [
    "class Node:\n",
    "    def __init__(self, char):\n",
    "        self.char = char\n",
    "        self.word = None\n",
    "        self.children = {}\n",
    "        self.num_words = 0\n",
    "        \n",
    "class Trie():\n",
    "    \n",
    "    def __init__(self):\n",
    "        self.root = Node(None)\n",
    "        \n",
    "    def insert(self, word):\n",
    "        cur_node = self.root\n",
    "        for char in word:\n",
    "            if char not in cur_node.children:\n",
    "                cur_node.children[char] = Node(char)\n",
    "            cur_node = cur_node.children[char]\n",
    "            cur_node.num_words += 1\n",
    "        cur_node.word = word\n",
    "        \n",
    "def solution(words, queries):\n",
    "    \n",
    "    trie = Trie()\n",
    "    for word in words:\n",
    "        trie.insert(word)\n",
    "        \n",
    "    from collections import deque\n",
    "    \n",
    "    result = [0]*len(queries)\n",
    "    def dfs(node, level, idx, query):\n",
    "        if level >= len(query):\n",
    "            if node.word:\n",
    "                result[idx] += 1\n",
    "            return\n",
    "        for next_node in node.children.values():\n",
    "            if query[level] == '?' or query[level] == next_node.char:\n",
    "                dfs(next_node, level + 1, idx, query)\n",
    "                \n",
    "    for idx, query in enumerate(queries):\n",
    "        dfs(trie.root, 0, idx, query)\n",
    "        \n",
    "    return result"
   ]
  }
 ],
 "metadata": {
  "kernelspec": {
   "display_name": "Python 3",
   "language": "python",
   "name": "python3"
  },
  "language_info": {
   "codemirror_mode": {
    "name": "ipython",
    "version": 3
   },
   "file_extension": ".py",
   "mimetype": "text/x-python",
   "name": "python",
   "nbconvert_exporter": "python",
   "pygments_lexer": "ipython3",
   "version": "3.7.9"
  }
 },
 "nbformat": 4,
 "nbformat_minor": 4
}
