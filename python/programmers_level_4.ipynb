{
 "cells": [
  {
   "cell_type": "markdown",
   "metadata": {},
   "source": [
    "#### https://programmers.co.kr/learn/courses/30/lessons/17685"
   ]
  },
  {
   "cell_type": "code",
   "execution_count": null,
   "metadata": {},
   "outputs": [],
   "source": [
    "class Node:\n",
    "    def __init__(self, char):\n",
    "        self.char = char\n",
    "        self.word = None\n",
    "        self.children = {}\n",
    "        self.num_words = 0\n",
    "        \n",
    "class Trie():\n",
    "    \n",
    "    def __init__(self):\n",
    "        self.root = Node(None)\n",
    "        \n",
    "    def insert(self, word):\n",
    "        cur_node = self.root\n",
    "        for char in word:\n",
    "            if char not in cur_node.children:\n",
    "                cur_node.children[char] = Node(char)\n",
    "            cur_node = cur_node.children[char]\n",
    "            cur_node.num_words += 1\n",
    "        cur_node.word = word\n",
    "    \n",
    "def solution(words):\n",
    "    \n",
    "    trie = Trie()\n",
    "    for word in words:\n",
    "        trie.insert(word)\n",
    "    \n",
    "    result = 0\n",
    "    for word in words:\n",
    "        tmp = 0\n",
    "        cur_node = trie.root\n",
    "        for char in word:\n",
    "            cur_node = cur_node.children[char]\n",
    "            tmp += 1\n",
    "            if cur_node.num_words == 1:\n",
    "                break\n",
    "        result += tmp\n",
    "    \n",
    "    return result"
   ]
  },
  {
   "cell_type": "markdown",
   "metadata": {},
   "source": [
    "#### https://programmers.co.kr/learn/courses/30/lessons/60060"
   ]
  },
  {
   "cell_type": "code",
   "execution_count": null,
   "metadata": {},
   "outputs": [],
   "source": [
    "class Node:\n",
    "    def __init__(self, char):\n",
    "        self.char = char\n",
    "        self.word = None\n",
    "        self.children = {}\n",
    "        self.num_words = 0\n",
    "        \n",
    "class Trie():\n",
    "    \n",
    "    def __init__(self):\n",
    "        self.root = Node(None)\n",
    "        \n",
    "    def insert(self, word):\n",
    "        cur_node = self.root\n",
    "        cur_node.num_words += 1\n",
    "        for char in word:\n",
    "            if char not in cur_node.children:\n",
    "                cur_node.children[char] = Node(char)\n",
    "            cur_node = cur_node.children[char]\n",
    "            cur_node.num_words += 1\n",
    "        cur_node.word = word\n",
    "        \n",
    "def solution(words, queries):\n",
    "        \n",
    "    trie_1_list = [Trie() for _ in range(10001)]\n",
    "    trie_2_list = [Trie() for _ in range(10001)]\n",
    "    for word in words:\n",
    "        trie_1_list[len(word)].insert(word)\n",
    "        trie_2_list[len(word)].insert(word[::-1])\n",
    "    \n",
    "    def match(query, trie):\n",
    "        cur_node = trie.root\n",
    "        for char in query:\n",
    "            if char == '?':\n",
    "                break\n",
    "            if char not in cur_node.children:\n",
    "                return 0\n",
    "            cur_node = cur_node.children[char]\n",
    "        return cur_node.num_words       \n",
    "    \n",
    "    result = [0]*len(queries)\n",
    "    for idx, query in enumerate(queries):\n",
    "        if query[0] == '?':\n",
    "            result[idx] = match(query[::-1], trie_2_list[len(query)])\n",
    "        else:\n",
    "            result[idx] = match(query, trie_1_list[len(query)])\n",
    "            \n",
    "    return result"
   ]
  },
  {
   "cell_type": "markdown",
   "metadata": {},
   "source": [
    "#### https://programmers.co.kr/learn/courses/30/lessons/43236"
   ]
  },
  {
   "cell_type": "code",
   "execution_count": null,
   "metadata": {},
   "outputs": [],
   "source": [
    "def solution(distance, rocks, n):\n",
    "    \n",
    "    rocks = sorted(rocks)\n",
    "    rocks.append(distance)\n",
    "    \n",
    "    def is_possible(min_distance):\n",
    "        prev_rock = 0; i = 0; count = 0;\n",
    "        for i in range(len(rocks)):\n",
    "            if rocks[i] - prev_rock < min_distance:\n",
    "                count += 1\n",
    "            else:\n",
    "                prev_rock = rocks[i];\n",
    "        return count <= n\n",
    "    \n",
    "    l = 1; r = distance + 1;\n",
    "    while l < r:\n",
    "        m = (l + r)//2\n",
    "        if is_possible(m):\n",
    "            l = m + 1\n",
    "        else:\n",
    "            r = m\n",
    "    \n",
    "    return l - 1"
   ]
  }
 ],
 "metadata": {
  "kernelspec": {
   "display_name": "Python 3",
   "language": "python",
   "name": "python3"
  },
  "language_info": {
   "codemirror_mode": {
    "name": "ipython",
    "version": 3
   },
   "file_extension": ".py",
   "mimetype": "text/x-python",
   "name": "python",
   "nbconvert_exporter": "python",
   "pygments_lexer": "ipython3",
   "version": "3.7.9"
  }
 },
 "nbformat": 4,
 "nbformat_minor": 4
}
