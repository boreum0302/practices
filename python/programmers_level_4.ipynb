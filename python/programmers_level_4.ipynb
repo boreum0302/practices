{
 "cells": [
  {
   "cell_type": "markdown",
   "metadata": {},
   "source": [
    "#### https://programmers.co.kr/learn/courses/30/lessons/1844"
   ]
  },
  {
   "cell_type": "code",
   "execution_count": 1,
   "metadata": {},
   "outputs": [],
   "source": [
    "from collections import deque\n",
    "\n",
    "def solution(maps):\n",
    "    \n",
    "    n, m = len(maps), len(maps[0])\n",
    "    maps = [[0]*(m + 2)] + [[0] + _ + [0] for _ in maps] + [[0]*(m + 2)]\n",
    "    move = [[1, 0], [0, 1], [-1, 0], [0, -1]]\n",
    "    row, col, count = 1, 1, 1\n",
    "    queue = deque([[row, col, count]])\n",
    "        \n",
    "    def move_from(row, col):\n",
    "        for i in range(4):\n",
    "            drow, dcol = move[i]\n",
    "            if 1 <= row + drow <= n and 1 <= col + dcol <= m:\n",
    "                if maps[row + drow][col + dcol] == 1:\n",
    "                    queue.append([row + drow, col + dcol, count + 1])\n",
    "                    maps[row + drow][col + dcol] = 0\n",
    "                    \n",
    "    while queue:\n",
    "        row, col, count = queue.popleft()\n",
    "        if row == n and col == m:\n",
    "            return count\n",
    "        move_from(row, col)\n",
    "    \n",
    "    return -1"
   ]
  }
 ],
 "metadata": {
  "kernelspec": {
   "display_name": "Python 3",
   "language": "python",
   "name": "python3"
  },
  "language_info": {
   "codemirror_mode": {
    "name": "ipython",
    "version": 3
   },
   "file_extension": ".py",
   "mimetype": "text/x-python",
   "name": "python",
   "nbconvert_exporter": "python",
   "pygments_lexer": "ipython3",
   "version": "3.7.6"
  }
 },
 "nbformat": 4,
 "nbformat_minor": 4
}
