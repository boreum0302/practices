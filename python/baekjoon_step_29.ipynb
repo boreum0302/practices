{
 "cells": [
  {
   "cell_type": "markdown",
   "metadata": {},
   "source": [
    "# Union Find"
   ]
  },
  {
   "cell_type": "markdown",
   "metadata": {},
   "source": [
    "#### https://www.acmicpc.net/problem/1976"
   ]
  },
  {
   "cell_type": "code",
   "execution_count": null,
   "metadata": {},
   "outputs": [],
   "source": [
    "N = int(input())\n",
    "M = int(input())\n",
    "\n",
    "adj_matrix = []\n",
    "for row in range(N):\n",
    "    adj_matrix.append(list(map(int, input().split())))\n",
    "\n",
    "plan = list(map(lambda x: int(x) - 1, input().split()))\n",
    "\n",
    "def find(v):\n",
    "    global parent\n",
    "    if v != parent[v]:\n",
    "        parent[v] = find(parent[v])\n",
    "    return parent[v]\n",
    "\n",
    "def union(v1, v2):\n",
    "    global parent\n",
    "    root1, root2 = find(v1), find(v2)\n",
    "    parent[root2] = root1\n",
    "    \n",
    "parent = [i for i in range(N)]\n",
    "\n",
    "for i in range(N):\n",
    "    for j in range(i, N):\n",
    "        if adj_matrix[i][j] == 1:\n",
    "            union(i, j)\n",
    "            \n",
    "root = find(plan[0])\n",
    "for i in range(1, M):\n",
    "    if root != find(plan[i]):\n",
    "        print('NO')\n",
    "        break\n",
    "else:\n",
    "    print('YES')"
   ]
  },
  {
   "cell_type": "markdown",
   "metadata": {},
   "source": [
    "#### https://www.acmicpc.net/problem/4195"
   ]
  },
  {
   "cell_type": "code",
   "execution_count": null,
   "metadata": {},
   "outputs": [],
   "source": [
    "N = int(input())\n",
    "cases = []\n",
    "for case in range(N):\n",
    "    n = int(input())\n",
    "    pairs = []\n",
    "    for _ in range(n):\n",
    "        pairs.append(list(input().split()))\n",
    "    cases.append(pairs)\n",
    "\n",
    "def solution(pairs):\n",
    "    \n",
    "    def find(v):\n",
    "        if v != parent[v]:\n",
    "            parent[v] = find(parent[v])\n",
    "        return parent[v]\n",
    "\n",
    "    def union(v1, v2):\n",
    "        root1, root2 = find(v1), find(v2)\n",
    "        \n",
    "        if root1 == root2:\n",
    "            return root1\n",
    "        else:\n",
    "            parent[root2] = root1\n",
    "            set_size[root1] += set_size[root2]\n",
    "            set_size[root2] = 0\n",
    "            return root1\n",
    "        \n",
    "    parent = dict()\n",
    "    set_size = dict()\n",
    "    \n",
    "    for f1, f2 in pairs:\n",
    "        if f1 not in parent:\n",
    "            parent[f1] = f1\n",
    "            set_size[f1] = 1\n",
    "        if f2 not in parent:\n",
    "            parent[f2] = f2\n",
    "            set_size[f2] = 1\n",
    "        root = union(f1, f2)\n",
    "        print(set_size[root])\n",
    "        \n",
    "for pairs in cases:\n",
    "    solution(pairs)"
   ]
  }
 ],
 "metadata": {
  "kernelspec": {
   "display_name": "Python 3",
   "language": "python",
   "name": "python3"
  },
  "language_info": {
   "codemirror_mode": {
    "name": "ipython",
    "version": 3
   },
   "file_extension": ".py",
   "mimetype": "text/x-python",
   "name": "python",
   "nbconvert_exporter": "python",
   "pygments_lexer": "ipython3",
   "version": "3.7.9"
  }
 },
 "nbformat": 4,
 "nbformat_minor": 4
}
