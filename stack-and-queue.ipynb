{
 "cells": [
  {
   "cell_type": "markdown",
   "metadata": {},
   "source": [
    "### Stack"
   ]
  },
  {
   "cell_type": "code",
   "execution_count": 1,
   "metadata": {},
   "outputs": [],
   "source": [
    "class Stack():\n",
    "    \n",
    "    class EmptyError(Exception):\n",
    "        pass\n",
    "\n",
    "    class Node:\n",
    "        def __init__(self, item, link):\n",
    "            self.item = item\n",
    "            self.next = link\n",
    "\n",
    "    def __init__(self):\n",
    "        self.head = None\n",
    "        self.size = 0\n",
    "\n",
    "    def size(self): return self.size\n",
    "    def is_empty(self): return self.size == 0\n",
    "    \n",
    "    def push(self, item):\n",
    "        if self.is_empty():\n",
    "            self.head = self.Node(item, None)\n",
    "        else:\n",
    "            self.head = self.Node(item, self.head)\n",
    "        self.size += 1\n",
    "    \n",
    "    def pop(self):\n",
    "        if self.is_empty():\n",
    "            raise EmptyError('Underflow')\n",
    "        else:\n",
    "            temp = self.head.item\n",
    "            self.head = self.head.next\n",
    "            self.size -= 1\n",
    "            return temp\n",
    "    \n",
    "    def print_stack(self):\n",
    "        print('top -> ', end='')\n",
    "        p = self.head\n",
    "        while p:\n",
    "            if p.next != None:\n",
    "                print(p.item, '-> ', end='')\n",
    "            else:\n",
    "                print(p.item)\n",
    "            p = p.next"
   ]
  },
  {
   "cell_type": "markdown",
   "metadata": {},
   "source": [
    "### Queue"
   ]
  },
  {
   "cell_type": "code",
   "execution_count": 2,
   "metadata": {},
   "outputs": [],
   "source": [
    "class Queue():\n",
    "    \n",
    "    class EmptyError(Exception):\n",
    "        pass\n",
    "    \n",
    "    class Node:\n",
    "        def __init__(self, item, link):\n",
    "            self.item = item\n",
    "            self.next = link\n",
    "    \n",
    "    def __init__(self):\n",
    "        self.head = None\n",
    "        self.tail = None\n",
    "        self.size = 0\n",
    "\n",
    "    def size(self): return self.size\n",
    "    def is_empty(self): return self.size == 0        \n",
    "        \n",
    "    def add(self, item):\n",
    "        new_node = self.Node(item, None)\n",
    "        if self.is_empty():\n",
    "            self.head = new_node\n",
    "            self.tail = new_node\n",
    "        else:\n",
    "            self.tail.next = new_node\n",
    "            self.tail = new_node\n",
    "        self.size += 1\n",
    "    \n",
    "    def remove(self):\n",
    "        if self.is_empty():\n",
    "            raise EmptyError('Underflow')\n",
    "        else:\n",
    "            temp = self.head.item\n",
    "            self.head = self.head.next\n",
    "            self.size -= 1\n",
    "            if self.size == 0:\n",
    "                tail = None\n",
    "            return temp\n",
    "        \n",
    "    def print_queue(self):\n",
    "        print('front -> ', end='')\n",
    "        p = self.head\n",
    "        while p:\n",
    "            if p.next != None:\n",
    "                print(p.item, '-> ', end='')\n",
    "            else:\n",
    "                print(p.item, end='')\n",
    "            p = p.next\n",
    "        print(' <- tail')"
   ]
  },
  {
   "cell_type": "markdown",
   "metadata": {},
   "source": [
    "### https://programmers.co.kr/learn/courses/30/lessons/42586"
   ]
  },
  {
   "cell_type": "markdown",
   "metadata": {},
   "source": [
    "#### My Answer"
   ]
  },
  {
   "cell_type": "code",
   "execution_count": 3,
   "metadata": {},
   "outputs": [],
   "source": [
    "def solution(progresses, speeds):\n",
    "\n",
    "    # 리스트 생성하기\n",
    "    answer = []\n",
    "    \n",
    "    # 주어진 몫 이상인 최소의 정수를 반환하는 함수 정의하기\n",
    "    def integer_quotient(A, B):\n",
    "        if A%B == 0: return A//B\n",
    "        else: return A//B + 1\n",
    "    \n",
    "    # 큐 생성하기\n",
    "    Q = Queue()\n",
    "    for i in range(len(progresses)):\n",
    "        Q.add([progresses[i], speeds[i]])\n",
    "        \n",
    "    # 여기서부터 반복문\n",
    "    while not Q.is_empty():\n",
    "        \n",
    "        p = Q.head\n",
    "        times = integer_quotient((100 - p.item[0]), p.item[1])\n",
    "        \n",
    "        while p != None:\n",
    "            p.item[0] += p.item[1] * times\n",
    "            p = p.next\n",
    "            \n",
    "        count = 0\n",
    "        while Q.head.item[0] >= 100:\n",
    "            Q.remove()\n",
    "            count += 1\n",
    "            if Q.is_empty():\n",
    "                break\n",
    "        \n",
    "        answer.append(count)\n",
    "    \n",
    "    return answer"
   ]
  },
  {
   "cell_type": "markdown",
   "metadata": {},
   "source": [
    "#### Best Answer"
   ]
  },
  {
   "cell_type": "code",
   "execution_count": 4,
   "metadata": {},
   "outputs": [],
   "source": [
    "def solution(progresses, speeds):\n",
    "    \n",
    "    Q = []\n",
    "    \n",
    "    for p, s in zip(progresses, speeds):\n",
    "        if len(Q) == 0 or Q[-1][0] < - ((p-100)//s):\n",
    "            Q.append([-((p-100)//s), 1])\n",
    "        else:\n",
    "            Q[-1][1] += 1\n",
    "            \n",
    "    return [q[1] for q in Q]"
   ]
  },
  {
   "cell_type": "markdown",
   "metadata": {},
   "source": [
    "### https://programmers.co.kr/learn/courses/30/lessons/42584"
   ]
  },
  {
   "cell_type": "markdown",
   "metadata": {},
   "source": [
    "#### My Answer"
   ]
  },
  {
   "cell_type": "code",
   "execution_count": 5,
   "metadata": {},
   "outputs": [],
   "source": [
    "def solution(prices):\n",
    "    answer = []\n",
    "    for i in range(len(prices) - 1):\n",
    "        count = 0\n",
    "        for j in range(i + 1, len(prices)):\n",
    "            if prices[i] > prices[j]:\n",
    "                count += 1\n",
    "                break\n",
    "            else:\n",
    "                count += 1\n",
    "        answer.append(count)\n",
    "    answer.append(0)\n",
    "    return answer"
   ]
  },
  {
   "cell_type": "markdown",
   "metadata": {},
   "source": [
    "### https://programmers.co.kr/learn/courses/30/lessons/42585"
   ]
  },
  {
   "cell_type": "markdown",
   "metadata": {},
   "source": [
    "#### My Answer"
   ]
  },
  {
   "cell_type": "code",
   "execution_count": 6,
   "metadata": {},
   "outputs": [],
   "source": [
    "def solution(arrangement):\n",
    "    \n",
    "    # 큐 생성하기\n",
    "    Q = Queue()\n",
    "    for i in range(len(arrangement)):\n",
    "        Q.add(arrangement[i])\n",
    "    \n",
    "    # 여기서부터 반복문\n",
    "    bar, cnt, tmp = 0, 0, 0\n",
    "    while not Q.is_empty():\n",
    "        p = Q.head\n",
    "        if p.item == '(':\n",
    "            if p.next.item == '(': bar += 1; tmp += 1; Q.remove()\n",
    "            else: cnt += tmp; Q.remove(); Q.remove()\n",
    "        else: tmp -= 1; Q.remove()\n",
    "    \n",
    "    return bar + cnt"
   ]
  },
  {
   "cell_type": "markdown",
   "metadata": {},
   "source": [
    "#### Best Answer"
   ]
  },
  {
   "cell_type": "code",
   "execution_count": 7,
   "metadata": {},
   "outputs": [],
   "source": [
    "def solution(arrangement):\n",
    "    \n",
    "    answer = 0\n",
    "    sticks = 0\n",
    "    laser_to_zero = arrangement.replace('()','0')  # 이걸 생각 못했다...\n",
    "\n",
    "    for i in laser_to_zero:\n",
    "        if i == '(':\n",
    "            sticks += 1\n",
    "        elif i =='0' :\n",
    "            answer += sticks\n",
    "        else :\n",
    "            sticks -= 1\n",
    "            answer += 1\n",
    "\n",
    "    return answer"
   ]
  },
  {
   "cell_type": "markdown",
   "metadata": {},
   "source": [
    "### https://programmers.co.kr/learn/courses/30/lessons/42588"
   ]
  },
  {
   "cell_type": "markdown",
   "metadata": {},
   "source": [
    "#### My Answer"
   ]
  },
  {
   "cell_type": "code",
   "execution_count": 8,
   "metadata": {},
   "outputs": [],
   "source": [
    "def solution(heights):\n",
    "    answer = [0] * len(heights)\n",
    "    for i in range(1, len(heights)):\n",
    "        for j in range(i - 1, -1, -1):\n",
    "            if heights[j] > heights[i]:\n",
    "                answer[i] = j + 1\n",
    "                break\n",
    "    return answer"
   ]
  },
  {
   "cell_type": "markdown",
   "metadata": {},
   "source": [
    "### https://programmers.co.kr/learn/courses/30/lessons/42587"
   ]
  },
  {
   "cell_type": "markdown",
   "metadata": {},
   "source": [
    "#### My Answer"
   ]
  },
  {
   "cell_type": "code",
   "execution_count": 9,
   "metadata": {},
   "outputs": [],
   "source": [
    "def solution(priorities, location):\n",
    "\n",
    "    N = len(priorities)\n",
    "\n",
    "    for i in range(N): priorities[i] = [priorities[i], i]\n",
    "\n",
    "    while True:\n",
    "        tmp = priorities.pop(0)\n",
    "        if len(priorities) == 0: break\n",
    "        elif tmp[0] < max([x[0] for x in priorities]): priorities.append(tmp)\n",
    "        elif tmp[1] == location: break\n",
    "        else: continue\n",
    "\n",
    "    return N - len(priorities)"
   ]
  },
  {
   "cell_type": "markdown",
   "metadata": {},
   "source": [
    "### https://programmers.co.kr/learn/courses/30/lessons/42583"
   ]
  },
  {
   "cell_type": "markdown",
   "metadata": {},
   "source": [
    "#### My Answre"
   ]
  },
  {
   "cell_type": "code",
   "execution_count": 10,
   "metadata": {},
   "outputs": [],
   "source": [
    "def solution(bridge_length, weight, truck_weights):\n",
    "\n",
    "    time, cnt, N, bridge, bridge_weight = 0, 0, len(truck_weights), [0] * bridge_length, 0\n",
    "\n",
    "    while cnt < N:\n",
    "\n",
    "        head = bridge.pop(0);\n",
    "        if head > 0:\n",
    "            bridge_weight -= head\n",
    "            cnt += 1\n",
    "\n",
    "        if len(truck_weights) == 0:\n",
    "            bridge.append(0)        \n",
    "        elif bridge_weight + truck_weights[0] <= weight:  # sum()은 시간이 오래 걸려서 사용하지 않았음\n",
    "            bridge_weight += truck_weights[0]\n",
    "            bridge.append(truck_weights.pop(0))\n",
    "        else:\n",
    "            bridge.append(0)\n",
    "\n",
    "        time = time + 1\n",
    "\n",
    "    return time"
   ]
  }
 ],
 "metadata": {
  "kernelspec": {
   "display_name": "Python 3",
   "language": "python",
   "name": "python3"
  },
  "language_info": {
   "codemirror_mode": {
    "name": "ipython",
    "version": 3
   },
   "file_extension": ".py",
   "mimetype": "text/x-python",
   "name": "python",
   "nbconvert_exporter": "python",
   "pygments_lexer": "ipython3",
   "version": "3.7.6"
  }
 },
 "nbformat": 4,
 "nbformat_minor": 4
}
