{
 "cells": [
  {
   "cell_type": "markdown",
   "metadata": {},
   "source": [
    "# [1859](https://swexpertacademy.com/main/code/problem/problemDetail.do?problemLevel=2&contestProbId=AV5LrsUaDxcDFAXc&categoryId=AV5LrsUaDxcDFAXc&categoryType=CODE&problemTitle=&orderBy=INQUERY_COUNT&selectCodeLang=ALL&select-1=2&pageSize=10&pageIndex=1)"
   ]
  },
  {
   "cell_type": "markdown",
   "metadata": {},
   "source": [
    "#### O(N)"
   ]
  },
  {
   "cell_type": "code",
   "execution_count": 7,
   "metadata": {},
   "outputs": [
    {
     "name": "stdout",
     "output_type": "stream",
     "text": [
      "3\n",
      "3\n",
      " 10 7 6\n",
      "[10, 7, 6]\n",
      "#1 0\n",
      "3\n",
      "3 5 9\n",
      "[3, 5, 9]\n",
      "#2 10\n",
      "5\n",
      "1 1 3 1 2\n",
      "[1, 1, 3, 1, 2]\n",
      "#3 5\n"
     ]
    }
   ],
   "source": [
    "def solution(N, case):\n",
    "    \n",
    "    result = 0\n",
    "    \n",
    "    if N == 1:\n",
    "        return result\n",
    "    \n",
    "    tmp = [None]*N\n",
    "    maximum = case[-1]\n",
    "    for idx in range(N - 1, -1, -1):\n",
    "        maximum = max(case[idx], maximum)\n",
    "        tmp[idx] = maximum\n",
    "    \n",
    "    for idx in range(N):\n",
    "        if tmp[idx] > case[idx]:\n",
    "            result += tmp[idx] - case[idx]\n",
    "    \n",
    "    return result\n",
    "\n",
    "'''T = int(input())\n",
    "\n",
    "for t in range(T):\n",
    "    N = int(input())\n",
    "    case = list(map(int, input().split()))\n",
    "    print('#%d' % (t + 1), solution(N, case))'''"
   ]
  },
  {
   "cell_type": "code",
   "execution_count": null,
   "metadata": {},
   "outputs": [],
   "source": []
  }
 ],
 "metadata": {
  "kernelspec": {
   "display_name": "Python 3",
   "language": "python",
   "name": "python3"
  },
  "language_info": {
   "codemirror_mode": {
    "name": "ipython",
    "version": 3
   },
   "file_extension": ".py",
   "mimetype": "text/x-python",
   "name": "python",
   "nbconvert_exporter": "python",
   "pygments_lexer": "ipython3",
   "version": "3.7.9"
  }
 },
 "nbformat": 4,
 "nbformat_minor": 4
}
