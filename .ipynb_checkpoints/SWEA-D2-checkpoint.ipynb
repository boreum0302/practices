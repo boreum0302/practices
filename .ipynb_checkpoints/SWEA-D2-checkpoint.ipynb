{
 "cells": [
  {
   "cell_type": "markdown",
   "metadata": {},
   "source": [
    "# [1859](https://swexpertacademy.com/main/code/problem/problemDetail.do?problemLevel=2&contestProbId=AV5LrsUaDxcDFAXc&categoryId=AV5LrsUaDxcDFAXc&categoryType=CODE&problemTitle=&orderBy=INQUERY_COUNT&selectCodeLang=ALL&select-1=2&pageSize=10&pageIndex=1)"
   ]
  },
  {
   "cell_type": "code",
   "execution_count": 1,
   "metadata": {},
   "outputs": [],
   "source": [
    "def solution(N, case):\n",
    "    \n",
    "    result = 0\n",
    "    \n",
    "    if N == 1:\n",
    "        return result\n",
    "    \n",
    "    tmp = [None]*N\n",
    "    maximum = case[-1]\n",
    "    for idx in range(N - 1, -1, -1):\n",
    "        maximum = max(case[idx], maximum)\n",
    "        tmp[idx] = maximum\n",
    "    \n",
    "    for idx in range(N):\n",
    "        if tmp[idx] > case[idx]:\n",
    "            result += tmp[idx] - case[idx]\n",
    "    \n",
    "    return result\n",
    "\n",
    "'''T = int(input())\n",
    "\n",
    "for t in range(T):\n",
    "    N = int(input())\n",
    "    case = list(map(int, input().split()))\n",
    "    print('#%d' % (t + 1), solution(N, case))'''"
   ]
  },
  {
   "cell_type": "markdown",
   "metadata": {},
   "source": [
    "# [1204](https://swexpertacademy.com/main/code/problem/problemDetail.do?problemLevel=2&contestProbId=AV13zo1KAAACFAYh&categoryId=AV13zo1KAAACFAYh&categoryType=CODE&problemTitle=&orderBy=INQUERY_COUNT&selectCodeLang=PYTHON&select-1=2&pageSize=10&pageIndex=1)"
   ]
  },
  {
   "cell_type": "code",
   "execution_count": 2,
   "metadata": {},
   "outputs": [],
   "source": [
    "def solution(case):\n",
    "    \n",
    "    dictionary = dict()\n",
    "    for score in case:\n",
    "        dictionary[score] = dictionary.get(score, 0) + 1\n",
    "        \n",
    "    result = -1\n",
    "    maximum = max(dictionary.values())\n",
    "    for key in dictionary.keys():\n",
    "        if dictionary[key] == maximum and key > result:\n",
    "            result = key\n",
    "    \n",
    "    return result\n",
    "\n",
    "'''T = int(input())\n",
    "\n",
    "for t in range(T):\n",
    "    N = int(input())\n",
    "    case = list(map(int, input().split()))\n",
    "    print('#%d' % (t + 1), solution(case))'''"
   ]
  }
 ],
 "metadata": {
  "kernelspec": {
   "display_name": "Python 3",
   "language": "python",
   "name": "python3"
  },
  "language_info": {
   "codemirror_mode": {
    "name": "ipython",
    "version": 3
   },
   "file_extension": ".py",
   "mimetype": "text/x-python",
   "name": "python",
   "nbconvert_exporter": "python",
   "pygments_lexer": "ipython3",
   "version": "3.7.9"
  }
 },
 "nbformat": 4,
 "nbformat_minor": 4
}
