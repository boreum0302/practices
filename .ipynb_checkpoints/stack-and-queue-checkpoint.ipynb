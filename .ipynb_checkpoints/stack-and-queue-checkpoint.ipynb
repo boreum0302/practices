{
 "cells": [
  {
   "cell_type": "markdown",
   "metadata": {},
   "source": [
    "### Stack"
   ]
  },
  {
   "cell_type": "code",
   "execution_count": 1,
   "metadata": {},
   "outputs": [],
   "source": [
    "class Stack():\n",
    "    \n",
    "    class EmptyError(Exception):\n",
    "        pass\n",
    "\n",
    "    class Node:\n",
    "        def __init__(self, item, link):\n",
    "            self.item = item\n",
    "            self.next = link\n",
    "\n",
    "    def __init__(self):\n",
    "        self.head = None\n",
    "        self.size = 0\n",
    "\n",
    "    def size(self): return self.size\n",
    "    def is_empty(self): return self.size == 0\n",
    "    \n",
    "    def push(self, item):\n",
    "        if self.is_empty():\n",
    "            self.head = self.Node(item, None)\n",
    "        else:\n",
    "            self.head = self.Node(item, self.head)\n",
    "        self.size += 1\n",
    "    \n",
    "    def pop(self):\n",
    "        if self.is_empty():\n",
    "            raise EmptyError('Underflow')\n",
    "        else:\n",
    "            temp = self.head.item\n",
    "            self.head = self.head.next\n",
    "            self.size -= 1\n",
    "            return temp\n",
    "    \n",
    "    def print_stack(self):\n",
    "        print('top -> ', end='')\n",
    "        p = self.head\n",
    "        while p:\n",
    "            if p.next != None:\n",
    "                print(p.item, '-> ', end='')\n",
    "            else:\n",
    "                print(p.item)\n",
    "            p = p.next"
   ]
  },
  {
   "cell_type": "markdown",
   "metadata": {},
   "source": [
    "### Queue"
   ]
  },
  {
   "cell_type": "code",
   "execution_count": 2,
   "metadata": {},
   "outputs": [],
   "source": [
    "class Queue():\n",
    "    \n",
    "    class EmptyError(Exception):\n",
    "        pass\n",
    "    \n",
    "    class Node:\n",
    "        def __init__(self, item, link):\n",
    "            self.item = item\n",
    "            self.next = link\n",
    "    \n",
    "    def __init__(self):\n",
    "        self.head = None\n",
    "        self.tail = None\n",
    "        self.size = 0\n",
    "\n",
    "    def size(self): return self.size\n",
    "    def is_empty(self): return self.size == 0        \n",
    "        \n",
    "    def add(self, item):\n",
    "        new_node = self.Node(item, None)\n",
    "        if self.is_empty():\n",
    "            self.head = new_node\n",
    "            self.tail = new_node\n",
    "        else:\n",
    "            self.tail.next = new_node\n",
    "            self.tail = new_node\n",
    "        self.size += 1\n",
    "    \n",
    "    def remove(self):\n",
    "        if self.is_empty():\n",
    "            raise EmptyError('Underflow')\n",
    "        else:\n",
    "            temp = self.head.item\n",
    "            self.head = self.head.next\n",
    "            self.size -= 1\n",
    "            if self.size == 0:\n",
    "                tail = None\n",
    "            return temp\n",
    "        \n",
    "    def print_queue(self):\n",
    "        print('front -> ', end='')\n",
    "        p = self.head\n",
    "        while p:\n",
    "            if p.next != None:\n",
    "                print(p.item, '-> ', end='')\n",
    "            else:\n",
    "                print(p.item, end='')\n",
    "            p = p.next\n",
    "        print(' <- tail')"
   ]
  },
  {
   "cell_type": "markdown",
   "metadata": {},
   "source": [
    "### https://programmers.co.kr/learn/courses/30/lessons/42586"
   ]
  },
  {
   "cell_type": "markdown",
   "metadata": {},
   "source": [
    "#### My Solution"
   ]
  },
  {
   "cell_type": "code",
   "execution_count": 3,
   "metadata": {},
   "outputs": [],
   "source": [
    "def solution(progresses, speeds):\n",
    "\n",
    "    # 리스트 생성하기\n",
    "    answer = []\n",
    "    \n",
    "    # 주어진 몫 이상인 최소의 정수를 반환하는 함수 정의하기\n",
    "    def integer_quotient(A, B):\n",
    "        if A%B == 0: return A//B\n",
    "        else: return A//B + 1\n",
    "    \n",
    "    # 큐 생성하기\n",
    "    Q = Queue()\n",
    "    for i in range(len(progresses)):\n",
    "        Q.add([progresses[i], speeds[i]])\n",
    "        \n",
    "    # 여기서부터 반복문\n",
    "    while not Q.is_empty():\n",
    "        \n",
    "        p = Q.head\n",
    "        times = integer_quotient((100 - p.item[0]), p.item[1])\n",
    "        \n",
    "        while p != None:\n",
    "            p.item[0] += p.item[1] * times\n",
    "            p = p.next\n",
    "            \n",
    "        count = 0\n",
    "        while Q.head.item[0] >= 100:\n",
    "            Q.remove()\n",
    "            count += 1\n",
    "            if Q.is_empty():\n",
    "                break\n",
    "        \n",
    "        answer.append(count)\n",
    "    \n",
    "    return answer"
   ]
  },
  {
   "cell_type": "markdown",
   "metadata": {},
   "source": [
    "#### Best Answer"
   ]
  },
  {
   "cell_type": "code",
   "execution_count": 4,
   "metadata": {},
   "outputs": [],
   "source": [
    "def solution(progresses, speeds):\n",
    "    \n",
    "    Q = []\n",
    "    \n",
    "    for p, s in zip(progresses, speeds):\n",
    "        if len(Q) == 0 or Q[-1][0] < - ((p-100)//s):\n",
    "            Q.append([-((p-100)//s), 1])\n",
    "        else:\n",
    "            Q[-1][1] += 1\n",
    "            \n",
    "    return [q[1] for q in Q]"
   ]
  }
 ],
 "metadata": {
  "kernelspec": {
   "display_name": "Python 3",
   "language": "python",
   "name": "python3"
  },
  "language_info": {
   "codemirror_mode": {
    "name": "ipython",
    "version": 3
   },
   "file_extension": ".py",
   "mimetype": "text/x-python",
   "name": "python",
   "nbconvert_exporter": "python",
   "pygments_lexer": "ipython3",
   "version": "3.7.6"
  }
 },
 "nbformat": 4,
 "nbformat_minor": 4
}
