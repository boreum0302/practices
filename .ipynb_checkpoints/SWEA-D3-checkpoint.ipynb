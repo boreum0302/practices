{
 "cells": [
  {
   "cell_type": "markdown",
   "metadata": {},
   "source": [
    "# [1206](https://swexpertacademy.com/main/code/problem/problemDetail.do?problemLevel=3&contestProbId=AV134DPqAA8CFAYh&categoryId=AV134DPqAA8CFAYh&categoryType=CODE&problemTitle=&orderBy=INQUERY_COUNT&selectCodeLang=PYTHON&select-1=3&pageSize=10&pageIndex=1)"
   ]
  },
  {
   "cell_type": "code",
   "execution_count": 1,
   "metadata": {},
   "outputs": [
    {
     "data": {
      "text/plain": [
       "\"for t in range(10):\\n    N = int(input())\\n    case = list(map(int, input().split()))\\n    print('#%d' % (t + 1), solution(N, case))\""
      ]
     },
     "execution_count": 1,
     "metadata": {},
     "output_type": "execute_result"
    }
   ],
   "source": [
    "def solution(N, case):\n",
    "    \n",
    "    result = 0\n",
    "    \n",
    "    for idx in range(2, N - 2):\n",
    "        \n",
    "        result += max(case[idx] - max(case[idx - 2], case[idx - 1], case[idx + 1], case[idx + 2]), 0)\n",
    "    \n",
    "    return result\n",
    "\n",
    "'''for t in range(10):\n",
    "    N = int(input())\n",
    "    case = list(map(int, input().split()))\n",
    "    print('#%d' % (t + 1), solution(N, case))'''"
   ]
  },
  {
   "cell_type": "markdown",
   "metadata": {},
   "source": [
    "# [1244](https://swexpertacademy.com/main/code/problem/problemDetail.do?problemLevel=3&contestProbId=AV15Khn6AN0CFAYD&categoryId=AV15Khn6AN0CFAYD&categoryType=CODE&problemTitle=&orderBy=INQUERY_COUNT&selectCodeLang=PYTHON&select-1=3&pageSize=10&pageIndex=1)"
   ]
  },
  {
   "cell_type": "code",
   "execution_count": 78,
   "metadata": {},
   "outputs": [
    {
     "name": "stdout",
     "output_type": "stream",
     "text": [
      "1\n",
      "32888 2\n",
      "[[32888, 0], [23888, 1], [82388, 1], [82838, 1], [82883, 1], [38288, 1], [38828, 1], [38882, 1], [83288, 2], [83828, 2], [83882, 2], [28388, 2], [28838, 2], [28883, 2], [88328, 2], [88382, 2], [88238, 2], [88832, 2], [88283, 2], [88823, 2]]\n",
      "#1 88832\n"
     ]
    }
   ],
   "source": [
    "def solution(case, exchange):\n",
    "    \n",
    "    N = len(case)\n",
    "    visited = set()\n",
    "    bfs_list = list()\n",
    "    queue = [[case, 0]]\n",
    "    \n",
    "    while len(queue) > 0:\n",
    "        \n",
    "        node, level = queue.pop(0)\n",
    "        \n",
    "        if node not in visited:\n",
    "            \n",
    "            visited.add(node)\n",
    "            bfs_list.append([int(node), level])\n",
    "            \n",
    "            for i in range(N - 1):\n",
    "                \n",
    "                for j in range(i + 1, N):\n",
    "                    \n",
    "                    tmp = list(node)\n",
    "                    tmp[i], tmp[j] = tmp[j], tmp[i]\n",
    "                    queue.append([''.join(tmp), level + 1])\n",
    "        \n",
    "    result = -1\n",
    "    \n",
    "    if len(set(list(case))) < len(case):\n",
    "        \n",
    "        for node, level in bfs_list:\n",
    "            \n",
    "            if level <= exchange and node > result:\n",
    "                \n",
    "                result = node\n",
    "    else:\n",
    "        \n",
    "        for node, level in bfs_list:\n",
    "            \n",
    "            if level <= exchange and level%2 == exchange%2 and node > result:\n",
    "                \n",
    "                result = node\n",
    "                \n",
    "    return result\n",
    "\n",
    "'''T = int(input())\n",
    "for t in range(T):\n",
    "    case, exchange = input().split()\n",
    "    print('#%d' % (t + 1), solution(case, int(exchange)))'''"
   ]
  },
  {
   "cell_type": "code",
   "execution_count": 76,
   "metadata": {},
   "outputs": [
    {
     "name": "stdout",
     "output_type": "stream",
     "text": [
      "[[32888, 0], [23888, 1], [82388, 1], [82838, 1], [82883, 1], [38288, 1], [38828, 1], [38882, 1], [83288, 2], [83828, 2], [83882, 2], [28388, 2], [28838, 2], [28883, 2], [88328, 2], [88382, 2], [88238, 2], [88832, 2], [88283, 2], [88823, 2]]\n"
     ]
    },
    {
     "data": {
      "text/plain": [
       "88832"
      ]
     },
     "execution_count": 76,
     "metadata": {},
     "output_type": "execute_result"
    }
   ],
   "source": [
    "solution('32888', 2)"
   ]
  },
  {
   "cell_type": "code",
   "execution_count": null,
   "metadata": {},
   "outputs": [],
   "source": []
  }
 ],
 "metadata": {
  "kernelspec": {
   "display_name": "Python 3",
   "language": "python",
   "name": "python3"
  },
  "language_info": {
   "codemirror_mode": {
    "name": "ipython",
    "version": 3
   },
   "file_extension": ".py",
   "mimetype": "text/x-python",
   "name": "python",
   "nbconvert_exporter": "python",
   "pygments_lexer": "ipython3",
   "version": "3.7.9"
  }
 },
 "nbformat": 4,
 "nbformat_minor": 4
}
